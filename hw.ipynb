{
 "cells": [
  {
   "cell_type": "code",
   "execution_count": 1,
   "metadata": {},
   "outputs": [
    {
     "name": "stdout",
     "output_type": "stream",
     "text": [
      "1\n",
      "2\n",
      "3\n",
      "4\n",
      "5\n",
      "6\n",
      "7\n",
      "8\n",
      "9\n",
      "10\n"
     ]
    }
   ],
   "source": [
    "# write a program to print numbers from 1 to 10 using a for loop\n",
    "numbers =[1,2,3,4,5,6,7,8,9,10]\n",
    "for i in numbers:\n",
    "    print(i)\n"
   ]
  },
  {
   "cell_type": "code",
   "execution_count": 11,
   "metadata": {},
   "outputs": [
    {
     "name": "stdout",
     "output_type": "stream",
     "text": [
      "[0]*1=[0]\n",
      "[0]*2=[0, 0]\n",
      "[0]*3=[0, 0, 0]\n",
      "[0]*4=[0, 0, 0, 0]\n",
      "[0]*5=[0, 0, 0, 0, 0]\n",
      "[0]*6=[0, 0, 0, 0, 0, 0]\n",
      "[0]*7=[0, 0, 0, 0, 0, 0, 0]\n",
      "[0]*8=[0, 0, 0, 0, 0, 0, 0, 0]\n",
      "[0]*9=[0, 0, 0, 0, 0, 0, 0, 0, 0]\n",
      "[0]*10=[0, 0, 0, 0, 0, 0, 0, 0, 0, 0]\n"
     ]
    }
   ],
   "source": [
    "# write a program to print the multiplication table if a given number using a while loop\n",
    "i=1\n",
    "num=[0]\n",
    "while i<=10:\n",
    "    print(f\"{num}*{i}={num*i}\")\n",
    "    i+=1"
   ]
  },
  {
   "cell_type": "code",
   "execution_count": 18,
   "metadata": {},
   "outputs": [
    {
     "name": "stdout",
     "output_type": "stream",
     "text": [
      "2550\n"
     ]
    }
   ],
   "source": [
    "# write a program to find the sum of all even numbers between 1 and 100 using a for loop\n",
    "sum = 0\n",
    "for i in range(1,101):\n",
    "    if i % 2 == 0:\n",
    "        sum +=i\n",
    "print(sum)\n",
    "\n",
    "\n",
    "\n"
   ]
  },
  {
   "cell_type": "code",
   "execution_count": 20,
   "metadata": {},
   "outputs": [
    {
     "name": "stdout",
     "output_type": "stream",
     "text": [
      "12 is not a prime number\n"
     ]
    }
   ],
   "source": [
    "# writr a program to check if a given numbers is prime or not using a while loop\n",
    "num =int(input(\"enter a number\"))\n",
    "is_prime = False\n",
    "for i in range(2,num):\n",
    "    if num % i==0:\n",
    "        is_prime = False\n",
    "        break\n",
    "if is_prime:\n",
    "    print(num,\"is a prime number\")\n",
    "else:\n",
    "    print(num,\"is not a prime number\")"
   ]
  },
  {
   "cell_type": "code",
   "execution_count": 26,
   "metadata": {},
   "outputs": [
    {
     "name": "stdout",
     "output_type": "stream",
     "text": [
      "the factorial of 12 is 479001600\n"
     ]
    }
   ],
   "source": [
    "# write a program to calculate the factorial of a number using a for loop\n",
    "factorial = 1\n",
    "for i in range(1,num+1):\n",
    "    factorial*=i\n",
    "print(\"the factorial of\",num,\"is\",factorial)"
   ]
  },
  {
   "cell_type": "code",
   "execution_count": 2,
   "metadata": {},
   "outputs": [
    {
     "name": "stdout",
     "output_type": "stream",
     "text": [
      "01123581321345589"
     ]
    }
   ],
   "source": [
    "# write a program to print a fibonacci series up to a given limit using a for loop \n",
    "n= int(input(\"enter a number\"))\n",
    "a,b=0,1\n",
    "for i in range(n):\n",
    "    print(a,end=\"\")\n",
    "    a,b=b,a+b"
   ]
  },
  {
   "cell_type": "code",
   "execution_count": 7,
   "metadata": {},
   "outputs": [],
   "source": [
    "# write a program to find the largest element in an array using a for loop\n",
    "arr =[12,45,7,23,56,37,64]\n",
    "num= arr[0]\n",
    "if num> largest:\n",
    "    largest= num\n",
    "    print(arr)\n"
   ]
  },
  {
   "cell_type": "code",
   "execution_count": 6,
   "metadata": {},
   "outputs": [
    {
     "ename": "SyntaxError",
     "evalue": "invalid syntax (479888477.py, line 2)",
     "output_type": "error",
     "traceback": [
      "\u001b[1;36m  Cell \u001b[1;32mIn[6], line 2\u001b[1;36m\u001b[0m\n\u001b[1;33m    i= [1,2,3,,10,17,18]\u001b[0m\n\u001b[1;37m              ^\u001b[0m\n\u001b[1;31mSyntaxError\u001b[0m\u001b[1;31m:\u001b[0m invalid syntax\n"
     ]
    }
   ],
   "source": [
    "# write a program to reverse a given string using a while\n",
    "i= [1,2,3,,10,17,18]\n",
    "while i>0:\n",
    "    print(i)\n",
    "    \n"
   ]
  },
  {
   "cell_type": "code",
   "execution_count": 8,
   "metadata": {},
   "outputs": [
    {
     "name": "stdout",
     "output_type": "stream",
     "text": [
      "ASCII value ofAis65\n",
      "ASCII value ofBis66\n",
      "ASCII value ofCis67\n",
      "ASCII value ofDis68\n",
      "ASCII value ofEis69\n"
     ]
    }
   ],
   "source": [
    "# write a program to print the ASCII values of all uppercase letters using a for loop\n",
    "for i in range(65,70):\n",
    "    print(f\"ASCII value of{chr(i)}is{i}\")"
   ]
  },
  {
   "cell_type": "code",
   "execution_count": 3,
   "metadata": {},
   "outputs": [
    {
     "name": "stdout",
     "output_type": "stream",
     "text": [
      "hello is not a palidrome\n"
     ]
    }
   ],
   "source": [
    "# write a program to check if a given string is a palindrome using a for loop\n",
    "user_input=input(\"enter a string:\")\n",
    "is_palidrome=True\n",
    "for i in range(len(user_input)//2):\n",
    "    if user_input[i]!=user_input[-i-1]:\n",
    "        is_palidrome = False\n",
    "    break\n",
    "if is_palidrome:\n",
    "    print(user_input,\"is a palidrome\")\n",
    "else:\n",
    "    print(user_input,\"is not a palidrome\")"
   ]
  },
  {
   "cell_type": "code",
   "execution_count": 3,
   "metadata": {},
   "outputs": [
    {
     "ename": "SyntaxError",
     "evalue": "invalid syntax (536620852.py, line 4)",
     "output_type": "error",
     "traceback": [
      "\u001b[1;36m  Cell \u001b[1;32mIn[3], line 4\u001b[1;36m\u001b[0m\n\u001b[1;33m    total+=:numbers\u001b[0m\n\u001b[1;37m           ^\u001b[0m\n\u001b[1;31mSyntaxError\u001b[0m\u001b[1;31m:\u001b[0m invalid syntax\n"
     ]
    }
   ],
   "source": [
    "# write a program to calculate the average of a list of numbers using a for loop\n",
    "numbers =[10,20,30,40,50]\n",
    "total = 0\n",
    "total+=numbers\n",
    "average = total/len(numbers)\n",
    "print(average)\n"
   ]
  },
  {
   "cell_type": "code",
   "execution_count": 5,
   "metadata": {},
   "outputs": [
    {
     "name": "stdout",
     "output_type": "stream",
     "text": [
      "the smallest element in the array is: 7\n"
     ]
    }
   ],
   "source": [
    "# write a program to find the smallest element in an array using a while loop\n",
    "arr=[12,45,7,23,56,89,34]\n",
    "smallest = arr[0]\n",
    "i=1\n",
    "while i<len(arr):\n",
    "    if arr[i]<smallest:\n",
    "        smallest = arr[i]\n",
    "    i+=1\n",
    "print(\"the smallest element in the array is:\",smallest)\n"
   ]
  },
  {
   "cell_type": "markdown",
   "metadata": {},
   "source": [
    "strings"
   ]
  },
  {
   "cell_type": "code",
   "execution_count": 8,
   "metadata": {},
   "outputs": [
    {
     "name": "stdout",
     "output_type": "stream",
     "text": [
      "hello world\n"
     ]
    }
   ],
   "source": [
    "# create a string and print it\n",
    "str=(\"hello world\")\n",
    "print(str)\n"
   ]
  },
  {
   "cell_type": "code",
   "execution_count": 4,
   "metadata": {},
   "outputs": [
    {
     "name": "stdout",
     "output_type": "stream",
     "text": [
      "lucknow\n",
      "7\n"
     ]
    }
   ],
   "source": [
    "# take a string input and print its's length\n",
    "word= \"lucknow\"\n",
    "print(word)\n",
    "print(len(word))\n",
    "\n",
    "\n",
    "\n"
   ]
  },
  {
   "cell_type": "code",
   "execution_count": 20,
   "metadata": {},
   "outputs": [
    {
     "name": "stdout",
     "output_type": "stream",
     "text": [
      "great\n"
     ]
    }
   ],
   "source": [
    "#print the last world of the string \"python is great\" using slices\n",
    "name = \"python is great\"\n",
    "print(name[-5:])\n",
    "\n"
   ]
  },
  {
   "cell_type": "code",
   "execution_count": 7,
   "metadata": {},
   "outputs": [
    {
     "name": "stdout",
     "output_type": "stream",
     "text": [
      "python\n",
      " is \n",
      " everywhere\n"
     ]
    }
   ],
   "source": [
    "# print the each word in diffrent lines of string \"python is everywhere\"\n",
    "word =\"python is everywhere\"\n",
    "fword=word[:6]\n",
    "lword=word[6:-10]\n",
    "mword=word[9:]\n",
    "print(fword)\n",
    "print(lword)\n",
    "print(mword)\n"
   ]
  },
  {
   "cell_type": "code",
   "execution_count": 8,
   "metadata": {},
   "outputs": [
    {
     "name": "stdout",
     "output_type": "stream",
     "text": [
      "dlrow olleh\n"
     ]
    }
   ],
   "source": [
    "# print the string \"hello world\" in reverse\n",
    "word = \"hello world\"\n",
    "print(word[::-1])\n"
   ]
  },
  {
   "cell_type": "code",
   "execution_count": 9,
   "metadata": {},
   "outputs": [
    {
     "name": "stdout",
     "output_type": "stream",
     "text": [
      "upper: HOW ARE YOU\n"
     ]
    }
   ],
   "source": [
    "#  convert the string \"how are you\" in uppercase\n",
    "quote=\"how are you\"\n",
    "print(\"upper:\",quote.upper())\n"
   ]
  },
  {
   "cell_type": "code",
   "execution_count": 10,
   "metadata": {},
   "outputs": [
    {
     "name": "stdout",
     "output_type": "stream",
     "text": [
      "lower: how is it going\n"
     ]
    }
   ],
   "source": [
    "# convert the string\"How Is It Going?\" in lowercase\n",
    "quote=\"How Is It Going\"\n",
    "print(\"lower:\",quote.lower())"
   ]
  },
  {
   "cell_type": "code",
   "execution_count": null,
   "metadata": {},
   "outputs": [
    {
     "ename": "",
     "evalue": "",
     "output_type": "error",
     "traceback": [
      "\u001b[1;31mRunning cells with 'base (Python 3.12.4)' requires the ipykernel package.\n",
      "\u001b[1;31mRun the following command to install 'ipykernel' into the Python environment. \n",
      "\u001b[1;31mCommand: 'conda install -n base ipykernel --update-deps --force-reinstall'"
     ]
    }
   ],
   "source": [
    "# join the following list by spaces() and print the result\n",
    "# words =[\"python\",\"is\",\"esay\",\"to\",\"learn\"]\n",
    "words =[\"python\",\"is\",\"esay\",\"to\",\"learn\"] \n",
    "result =\" \".join(words)+\" \"+ my_string\n",
    "print(result)\n",
    "\n"
   ]
  },
  {
   "cell_type": "code",
   "execution_count": null,
   "metadata": {},
   "outputs": [],
   "source": [
    "\n"
   ]
  },
  {
   "cell_type": "code",
   "execution_count": null,
   "metadata": {},
   "outputs": [],
   "source": []
  }
 ],
 "metadata": {
  "kernelspec": {
   "display_name": "base",
   "language": "python",
   "name": "python3"
  },
  "language_info": {
   "codemirror_mode": {
    "name": "ipython",
    "version": 3
   },
   "file_extension": ".py",
   "mimetype": "text/x-python",
   "name": "python",
   "nbconvert_exporter": "python",
   "pygments_lexer": "ipython3",
   "version": "3.12.4"
  }
 },
 "nbformat": 4,
 "nbformat_minor": 2
}
