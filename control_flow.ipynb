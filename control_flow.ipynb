{
 "cells": [
  {
   "cell_type": "markdown",
   "metadata": {},
   "source": [
    "# control flow\n",
    "### condition\n",
    "- if\n",
    "- if else\n",
    "- if ladder\n",
    "- match case\n",
    "- nested loop\n",
    "\n",
    "# loops\n",
    "- for loop\n",
    "- while loop"
   ]
  },
  {
   "cell_type": "code",
   "execution_count": 1,
   "metadata": {},
   "outputs": [
    {
     "name": "stdout",
     "output_type": "stream",
     "text": [
      "😊 very nice\n",
      "name exists\n"
     ]
    }
   ],
   "source": [
    "x = 10\n",
    "if x >= 5:\n",
    "    print(\"😊 very nice\")\n",
    "\n",
    "y = 2\n",
    "if x > 5 and y > 5:\n",
    "    print(\"😁🙌 no bug here\")\n",
    "\n",
    "name = \"savri\"\n",
    "if name:\n",
    "    print(\"name exists\")"
   ]
  },
  {
   "cell_type": "code",
   "execution_count": 2,
   "metadata": {},
   "outputs": [
    {
     "name": "stdout",
     "output_type": "stream",
     "text": [
      "a is not empty\n"
     ]
    }
   ],
   "source": [
    "a = \"apple\"\n",
    "if len(a):\n",
    "    print(\"a is not empty\")\n",
    "else:\n",
    "    print(\"a is empty\")    \n"
   ]
  },
  {
   "cell_type": "code",
   "execution_count": 2,
   "metadata": {},
   "outputs": [
    {
     "name": "stdout",
     "output_type": "stream",
     "text": [
      "a is the greatest\n"
     ]
    }
   ],
   "source": [
    "# if elif ladder\n",
    "a = 5\n",
    "b = 2\n",
    "c = 3\n",
    "if a > b and a > c:\n",
    "    print(\"a is the greatest\")\n",
    "elif b > a and b > c:\n",
    "    print(\"b is the greatest\")\n",
    "else:\n",
    "    print(\"c is the greates\")"
   ]
  },
  {
   "cell_type": "code",
   "execution_count": 3,
   "metadata": {},
   "outputs": [
    {
     "name": "stdout",
     "output_type": "stream",
     "text": [
      "students marks = 86\n",
      "students grade = B\n"
     ]
    }
   ],
   "source": [
    "marks = int(input(\"enter the marks\"))\n",
    "if marks >= 90:\n",
    "    grade = \"A\"\n",
    "elif marks >= 75:\n",
    "    grade =\"B\"\n",
    "elif marks>= 60:\n",
    "    grade =\"C\"\n",
    "elif marks >=50:\n",
    "    grade =\"D\"\n",
    "else:\n",
    "    grade =\"F\"\n",
    "print(f\"students marks = {marks}\")\n",
    "print(f\"students grade = {grade}\")\n",
    "\n"
   ]
  },
  {
   "cell_type": "code",
   "execution_count": 7,
   "metadata": {},
   "outputs": [
    {
     "name": "stdout",
     "output_type": "stream",
     "text": [
      "you are too stupid\n"
     ]
    }
   ],
   "source": [
    "# match case\n",
    "ans = input(\"What is the capital of india\")\n",
    "match ans:\n",
    "    case \"Lucknow\"| \"lucknow\":\n",
    "        print(\"you are too stupid\")\n",
    "    case \"Delhi\":\n",
    "        print(\"You are correct\")\n",
    "    case \"Culcutta\":\n",
    "        print(\"You must be under a stone\")\n",
    "    case \"Shimla\":\n",
    "        print(\"This is free india\")\n",
    "    case _:\n",
    "        print(\"You are not from India\")\n"
   ]
  },
  {
   "cell_type": "code",
   "execution_count": 11,
   "metadata": {},
   "outputs": [
    {
     "name": "stdout",
     "output_type": "stream",
     "text": [
      " chai ki dukan\n",
      "1. chai 10 Rs\n",
      "2. Bun Makkhan 30 Rs\n",
      "3. cutting 5 Rs\n",
      "4.samosa 10Rs\n",
      "you have selected cutting\n"
     ]
    }
   ],
   "source": [
    "print(\" chai ki dukan\")\n",
    "print(\"1. chai 10 Rs\")\n",
    "print(\"2. Bun Makkhan 30 Rs\")\n",
    "print(\"3. cutting 5 Rs\")\n",
    "print(\"4.samosa 10Rs\")\n",
    "choice = int(input(\"enter your choice\"))\n",
    "match choice:\n",
    "    case 1:\n",
    "        print(\"You have selected chai\")\n",
    "    case 2:\n",
    "        print(\"You have selected bun makkhan\")\n",
    "    case 3:\n",
    "        print(\"you have selected cutting\")\n",
    "    case 4:\n",
    "        print(\"You have selected Samosa\")\n",
    "    case _:\n",
    "        print(\"kahi aur jao bhaiya\")\n",
    "\n",
    "\n",
    "\n"
   ]
  },
  {
   "cell_type": "markdown",
   "metadata": {},
   "source": [
    "# loops\n",
    "- step based loops(for loop)\n",
    "- condition based loop(while loop)"
   ]
  },
  {
   "cell_type": "code",
   "execution_count": 1,
   "metadata": {},
   "outputs": [
    {
     "name": "stdout",
     "output_type": "stream",
     "text": [
      "1\n",
      "2\n",
      "3\n",
      "4\n",
      "5\n",
      "6\n"
     ]
    }
   ],
   "source": [
    "numbers = [1,2,3,4,5,6]\n",
    "for i in numbers:\n",
    "    print(i)"
   ]
  },
  {
   "cell_type": "code",
   "execution_count": 2,
   "metadata": {},
   "outputs": [
    {
     "name": "stdout",
     "output_type": "stream",
     "text": [
      "sony\n",
      "apple\n",
      "hp\n",
      "samsung\n"
     ]
    }
   ],
   "source": [
    "brands=[\"sony\",\"apple\",\"hp\",\"samsung\"]\n",
    "for name in brands:\n",
    "    print(name)"
   ]
  },
  {
   "cell_type": "markdown",
   "metadata": {},
   "source": [
    "iterable\n",
    "- list\n",
    "- str\n",
    "- tuple\n",
    "- set\n",
    "- dict\n",
    "- range\n",
    "- generator"
   ]
  },
  {
   "cell_type": "code",
   "execution_count": 3,
   "metadata": {},
   "outputs": [
    {
     "name": "stdout",
     "output_type": "stream",
     "text": [
      "j\n",
      "o\n",
      "u\n",
      "r\n",
      "n\n",
      "e\n",
      "y\n"
     ]
    }
   ],
   "source": [
    "word = \"journey\"\n",
    "for ch in word:\n",
    "    print(ch)"
   ]
  },
  {
   "cell_type": "code",
   "execution_count": 4,
   "metadata": {},
   "outputs": [
    {
     "name": "stdout",
     "output_type": "stream",
     "text": [
      "1\n",
      "2\n",
      "3\n",
      "4\n",
      "5\n",
      "6\n"
     ]
    }
   ],
   "source": [
    "for i in {1,2,3,4,5,6}:\n",
    "    print(i)"
   ]
  },
  {
   "cell_type": "markdown",
   "metadata": {},
   "source": [
    "`range` function for the `for loop`\n",
    "\n",
    "`range(stop)` - 0 to stop -1\n",
    "\n",
    "`range(start,stop)` - start to stop -1\n",
    "\n",
    "`range(start,stop,step)`- start to stop -1 with step"
   ]
  },
  {
   "cell_type": "code",
   "execution_count": 6,
   "metadata": {},
   "outputs": [
    {
     "name": "stdout",
     "output_type": "stream",
     "text": [
      "0 1 2 3 4 5 6 7 8 9 "
     ]
    }
   ],
   "source": [
    "for i in range(10):\n",
    "    print(i,end=\" \")\n"
   ]
  },
  {
   "cell_type": "code",
   "execution_count": 7,
   "metadata": {},
   "outputs": [
    {
     "name": "stdout",
     "output_type": "stream",
     "text": [
      "5 7 9 11 13 "
     ]
    }
   ],
   "source": [
    "for i in range(5,15,2):\n",
    "    print(i,end=\" \")"
   ]
  },
  {
   "cell_type": "code",
   "execution_count": 8,
   "metadata": {},
   "outputs": [
    {
     "name": "stdout",
     "output_type": "stream",
     "text": [
      "10 9 8 7 6 5 4 3 2 1 "
     ]
    }
   ],
   "source": [
    "# reverse loop\n",
    "for i in range(10,0,-1):\n",
    "    print(i, end=\" \")"
   ]
  },
  {
   "cell_type": "code",
   "execution_count": 10,
   "metadata": {},
   "outputs": [
    {
     "name": "stdout",
     "output_type": "stream",
     "text": [
      "-5 -4 -3 -2 -1 0 1 2 3 4 5 "
     ]
    }
   ],
   "source": [
    "for i in range(-5,6):\n",
    "    print(i, end=\" \")"
   ]
  },
  {
   "cell_type": "code",
   "execution_count": 12,
   "metadata": {},
   "outputs": [
    {
     "name": "stdout",
     "output_type": "stream",
     "text": [
      "4950\n"
     ]
    }
   ],
   "source": [
    "# sum of all numbers from 1 - 100\n",
    "total= 0\n",
    "for i in range(1,100,1):\n",
    "    total= total+i\n",
    "print(total)"
   ]
  },
  {
   "cell_type": "code",
   "execution_count": 13,
   "metadata": {},
   "outputs": [
    {
     "data": {
      "text/plain": [
       "5050"
      ]
     },
     "execution_count": 13,
     "metadata": {},
     "output_type": "execute_result"
    }
   ],
   "source": [
    "sum(list(range(1,101)))"
   ]
  },
  {
   "cell_type": "code",
   "execution_count": 15,
   "metadata": {},
   "outputs": [
    {
     "name": "stdout",
     "output_type": "stream",
     "text": [
      " \n"
     ]
    }
   ],
   "source": [
    "# find the largest word in the list\n",
    "word =[\"ben\",\"satyam\",\"maniratam\",\"roy\",\"soham\"]\n",
    "word =\" \"\n",
    "for item in word:\n",
    "    # print(f\"{word}={len(word)} and {item}={len(item)}\")\n",
    "    if len(item) > len(word):\n",
    "        word=item\n",
    "        # print(f\"keeping {item}into word\")\n",
    "print(word)\n",
    "    "
   ]
  },
  {
   "cell_type": "code",
   "execution_count": 23,
   "metadata": {},
   "outputs": [
    {
     "name": "stdout",
     "output_type": "stream",
     "text": [
      "0 1 2 3 4 the end\n"
     ]
    }
   ],
   "source": [
    "for i in range(10):\n",
    "    if i == 5:\n",
    "        break\n",
    "    print(i,end=\" \")\n",
    "print(\"the end\")"
   ]
  },
  {
   "cell_type": "code",
   "execution_count": 20,
   "metadata": {},
   "outputs": [
    {
     "name": "stdout",
     "output_type": "stream",
     "text": [
      "1\n",
      "2\n",
      "3\n",
      "4\n",
      "5\n",
      "6\n",
      "2\n",
      "3\n"
     ]
    }
   ],
   "source": [
    "data = [1,2,3,4,5,6,2,3]\n",
    "for i in data:\n",
    "    if i == 0:\n",
    "        print(\"we found some crap\")\n",
    "        break\n",
    "    print(i)\n"
   ]
  },
  {
   "cell_type": "code",
   "execution_count": 21,
   "metadata": {},
   "outputs": [
    {
     "name": "stdout",
     "output_type": "stream",
     "text": [
      "1\n",
      "4\n",
      "9\n",
      "16\n",
      "25\n",
      "4\n",
      "9\n"
     ]
    }
   ],
   "source": [
    "data =[1,2,3,4,5,2,3]\n",
    "for i in data:\n",
    "    if i == 0:\n",
    "        continue # skip to next item\n",
    "    print(i**2)\n"
   ]
  },
  {
   "cell_type": "markdown",
   "metadata": {},
   "source": [
    "`enumerate`(), `zip`()"
   ]
  },
  {
   "cell_type": "code",
   "execution_count": 25,
   "metadata": {},
   "outputs": [
    {
     "name": "stdout",
     "output_type": "stream",
     "text": [
      "0 apple\n",
      "1 banana\n",
      "2 mango\n",
      "3 kiwi\n"
     ]
    }
   ],
   "source": [
    "fruits =[\"apple\",\"banana\",\"mango\",\"kiwi\"]\n",
    "for idx, name in enumerate(fruits):\n",
    "    print(idx, name)"
   ]
  },
  {
   "cell_type": "code",
   "execution_count": 26,
   "metadata": {},
   "outputs": [
    {
     "name": "stdout",
     "output_type": "stream",
     "text": [
      "0\n",
      "33\n",
      "88\n",
      "165\n",
      "48\n",
      "65\n"
     ]
    }
   ],
   "source": [
    "numbers = [22,33,44,55,12,13]\n",
    "for idx, num in enumerate(numbers):\n",
    "    print(num*idx)"
   ]
  },
  {
   "cell_type": "code",
   "execution_count": 27,
   "metadata": {},
   "outputs": [
    {
     "name": "stdout",
     "output_type": "stream",
     "text": [
      "12\n",
      "24\n",
      "36\n",
      "48\n",
      "60\n"
     ]
    }
   ],
   "source": [
    "#zip\n",
    "x =[1,2,3,4,5]\n",
    "y =[11,22,33,44,55]\n",
    "for i,j in zip(x,y):\n",
    "    print(i + j)"
   ]
  },
  {
   "cell_type": "code",
   "execution_count": 28,
   "metadata": {},
   "outputs": [
    {
     "name": "stdout",
     "output_type": "stream",
     "text": [
      "12\n",
      "15\n",
      "18\n"
     ]
    }
   ],
   "source": [
    "x =[1,2,3]\n",
    "y =[4,5,6]\n",
    "z =[7,8,9,10]\n",
    "for i,j,k in zip(x,y,z):\n",
    "    print(i+j+k)"
   ]
  },
  {
   "cell_type": "code",
   "execution_count": 30,
   "metadata": {},
   "outputs": [
    {
     "name": "stdout",
     "output_type": "stream",
     "text": [
      "12 j\n",
      "15 e\n",
      "18 l\n"
     ]
    }
   ],
   "source": [
    "x =[1,2,3]\n",
    "y =[4,5,6]\n",
    "z =[7,8,9,10]\n",
    "w =\"jello\"\n",
    "for i,j,k,l  in zip(x,y,z,w):\n",
    "    print(i+j+k,l)"
   ]
  },
  {
   "cell_type": "code",
   "execution_count": 31,
   "metadata": {},
   "outputs": [
    {
     "name": "stdout",
     "output_type": "stream",
     "text": [
      "i\n",
      "i\n",
      "a\n",
      "e\n",
      "o\n",
      "o\n",
      "a\n"
     ]
    }
   ],
   "source": [
    "# count the number of vowels in a sentence\n",
    "sentence = \"this is a very good day\"\n",
    "for i in sentence:\n",
    "    if i in \"aeiouAEIOU\":\n",
    "        print(i)"
   ]
  },
  {
   "cell_type": "code",
   "execution_count": 32,
   "metadata": {},
   "outputs": [
    {
     "name": "stdout",
     "output_type": "stream",
     "text": [
      "7\n"
     ]
    }
   ],
   "source": [
    "# count the number of vowels in a sentence\n",
    "sentence = \"this is a very good day\"\n",
    "count=0\n",
    "for ch in sentence:\n",
    "    if ch in \"aeiou\":\n",
    "        count +=1\n",
    "print(count)"
   ]
  },
  {
   "cell_type": "markdown",
   "metadata": {},
   "source": [
    "while loop"
   ]
  },
  {
   "cell_type": "code",
   "execution_count": 1,
   "metadata": {},
   "outputs": [
    {
     "name": "stdout",
     "output_type": "stream",
     "text": [
      "10\n",
      "8\n",
      "6\n",
      "4\n",
      "2\n"
     ]
    }
   ],
   "source": [
    "i = 10\n",
    "while i>0:\n",
    "    print(i)\n",
    "    i-=2"
   ]
  },
  {
   "cell_type": "code",
   "execution_count": 7,
   "metadata": {},
   "outputs": [
    {
     "name": "stdout",
     "output_type": "stream",
     "text": [
      "1234 5\n",
      "123 9\n",
      "12 12\n",
      "1 14\n",
      "0 15\n",
      "ans:15\n"
     ]
    }
   ],
   "source": [
    "# sum of all digits\n",
    "number =12345\n",
    "result = 0\n",
    "while number > 0:\n",
    "    result += number % 10\n",
    "    number//= 10\n",
    "    print(number, result)\n",
    "print(f\"ans:{result}\")"
   ]
  },
  {
   "cell_type": "code",
   "execution_count": 10,
   "metadata": {},
   "outputs": [
    {
     "name": "stdout",
     "output_type": "stream",
     "text": [
      "total =>27\n"
     ]
    }
   ],
   "source": [
    "total = 0\n",
    "while True:\n",
    "    num = input(\"enter value:\")\n",
    "    if num:\n",
    "        total += int(num)\n",
    "    else:\n",
    "        break\n",
    "print(f\"total =>{total}\")"
   ]
  },
  {
   "cell_type": "markdown",
   "metadata": {},
   "source": [
    "`for-else` and `while-else`"
   ]
  },
  {
   "cell_type": "code",
   "execution_count": 11,
   "metadata": {},
   "outputs": [
    {
     "name": "stdout",
     "output_type": "stream",
     "text": [
      "0\n",
      "1\n",
      "2\n",
      "3\n",
      "4\n",
      "loop completed\n"
     ]
    }
   ],
   "source": [
    "for i in range(5):\n",
    "    print(i)\n",
    "else:\n",
    "    print(\"loop completed\")"
   ]
  },
  {
   "cell_type": "code",
   "execution_count": 12,
   "metadata": {},
   "outputs": [
    {
     "name": "stdout",
     "output_type": "stream",
     "text": [
      "0\n",
      "1\n",
      "2\n",
      "3\n"
     ]
    }
   ],
   "source": [
    "for i in range(5):\n",
    "    print(i)\n",
    "    if i ==3:\n",
    "        break\n",
    "else:\n",
    "    print(\"loop completed\")"
   ]
  },
  {
   "cell_type": "code",
   "execution_count": 15,
   "metadata": {},
   "outputs": [
    {
     "name": "stdout",
     "output_type": "stream",
     "text": [
      "12/2 = 0\n",
      "not prime 12😉\n"
     ]
    }
   ],
   "source": [
    "number = int(input(\"enter an number:\"))\n",
    "for i in range(2, number):\n",
    "    print(f\"{number}/{i} = {number%i}\")\n",
    "    if number% i== 0:\n",
    "        print(f\"not prime {number}😉\")\n",
    "        break\n",
    "else:\n",
    "    print(f\"😎prime{number}\")\n"
   ]
  },
  {
   "cell_type": "code",
   "execution_count": 17,
   "metadata": {},
   "outputs": [
    {
     "name": "stdout",
     "output_type": "stream",
     "text": [
      "144\n",
      "91125\n",
      "20151121\n",
      "2887174368\n",
      "148035889\n"
     ]
    }
   ],
   "source": [
    "x =[12,45,67,78,23]\n",
    "y =[2,3,4,5,6,2]\n",
    "for i,j in zip(x,y):\n",
    "    print(i**j)"
   ]
  },
  {
   "cell_type": "code",
   "execution_count": null,
   "metadata": {},
   "outputs": [],
   "source": []
  }
 ],
 "metadata": {
  "kernelspec": {
   "display_name": "base",
   "language": "python",
   "name": "python3"
  },
  "language_info": {
   "codemirror_mode": {
    "name": "ipython",
    "version": 3
   },
   "file_extension": ".py",
   "mimetype": "text/x-python",
   "name": "python",
   "nbconvert_exporter": "python",
   "pygments_lexer": "ipython3",
   "version": "3.12.4"
  }
 },
 "nbformat": 4,
 "nbformat_minor": 2
}
