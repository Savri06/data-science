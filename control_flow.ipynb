{
 "cells": [
  {
   "cell_type": "markdown",
   "metadata": {},
   "source": [
    "# control flow\n",
    "### condition\n",
    "- if\n",
    "- if else\n",
    "- if ladder\n",
    "- match case\n",
    "- nested loop\n",
    "\n",
    "# loops\n",
    "- for loop\n",
    "- while loop"
   ]
  },
  {
   "cell_type": "code",
   "execution_count": 1,
   "metadata": {},
   "outputs": [
    {
     "name": "stdout",
     "output_type": "stream",
     "text": [
      "😊 very nice\n",
      "name exists\n"
     ]
    }
   ],
   "source": [
    "x = 10\n",
    "if x >= 5:\n",
    "    print(\"😊 very nice\")\n",
    "\n",
    "y = 2\n",
    "if x > 5 and y > 5:\n",
    "    print(\"😁🙌 no bug here\")\n",
    "\n",
    "name = \"savri\"\n",
    "if name:\n",
    "    print(\"name exists\")"
   ]
  },
  {
   "cell_type": "code",
   "execution_count": 2,
   "metadata": {},
   "outputs": [
    {
     "name": "stdout",
     "output_type": "stream",
     "text": [
      "a is not empty\n"
     ]
    }
   ],
   "source": [
    "a = \"apple\"\n",
    "if len(a):\n",
    "    print(\"a is not empty\")\n",
    "else:\n",
    "    print(\"a is empty\")    \n"
   ]
  },
  {
   "cell_type": "code",
   "execution_count": 2,
   "metadata": {},
   "outputs": [
    {
     "name": "stdout",
     "output_type": "stream",
     "text": [
      "a is the greatest\n"
     ]
    }
   ],
   "source": [
    "# if elif ladder\n",
    "a = 5\n",
    "b = 2\n",
    "c = 3\n",
    "if a > b and a > c:\n",
    "    print(\"a is the greatest\")\n",
    "elif b > a and b > c:\n",
    "    print(\"b is the greatest\")\n",
    "else:\n",
    "    print(\"c is the greates\")"
   ]
  },
  {
   "cell_type": "code",
   "execution_count": 3,
   "metadata": {},
   "outputs": [
    {
     "name": "stdout",
     "output_type": "stream",
     "text": [
      "students marks = 86\n",
      "students grade = B\n"
     ]
    }
   ],
   "source": [
    "marks = int(input(\"enter the marks\"))\n",
    "if marks >= 90:\n",
    "    grade = \"A\"\n",
    "elif marks >= 75:\n",
    "    grade =\"B\"\n",
    "elif marks>= 60:\n",
    "    grade =\"C\"\n",
    "elif marks >=50:\n",
    "    grade =\"D\"\n",
    "else:\n",
    "    grade =\"F\"\n",
    "print(f\"students marks = {marks}\")\n",
    "print(f\"students grade = {grade}\")\n",
    "\n"
   ]
  },
  {
   "cell_type": "code",
   "execution_count": 7,
   "metadata": {},
   "outputs": [
    {
     "name": "stdout",
     "output_type": "stream",
     "text": [
      "you are too stupid\n"
     ]
    }
   ],
   "source": [
    "# match case\n",
    "ans = input(\"What is the capital of india\")\n",
    "match ans:\n",
    "    case \"Lucknow\"| \"lucknow\":\n",
    "        print(\"you are too stupid\")\n",
    "    case \"Delhi\":\n",
    "        print(\"You are correct\")\n",
    "    case \"Culcutta\":\n",
    "        print(\"You must be under a stone\")\n",
    "    case \"Shimla\":\n",
    "        print(\"This is free india\")\n",
    "    case _:\n",
    "        print(\"You are not from India\")\n"
   ]
  },
  {
   "cell_type": "code",
   "execution_count": 11,
   "metadata": {},
   "outputs": [
    {
     "name": "stdout",
     "output_type": "stream",
     "text": [
      " chai ki dukan\n",
      "1. chai 10 Rs\n",
      "2. Bun Makkhan 30 Rs\n",
      "3. cutting 5 Rs\n",
      "4.samosa 10Rs\n",
      "you have selected cutting\n"
     ]
    }
   ],
   "source": [
    "print(\" chai ki dukan\")\n",
    "print(\"1. chai 10 Rs\")\n",
    "print(\"2. Bun Makkhan 30 Rs\")\n",
    "print(\"3. cutting 5 Rs\")\n",
    "print(\"4.samosa 10Rs\")\n",
    "choice = int(input(\"enter your choice\"))\n",
    "match choice:\n",
    "    case 1:\n",
    "        print(\"You have selected chai\")\n",
    "    case 2:\n",
    "        print(\"You have selected bun makkhan\")\n",
    "    case 3:\n",
    "        print(\"you have selected cutting\")\n",
    "    case 4:\n",
    "        print(\"You have selected Samosa\")\n",
    "    case _:\n",
    "        print(\"kahi aur jao bhaiya\")\n",
    "\n",
    "\n",
    "\n"
   ]
  },
  {
   "cell_type": "code",
   "execution_count": null,
   "metadata": {},
   "outputs": [],
   "source": []
  }
 ],
 "metadata": {
  "kernelspec": {
   "display_name": "base",
   "language": "python",
   "name": "python3"
  },
  "language_info": {
   "codemirror_mode": {
    "name": "ipython",
    "version": 3
   },
   "file_extension": ".py",
   "mimetype": "text/x-python",
   "name": "python",
   "nbconvert_exporter": "python",
   "pygments_lexer": "ipython3",
   "version": "3.12.4"
  }
 },
 "nbformat": 4,
 "nbformat_minor": 2
}
