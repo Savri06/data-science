{
 "cells": [
  {
   "cell_type": "markdown",
   "metadata": {},
   "source": [
    "Data Structure - list\n",
    "\n",
    "1. Creating\n",
    "2. Indexing and Slicing(same as string)\n",
    "3. Method - 11 methods\n",
    "4. List comprehension"
   ]
  },
  {
   "cell_type": "code",
   "execution_count": 4,
   "metadata": {},
   "outputs": [],
   "source": [
    "x = [] # empty list\n",
    "num_list = [1,2,3,4,50] # \n",
    "word_list = [\"this\",\"that\",\"of\",\"what\"] # list of strings\n",
    "bool_list = [True,True ,False] # list of boolean\n",
    "mixed_list = [1,2,\"three\",False] # list of mixed\n",
    "nested_list = [[1,2,3],[4,5,6]]"
   ]
  },
  {
   "cell_type": "code",
   "execution_count": 3,
   "metadata": {},
   "outputs": [
    {
     "name": "stdout",
     "output_type": "stream",
     "text": [
      "[1, 4, 7, 10, 13]\n",
      "[[1, 2, 3], [1, 3, 2], [3, 2, 1]]\n",
      "[1, 1, 1, 1, 1, 1, 1, 1, 1, 1]\n"
     ]
    }
   ],
   "source": [
    "y = list(range(1,16,3))\n",
    "print(y)\n",
    "a =[1,2,3]\n",
    "b =[1,3,2]\n",
    "c =[3,2,1]\n",
    "mat =[a,b,c] # list from variables\n",
    "print(mat)\n",
    "\n",
    "z =[1] * 10 # duplicated list\n",
    "print(z)"
   ]
  },
  {
   "cell_type": "markdown",
   "metadata": {},
   "source": [
    "Rules for list:\n",
    "1. indexed\n",
    "2. ordered\n",
    "3. mutable\n",
    "4. hetrogenous data types\n",
    "5. can have the duplicate value\n",
    "6. represented with`[]`\n",
    "7. `list()` can used to cast other datastructure to a list"
   ]
  },
  {
   "cell_type": "code",
   "execution_count": 5,
   "metadata": {},
   "outputs": [
    {
     "name": "stdout",
     "output_type": "stream",
     "text": [
      "10\n"
     ]
    }
   ],
   "source": [
    "names = [\"Satwik\", \"Manas\",\"Shiv\",\"Naman\",\"Arpit\",\"Ritesh\",\"Paras\",\"Faheem\",\"Esha\",\"Sachin\"]\n",
    "print(len(names))"
   ]
  },
  {
   "cell_type": "code",
   "execution_count": 7,
   "metadata": {},
   "outputs": [
    {
     "name": "stdout",
     "output_type": "stream",
     "text": [
      "Satwik\n",
      "Sachin\n",
      "Ritesh\n",
      "Naman\n",
      "Manas\n"
     ]
    }
   ],
   "source": [
    "print(names[0])\n",
    "print(names[-1])\n",
    "print(names[5])\n",
    "print(names[3])\n",
    "print(names[1])"
   ]
  },
  {
   "cell_type": "code",
   "execution_count": 10,
   "metadata": {},
   "outputs": [
    {
     "name": "stdout",
     "output_type": "stream",
     "text": [
      "['Satwik', 'Manas', 'Shiv', 'Naman', 'Arpit']\n",
      "Ritesh\n",
      "['Shiv', 'Naman', 'Arpit', 'Ritesh', 'Paras', 'Faheem']\n"
     ]
    }
   ],
   "source": [
    "print(names[:5]) # first 5\n",
    "print(names[-5]) # last 5\n",
    "print(names[2:-2]) #all except first 2 and last 2"
   ]
  },
  {
   "cell_type": "code",
   "execution_count": 9,
   "metadata": {},
   "outputs": [
    {
     "name": "stdout",
     "output_type": "stream",
     "text": [
      "['Sachin', 'Esha', 'Faheem', 'Paras', 'Ritesh', 'Arpit', 'Naman', 'Shiv', 'Manas', 'Satwik']\n",
      "['Satwik', 'Shiv', 'Arpit', 'Paras', 'Esha']\n",
      "['Manas', 'Naman', 'Ritesh', 'Faheem', 'Sachin']\n"
     ]
    }
   ],
   "source": [
    "print(names[::-1]) # reverse\n",
    "print(names[::2]) # even students\n",
    "print(names[1::2]) # odd students"
   ]
  },
  {
   "cell_type": "code",
   "execution_count": 12,
   "metadata": {},
   "outputs": [
    {
     "name": "stdout",
     "output_type": "stream",
     "text": [
      "['Sachin', 'Esha', 'Faheem', 'Paras', 'Ritesh', 'Arpit', 'Naman', 'Shiv', 'Manas', 'Satwik']-['Sachin', 'Esha', 'Faheem', 'Paras', 'Ritesh', 'Arpit', 'Naman', 'Shiv', 'Manas', 'Satwik']-['Sachin', 'Esha', 'Faheem', 'Paras', 'Ritesh', 'Arpit', 'Naman', 'Shiv', 'Manas', 'Satwik']-['Sachin', 'Esha', 'Faheem', 'Paras', 'Ritesh', 'Arpit', 'Naman', 'Shiv', 'Manas', 'Satwik']-['Sachin', 'Esha', 'Faheem', 'Paras', 'Ritesh', 'Arpit', 'Naman', 'Shiv', 'Manas', 'Satwik']-['Sachin', 'Esha', 'Faheem', 'Paras', 'Ritesh', 'Arpit', 'Naman', 'Shiv', 'Manas', 'Satwik']-['Sachin', 'Esha', 'Faheem', 'Paras', 'Ritesh', 'Arpit', 'Naman', 'Shiv', 'Manas', 'Satwik']-['Sachin', 'Esha', 'Faheem', 'Paras', 'Ritesh', 'Arpit', 'Naman', 'Shiv', 'Manas', 'Satwik']-['Sachin', 'Esha', 'Faheem', 'Paras', 'Ritesh', 'Arpit', 'Naman', 'Shiv', 'Manas', 'Satwik']-['Sachin', 'Esha', 'Faheem', 'Paras', 'Ritesh', 'Arpit', 'Naman', 'Shiv', 'Manas', 'Satwik']-"
     ]
    }
   ],
   "source": [
    "for i in names:\n",
    "    print(names[::-1],end=\"-\")"
   ]
  },
  {
   "cell_type": "markdown",
   "metadata": {},
   "source": [
    "list method\n",
    "- add\n",
    "  - extend\n",
    "  - insert\n",
    "  - remove\n",
    "   - remove\n",
    "   - pop\n",
    "   - clear\n",
    "- utility\n",
    "  - reverse\n",
    "  - sort\n",
    "  - count\n",
    "  - index\n",
    "  - copy"
   ]
  },
  {
   "cell_type": "code",
   "execution_count": 13,
   "metadata": {},
   "outputs": [],
   "source": [
    "fruits = [\"apple\",\"banana\",\"cherry\",\"dragonfruit\",\"elderberry\",\"fig\"]"
   ]
  },
  {
   "cell_type": "code",
   "execution_count": 15,
   "metadata": {},
   "outputs": [
    {
     "name": "stdout",
     "output_type": "stream",
     "text": [
      "['apple', 'banana', 'cherry', 'dragonfruit', 'elderberry', 'fig', 'guava', 'guava']\n"
     ]
    }
   ],
   "source": [
    "fruits.append(\"guava\")\n",
    "print(fruits)"
   ]
  },
  {
   "cell_type": "code",
   "execution_count": 17,
   "metadata": {},
   "outputs": [
    {
     "name": "stdout",
     "output_type": "stream",
     "text": [
      "['apple', 'banana', 'cherry', 'dragonfruit', 'elderberry', 'fig', 'guava', 'guava', 'hazelnut', 'iceapple', 'hazelnut', 'iceapple', 'jackfruits']\n"
     ]
    }
   ],
   "source": [
    "fruits.append(\"hazelnut\")\n",
    "fruits.append(\"iceapple\")\n",
    "fruits.append(\"jackfruits\")\n",
    "print(fruits)"
   ]
  },
  {
   "cell_type": "code",
   "execution_count": 18,
   "metadata": {},
   "outputs": [
    {
     "name": "stdout",
     "output_type": "stream",
     "text": [
      "['apple', 'banana', 'cherry', 'dragonfruit', 'elderberry', 'fig', 'guava', 'guava', 'hazelnut', 'iceapple', 'hazelnut', 'iceapple', 'jackfruits', 1, 2, 3]\n"
     ]
    }
   ],
   "source": [
    "fruits.extend([1,2,3])\n",
    "print(fruits)\n"
   ]
  },
  {
   "cell_type": "code",
   "execution_count": 19,
   "metadata": {},
   "outputs": [
    {
     "name": "stdout",
     "output_type": "stream",
     "text": [
      "['apple', 'banana', 'cherry', 'dragonfruit', 'elderberry', 'fig', 'guava', 'guava', 'hazelnut', 'iceapple', 'hazelnut', 'iceapple', 'jackfruits', 1, 2, 3, [1, 2, 3]]\n"
     ]
    }
   ],
   "source": [
    "fruits.append([1,2,3])\n",
    "print(fruits)"
   ]
  },
  {
   "cell_type": "code",
   "execution_count": 24,
   "metadata": {},
   "outputs": [
    {
     "name": "stdout",
     "output_type": "stream",
     "text": [
      "[11, 12, 13, 15, 18, 20]\n"
     ]
    }
   ],
   "source": [
    "x = [11,12,14,15,18,20]\n",
    "# replace value 14 by 13\n",
    "x[2] = 13\n",
    "print(x)"
   ]
  },
  {
   "cell_type": "code",
   "execution_count": 21,
   "metadata": {},
   "outputs": [
    {
     "name": "stdout",
     "output_type": "stream",
     "text": [
      "[11, 12, 13, 14, 15, 18, 20]\n"
     ]
    }
   ],
   "source": [
    "x.insert(3,14)\n",
    "print(x)"
   ]
  },
  {
   "cell_type": "code",
   "execution_count": 25,
   "metadata": {},
   "outputs": [
    {
     "name": "stdout",
     "output_type": "stream",
     "text": [
      "[11, 12, 13, 15, 18, 15, 20]\n"
     ]
    }
   ],
   "source": [
    "x.insert(5,15)\n",
    "print(x)"
   ]
  },
  {
   "cell_type": "code",
   "execution_count": 27,
   "metadata": {},
   "outputs": [
    {
     "name": "stdout",
     "output_type": "stream",
     "text": [
      "[11, 12, 13, 15, 18, 15, 16, 16, 20]\n"
     ]
    }
   ],
   "source": [
    "x.insert(6,16)\n",
    "print(x)"
   ]
  },
  {
   "cell_type": "code",
   "execution_count": 28,
   "metadata": {},
   "outputs": [
    {
     "name": "stdout",
     "output_type": "stream",
     "text": [
      "[11, 12, 13, 15, 18, 15, 16, 16]\n"
     ]
    }
   ],
   "source": [
    "x.remove(20)\n",
    "print(x)"
   ]
  },
  {
   "cell_type": "code",
   "execution_count": 29,
   "metadata": {},
   "outputs": [
    {
     "name": "stdout",
     "output_type": "stream",
     "text": [
      "[1, 1, 2, 2]\n",
      "[2]\n"
     ]
    }
   ],
   "source": [
    "x = [1,1,2,2]\n",
    "print(x)\n",
    "x.remove(1) # first occurance remove\n",
    "x.remove(1)\n",
    "x.remove(2)\n",
    "print(x)"
   ]
  },
  {
   "cell_type": "code",
   "execution_count": 30,
   "metadata": {},
   "outputs": [
    {
     "name": "stdout",
     "output_type": "stream",
     "text": [
      "[1, 2, 3, 4]\n"
     ]
    }
   ],
   "source": [
    "x =[1,2,3,4,5]\n",
    "if 5 in x:\n",
    "    x.remove(5)\n",
    "if 6 in x:\n",
    "    x.remove(6)\n",
    "print(x)\n"
   ]
  },
  {
   "cell_type": "code",
   "execution_count": 31,
   "metadata": {},
   "outputs": [
    {
     "name": "stdout",
     "output_type": "stream",
     "text": [
      "[11, 12, 13, 14, 15, 16]\n",
      "[11, 12, 14, 15, 16]\n"
     ]
    }
   ],
   "source": [
    "x =[11,12,13,14,15,16]\n",
    "x.pop # last element\n",
    "print(x)\n",
    "x.pop(2)\n",
    "print(x)"
   ]
  },
  {
   "cell_type": "code",
   "execution_count": 33,
   "metadata": {},
   "outputs": [
    {
     "name": "stdout",
     "output_type": "stream",
     "text": [
      "[11, 12, 14]\n",
      "15\n"
     ]
    }
   ],
   "source": [
    "item = x.pop()\n",
    "print(x)\n",
    "print(item)"
   ]
  },
  {
   "cell_type": "code",
   "execution_count": 35,
   "metadata": {},
   "outputs": [
    {
     "name": "stdout",
     "output_type": "stream",
     "text": [
      "[]\n"
     ]
    }
   ],
   "source": [
    "x.clear()\n",
    "print(x)"
   ]
  },
  {
   "cell_type": "code",
   "execution_count": 36,
   "metadata": {},
   "outputs": [
    {
     "name": "stdout",
     "output_type": "stream",
     "text": [
      "[[1, 2, 3], 3, 2, 1, 'jackfruits', 'iceapple', 'hazelnut', 'iceapple', 'hazelnut', 'guava', 'guava', 'fig', 'elderberry', 'dragonfruit', 'cherry', 'banana', 'apple']\n"
     ]
    }
   ],
   "source": [
    "fruits.reverse()\n",
    "print(fruits)"
   ]
  },
  {
   "cell_type": "code",
   "execution_count": 37,
   "metadata": {},
   "outputs": [
    {
     "name": "stdout",
     "output_type": "stream",
     "text": [
      "ascending=> [3, 12, 12, 23, 45, 56, 56, 56]\n",
      "decending=> [56, 56, 56, 45, 23, 12, 12, 3]\n"
     ]
    }
   ],
   "source": [
    "nums =[12,45,56,12,56,23,3,56]\n",
    "nums.sort()\n",
    "print(\"ascending=>\",nums)\n",
    "nums.sort(reverse=True)\n",
    "print(\"decending=>\",nums)"
   ]
  },
  {
   "cell_type": "code",
   "execution_count": 38,
   "metadata": {},
   "outputs": [
    {
     "name": "stdout",
     "output_type": "stream",
     "text": [
      "0\n",
      "2\n"
     ]
    }
   ],
   "source": [
    "x =[12,14,24,3,56,56,57,77,77,100]\n",
    "print(x.count(1))\n",
    "print(x.count(56))"
   ]
  },
  {
   "cell_type": "code",
   "execution_count": 40,
   "metadata": {},
   "outputs": [
    {
     "name": "stdout",
     "output_type": "stream",
     "text": [
      "[[1, 2, 3], 3, 2, 1, 'jackfruits', 'iceapple', 'hazelnut', 'iceapple', 'hazelnut', 'guava', 'guava', 'fig', 'elderberry', 'dragonfruit', 'cherry', 'banana', 'apple']\n",
      "guava-> 9\n",
      "banana -> 15\n",
      "apple -> 16\n"
     ]
    }
   ],
   "source": [
    "print(fruits)\n",
    "print(\"guava->\",fruits.index(\"guava\"))\n",
    "print(\"banana ->\", fruits.index(\"banana\"))\n",
    "print(\"apple ->\", fruits.index(\"apple\"))"
   ]
  },
  {
   "cell_type": "code",
   "execution_count": 1,
   "metadata": {},
   "outputs": [
    {
     "name": "stdout",
     "output_type": "stream",
     "text": [
      "[1, 2, 3]\n",
      "[1, 2, 3]\n",
      "True\n",
      "[1, 2, 3]\n",
      "[1, 2, 3]\n",
      "False\n"
     ]
    }
   ],
   "source": [
    "x =[1,2,3]\n",
    "y = x # store the reference of x in y\n",
    "print(x)\n",
    "print(y)\n",
    "print(y is x)\n",
    "z = x. copy()\n",
    "print(x)\n",
    "print(z)\n",
    "print(z is x)"
   ]
  },
  {
   "cell_type": "code",
   "execution_count": 2,
   "metadata": {},
   "outputs": [
    {
     "name": "stdout",
     "output_type": "stream",
     "text": [
      "[1, 4, 9, 16]\n"
     ]
    }
   ],
   "source": [
    "#comprehension\n",
    "x=[1,2,3,4]\n",
    "x2 =[]\n",
    "for i in x:\n",
    "    s=i**2\n",
    "    x2.append(s)\n",
    "print(x2)"
   ]
  },
  {
   "cell_type": "code",
   "execution_count": 4,
   "metadata": {},
   "outputs": [
    {
     "name": "stdout",
     "output_type": "stream",
     "text": [
      "[11, 12, 13, 14]\n"
     ]
    }
   ],
   "source": [
    "# list comprehension\n",
    "x2=[i+10 for i in x]\n",
    "print(x2)"
   ]
  },
  {
   "cell_type": "code",
   "execution_count": 5,
   "metadata": {},
   "outputs": [
    {
     "name": "stdout",
     "output_type": "stream",
     "text": [
      "[36, 100, 400, 4]\n"
     ]
    }
   ],
   "source": [
    "# comprehension with condition (newlist)=[opertaion loop condition]\n",
    "x =[1,3,6,7,10,20,2]\n",
    "x2=[i**2 for i in x if i%2==0]\n",
    "print(x2)"
   ]
  },
  {
   "cell_type": "code",
   "execution_count": 6,
   "metadata": {},
   "outputs": [
    {
     "name": "stdout",
     "output_type": "stream",
     "text": [
      "[0, 1, 2, 3, 4, 5, 6, 7, 8, 9, 10, 11, 12, 13, 14, 15, 16, 17, 18, 19, 20, 21, 22, 23, 24, 25, 26, 27, 28, 29, 30, 31, 32, 33, 34, 35, 36, 37, 38, 39, 40, 41, 42, 43, 44, 45, 46, 47, 48, 49]\n",
      "[0, 4, 16, 36, 64, 100, 144, 196, 256, 324, 400, 484, 576, 676, 784, 900, 1024, 1156, 1296, 1444, 1600, 1764, 1936, 2116, 2304]\n"
     ]
    }
   ],
   "source": [
    "x= list(range(50))\n",
    "x2 =[i**2 for i in x if i%2==0]\n",
    "print(x)\n",
    "print(x2)"
   ]
  },
  {
   "cell_type": "code",
   "execution_count": 13,
   "metadata": {},
   "outputs": [
    {
     "name": "stdout",
     "output_type": "stream",
     "text": [
      "['Sk', 'Ms', 'Sv', 'Nn', 'At', 'Rh', 'Ps', 'Fm', 'Ea', 'Sn']\n"
     ]
    }
   ],
   "source": [
    "names = [\"Satwik\", \"Manas\",\"Shiv\",\"Naman\",\"Arpit\",\"Ritesh\",\"Paras\",\"Faheem\",\"Esha\",\"Sachin\"]\n",
    "x=[]\n",
    "for i in names:\n",
    "    m=i[0]+i[-1]\n",
    "    x.append(m)\n",
    "print(x)"
   ]
  },
  {
   "cell_type": "code",
   "execution_count": 14,
   "metadata": {},
   "outputs": [
    {
     "name": "stdout",
     "output_type": "stream",
     "text": [
      "['sk', 'ms', 'sv', 'nn', 'at', 'rh', 'ps', 'fm', 'ea', 'sn']\n"
     ]
    }
   ],
   "source": [
    "names = [\"Satwik\", \"Manas\",\"Shiv\",\"Naman\",\"Arpit\",\"Ritesh\",\"Paras\",\"Faheem\",\"Esha\",\"Sachin\"]\n",
    "output =[(i[0]+i[-1]).lower() for i in names]\n",
    "print(output)"
   ]
  },
  {
   "cell_type": "code",
   "execution_count": null,
   "metadata": {},
   "outputs": [],
   "source": []
  }
 ],
 "metadata": {
  "kernelspec": {
   "display_name": "base",
   "language": "python",
   "name": "python3"
  },
  "language_info": {
   "codemirror_mode": {
    "name": "ipython",
    "version": 3
   },
   "file_extension": ".py",
   "mimetype": "text/x-python",
   "name": "python",
   "nbconvert_exporter": "python",
   "pygments_lexer": "ipython3",
   "version": "3.12.4"
  }
 },
 "nbformat": 4,
 "nbformat_minor": 2
}
