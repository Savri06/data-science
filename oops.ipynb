{
 "cells": [
  {
   "cell_type": "markdown",
   "metadata": {},
   "source": [
    "OOPS\n",
    "- classes and objects\n",
    "  - attribtes\n",
    "  - constructor\n",
    "  - methods\n",
    "\n",
    "- data classes\n",
    "- inhertiance\n",
    "   - simple \n",
    "   multiple"
   ]
  },
  {
   "cell_type": "markdown",
   "metadata": {},
   "source": [
    "a=10"
   ]
  },
  {
   "cell_type": "code",
   "execution_count": 1,
   "metadata": {},
   "outputs": [],
   "source": [
    "a=10"
   ]
  },
  {
   "cell_type": "code",
   "execution_count": 2,
   "metadata": {},
   "outputs": [
    {
     "name": "stdout",
     "output_type": "stream",
     "text": [
      "<class 'int'>\n"
     ]
    }
   ],
   "source": [
    "print(type(a))"
   ]
  },
  {
   "cell_type": "code",
   "execution_count": 3,
   "metadata": {},
   "outputs": [],
   "source": [
    "class A:\n",
    "    value = 10"
   ]
  },
  {
   "cell_type": "code",
   "execution_count": 4,
   "metadata": {},
   "outputs": [
    {
     "name": "stdout",
     "output_type": "stream",
     "text": [
      "10\n"
     ]
    }
   ],
   "source": [
    "a = A() # object creation of class A\n",
    "print(a.value) #10"
   ]
  },
  {
   "cell_type": "code",
   "execution_count": 5,
   "metadata": {},
   "outputs": [],
   "source": [
    "class Square:\n",
    "    # class variable == static method\n",
    "    side= 10\n",
    "    # instance method -> 1st parameter is self\n",
    "    def area(self):\n",
    "        return self.side ** 2\n",
    "    \n",
    "    def perimeter(self):\n",
    "        return 4 * self.side\n",
    "    \n",
    "    # class method == similar to static method in java\n",
    "    def faltu():\n",
    "        return \"this is faltu\""
   ]
  },
  {
   "cell_type": "code",
   "execution_count": 6,
   "metadata": {},
   "outputs": [
    {
     "data": {
      "text/plain": [
       "'this is faltu'"
      ]
     },
     "execution_count": 6,
     "metadata": {},
     "output_type": "execute_result"
    }
   ],
   "source": [
    "Square.side # static variable\n",
    "Square.faltu() # class method\n"
   ]
  },
  {
   "cell_type": "code",
   "execution_count": 7,
   "metadata": {},
   "outputs": [
    {
     "name": "stdout",
     "output_type": "stream",
     "text": [
      "400\n",
      "80\n",
      "100\n",
      "40\n"
     ]
    }
   ],
   "source": [
    "s = Square()\n",
    "s.side =20\n",
    "print(s.area())\n",
    "print(s.perimeter())\n",
    "\n",
    "s2 = Square()\n",
    "s.side = 5\n",
    "print(s2.area())\n",
    "print(s2.perimeter())"
   ]
  },
  {
   "cell_type": "markdown",
   "metadata": {},
   "source": [
    "constructor\n",
    "\n",
    "_init_(self, ...)"
   ]
  },
  {
   "cell_type": "code",
   "execution_count": 8,
   "metadata": {},
   "outputs": [],
   "source": [
    "class Person:\n",
    "    def __init__(self,n,a,g):\n",
    "        # instance variable\n",
    "        self.name = n\n",
    "        self.age = a\n",
    "        self.gender = g\n",
    "        \n",
    "    def show(self):\n",
    "        print(f\"name: {self.name},\")\n",
    "        print(f\"age: {self.age},\")\n",
    "        print(f\" gender: {self.gender}\")"
   ]
  },
  {
   "cell_type": "code",
   "execution_count": 9,
   "metadata": {},
   "outputs": [],
   "source": [
    "p1 = Person(\"Hari\", 14, \"male\")\n",
    "p2 = Person(\"Sita\", 20, \"female\")\n",
    "p3 = Person(\"Gita\", 19, \"female\")"
   ]
  },
  {
   "cell_type": "code",
   "execution_count": 10,
   "metadata": {},
   "outputs": [],
   "source": [
    "class calculator:\n",
    "    \n",
    "    def add(self, a,b):\n",
    "        return a + b\n",
    "    \n",
    "    def subtract(self,a,b):\n",
    "        return a - b\n",
    "    \n",
    "    def multipy(self,a,b):\n",
    "        return a*b\n",
    "        \n",
    "    def divide(self,a,b):\n",
    "        return a/b"
   ]
  },
  {
   "cell_type": "code",
   "execution_count": 11,
   "metadata": {},
   "outputs": [
    {
     "name": "stdout",
     "output_type": "stream",
     "text": [
      "30\n",
      "-10\n",
      "200\n"
     ]
    }
   ],
   "source": [
    "c = calculator()\n",
    "print(c.add(10,20))\n",
    "print(c.subtract(10,20))\n",
    "print(c.multipy(10,20))"
   ]
  },
  {
   "cell_type": "code",
   "execution_count": 12,
   "metadata": {},
   "outputs": [],
   "source": [
    "# data class\n",
    "from dataclasses import dataclass\n",
    "\n",
    "@dataclass\n",
    "class Product:\n",
    "    name: str\n",
    "    price: float\n",
    "    qty: int\n",
    "    \n",
    "products = [\n",
    "    Product(\"Apple\", 100,10),\n",
    "    Product(\"Banana\", 50,20),\n",
    "    Product(\"Mango\", 200,5)\n",
    "]"
   ]
  },
  {
   "cell_type": "code",
   "execution_count": 13,
   "metadata": {},
   "outputs": [
    {
     "name": "stdout",
     "output_type": "stream",
     "text": [
      "Apple 1000\n",
      "Banana 1000\n",
      "Mango 1000\n"
     ]
    }
   ],
   "source": [
    "# traverse\n",
    "for item in products:\n",
    "    print(item.name,item.price*item.qty)"
   ]
  },
  {
   "cell_type": "code",
   "execution_count": 14,
   "metadata": {},
   "outputs": [
    {
     "data": {
      "text/plain": [
       "[Product(name='Apple', price=100, qty=10),\n",
       " Product(name='Banana', price=50, qty=20),\n",
       " Product(name='Mango', price=200, qty=5)]"
      ]
     },
     "execution_count": 14,
     "metadata": {},
     "output_type": "execute_result"
    }
   ],
   "source": [
    "products"
   ]
  },
  {
   "cell_type": "code",
   "execution_count": 15,
   "metadata": {},
   "outputs": [
    {
     "data": {
      "text/plain": [
       "[<__main__.Person at 0x1fe307e86e0>,\n",
       " <__main__.Person at 0x1fe307e9820>,\n",
       " <__main__.Person at 0x1fe307ebc50>]"
      ]
     },
     "execution_count": 15,
     "metadata": {},
     "output_type": "execute_result"
    }
   ],
   "source": [
    "[p1,p2,p3]"
   ]
  },
  {
   "cell_type": "code",
   "execution_count": 16,
   "metadata": {},
   "outputs": [],
   "source": [
    "# dunder methods\n",
    "class Dog:\n",
    "    def __init__(self,breed,name,color,gender,age):\n",
    "        self.breed = breed\n",
    "        self.color = color\n",
    "        self.gender = gender\n",
    "        self.age= age \n",
    "        self.name = name\n",
    "        \n",
    "    def bark(self):\n",
    "        print(\"Barking\")\n",
    "    def eat(self,food):\n",
    "        print(f\"{self.name}eating{food}\")\n",
    "    def sleep(self,duration):\n",
    "        print(f\"{self.name} slept for {duration} hours\")\n",
    "        "
   ]
  },
  {
   "cell_type": "code",
   "execution_count": 17,
   "metadata": {},
   "outputs": [
    {
     "name": "stdout",
     "output_type": "stream",
     "text": [
      "Shepherd slept for 5 hours\n",
      "<__main__.Dog object at 0x000001FE308066C0>\n"
     ]
    }
   ],
   "source": [
    "d1 = Dog(\"German\",\"Shepherd\",\"Brown\",\"male\",  \"Tommy\")\n",
    "d1.sleep(5)\n",
    "print(d1)"
   ]
  },
  {
   "cell_type": "markdown",
   "metadata": {},
   "source": [
    "inheritance"
   ]
  },
  {
   "cell_type": "code",
   "execution_count": 21,
   "metadata": {},
   "outputs": [],
   "source": [
    "class SuperList(list):\n",
    "    def sum(self):\n",
    "        total =0\n",
    "        for item in self:\n",
    "            if isinstance(item,(int,float)):\n",
    "                total += item\n",
    "        return total\n",
    "        \n",
    "    def mean(self):\n",
    "        return self.sum() / self.size()\n",
    "    \n",
    "    def size(self):\n",
    "        return len([i for i in self if isinstance(i, (int,float))])"
   ]
  },
  {
   "cell_type": "code",
   "execution_count": 22,
   "metadata": {},
   "outputs": [
    {
     "name": "stdout",
     "output_type": "stream",
     "text": [
      "15\n",
      "20\n"
     ]
    }
   ],
   "source": [
    "sl = SuperList([1,2,3,4,5])\n",
    "print(sl.sum())\n",
    "sl2 = SuperList(['A',1,2,3,4,'B','C',10])\n",
    "print(sl2.sum())"
   ]
  },
  {
   "cell_type": "code",
   "execution_count": null,
   "metadata": {},
   "outputs": [],
   "source": []
  }
 ],
 "metadata": {
  "kernelspec": {
   "display_name": "Python 3",
   "language": "python",
   "name": "python3"
  },
  "language_info": {
   "codemirror_mode": {
    "name": "ipython",
    "version": 3
   },
   "file_extension": ".py",
   "mimetype": "text/x-python",
   "name": "python",
   "nbconvert_exporter": "python",
   "pygments_lexer": "ipython3",
   "version": "3.12.4"
  }
 },
 "nbformat": 4,
 "nbformat_minor": 2
}
