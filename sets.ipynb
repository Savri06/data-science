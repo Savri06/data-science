{
 "cells": [
  {
   "cell_type": "markdown",
   "metadata": {},
   "source": [
    "# data structure - sets\n",
    "- unordered data structure\n",
    "- unindexed\n",
    "- mutable\n",
    "- mixed immutable elements\n",
    "- unique elements\n",
    "- iterable\n",
    "- represented with curly braces`()`\n",
    "- `sets()` sfor creating sets"
   ]
  },
  {
   "cell_type": "code",
   "execution_count": 3,
   "metadata": {},
   "outputs": [
    {
     "name": "stdout",
     "output_type": "stream",
     "text": [
      "set() <class 'set'>\n",
      "{1, 2, 3}\n",
      "{'a', 'b', 'c', 'd'}\n",
      "{1, 2, 3, 4, 5}\n",
      "{1, 2, 3, 'b', 'a', 'c'}\n"
     ]
    }
   ],
   "source": [
    "x =set() # empty sets\n",
    "print(x,type(x))\n",
    "y= {1,2,3}\n",
    "z={\"a\",\"b\",\"c\",\"d\"}\n",
    "print(y)\n",
    "print(z)\n",
    "a = set ([1,2,3,4,5])\n",
    "print(a)\n",
    "b= {\"a\",1,\"b\",2,\"c\",3}\n",
    "print(b)"
   ]
  },
  {
   "cell_type": "code",
   "execution_count": 4,
   "metadata": {},
   "outputs": [
    {
     "name": "stdout",
     "output_type": "stream",
     "text": [
      "1\n",
      "2\n",
      "3\n",
      "b\n",
      "a\n",
      "c\n"
     ]
    }
   ],
   "source": [
    "for i in b:\n",
    "    print(i)"
   ]
  },
  {
   "cell_type": "code",
   "execution_count": 6,
   "metadata": {},
   "outputs": [
    {
     "name": "stdout",
     "output_type": "stream",
     "text": [
      "{'Legion', 'Steelherat', 'Snapshot', 'fireflight'}\n"
     ]
    }
   ],
   "source": [
    "books = set()\n",
    "books.add(\"Legion\")\n",
    "books.add(\"Snapshot\")\n",
    "books.add(\"Steelherat\")\n",
    "books.add(\"fireflight\")\n",
    "print(books)"
   ]
  },
  {
   "cell_type": "code",
   "execution_count": 7,
   "metadata": {},
   "outputs": [
    {
     "name": "stdout",
     "output_type": "stream",
     "text": [
      "{'Mistborn', 'Steelherat', 'Elantris', 'fireflight', 'Calamity', 'Legion', 'Snapshot'}\n"
     ]
    }
   ],
   "source": [
    "books.update([\"Calamity\",\"Mistborn\",\"Elantris\"])\n",
    "print(books)"
   ]
  },
  {
   "cell_type": "code",
   "execution_count": 8,
   "metadata": {},
   "outputs": [],
   "source": [
    "books.discard(\"Mistborn\")"
   ]
  },
  {
   "cell_type": "code",
   "execution_count": 9,
   "metadata": {},
   "outputs": [
    {
     "data": {
      "text/plain": [
       "'Steelherat'"
      ]
     },
     "execution_count": 9,
     "metadata": {},
     "output_type": "execute_result"
    }
   ],
   "source": [
    "books.pop() # removes a random element"
   ]
  },
  {
   "cell_type": "markdown",
   "metadata": {},
   "source": [
    "set operations"
   ]
  },
  {
   "cell_type": "code",
   "execution_count": 10,
   "metadata": {},
   "outputs": [],
   "source": [
    "a={1,2,3,4,5}\n",
    "b={4,5,6,7,8}\n",
    "c={1,2,3}\n",
    "d={5,6,7}"
   ]
  },
  {
   "cell_type": "markdown",
   "metadata": {},
   "source": [
    "- `union()`=> `|`\n",
    "- `insection()`=>`&`\n",
    "- `difference()`=> `-`\n",
    "-"
   ]
  },
  {
   "cell_type": "markdown",
   "metadata": {},
   "source": [
    "a|b"
   ]
  },
  {
   "cell_type": "code",
   "execution_count": 13,
   "metadata": {},
   "outputs": [
    {
     "name": "stdout",
     "output_type": "stream",
     "text": [
      "intersection\n",
      "{4, 5}\n",
      "{4, 5}\n",
      "difference\n",
      "{1, 2, 3}\n",
      "{1, 2, 3}\n",
      "symmetric difference\n",
      "{1, 2, 3, 6, 7, 8}\n",
      "{1, 2, 3, 6, 7, 8}\n"
     ]
    }
   ],
   "source": [
    "print(\"intersection\")\n",
    "print(a.intersection(b))\n",
    "print(a & b)\n",
    "\n",
    "print(\"difference\")\n",
    "print(a.difference(b))\n",
    "print(a-b)\n",
    "\n",
    "print(\"symmetric difference\")\n",
    "print(a.symmetric_difference(b))\n",
    "print(a^b)"
   ]
  },
  {
   "cell_type": "code",
   "execution_count": 14,
   "metadata": {},
   "outputs": [
    {
     "name": "stdout",
     "output_type": "stream",
     "text": [
      "{1, 2, 3, 4, 5}\n",
      "{1, 2, 3}\n",
      "False\n",
      "disjointed: True\n"
     ]
    }
   ],
   "source": [
    "print(a)\n",
    "print(c)\n",
    "print(a.isdisjoint(c))\n",
    "\n",
    "print(\"disjointed:\",a.isdisjoint({11,12}))"
   ]
  },
  {
   "cell_type": "code",
   "execution_count": 15,
   "metadata": {},
   "outputs": [
    {
     "name": "stdout",
     "output_type": "stream",
     "text": [
      "subset: True\n",
      "superset: False\n",
      "superset: True\n"
     ]
    }
   ],
   "source": [
    "print(\"subset:\",c.issubset(a))\n",
    "print(\"superset:\",d.issuperset(c))\n",
    "print(\"superset:\",b.issuperset(d))"
   ]
  },
  {
   "cell_type": "code",
   "execution_count": 17,
   "metadata": {},
   "outputs": [
    {
     "name": "stdout",
     "output_type": "stream",
     "text": [
      "your data\n",
      "==> 98\n",
      "==> 34\n",
      "==> 45\n"
     ]
    }
   ],
   "source": [
    "# wap that allows users to enter data as much as they want and thenthe unique data\n",
    "# remove duplicate and print the unique data\n",
    "\n",
    "data=set()\n",
    "while True:\n",
    "    value=input(\"enter your data\")\n",
    "    if not value:\n",
    "        break\n",
    "    data.add(value)\n",
    "print(\"your data\")\n",
    "for item in data:\n",
    "    print(\"==>\",item)"
   ]
  },
  {
   "cell_type": "code",
   "execution_count": null,
   "metadata": {},
   "outputs": [],
   "source": []
  }
 ],
 "metadata": {
  "kernelspec": {
   "display_name": "base",
   "language": "python",
   "name": "python3"
  },
  "language_info": {
   "codemirror_mode": {
    "name": "ipython",
    "version": 3
   },
   "file_extension": ".py",
   "mimetype": "text/x-python",
   "name": "python",
   "nbconvert_exporter": "python",
   "pygments_lexer": "ipython3",
   "version": "3.12.4"
  }
 },
 "nbformat": 4,
 "nbformat_minor": 2
}
