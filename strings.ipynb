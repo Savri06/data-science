{
 "cells": [
  {
   "cell_type": "markdown",
   "metadata": {},
   "source": [
    "# string\n",
    "- indexing\n",
    "- creating\n",
    "- slicing\n",
    "- methods"
   ]
  },
  {
   "cell_type": "code",
   "execution_count": 1,
   "metadata": {},
   "outputs": [],
   "source": [
    "# creation\n",
    "a = \" \"# enpty string\n",
    "name = \"sara\" # single quoted\n",
    "city = \"lucknow\" # double quoted\n",
    "message = '''this is the example\n",
    "of multiline string in pyton,\n",
    "triple quotes allow multi ;ine concept'''"
   ]
  },
  {
   "cell_type": "code",
   "execution_count": 2,
   "metadata": {},
   "outputs": [
    {
     "name": "stdout",
     "output_type": "stream",
     "text": [
      "~0~|~0~|~0~|~0~|~0~|~0~|~0~|~0~|~0~|~0~|\n"
     ]
    }
   ],
   "source": [
    "# string duplication\n",
    "decor = \"~0~|\" * 10\n",
    "print(decor)"
   ]
  },
  {
   "cell_type": "code",
   "execution_count": 3,
   "metadata": {},
   "outputs": [
    {
     "data": {
      "text/plain": [
       "'sara lucknow'"
      ]
     },
     "execution_count": 3,
     "metadata": {},
     "output_type": "execute_result"
    }
   ],
   "source": [
    "# string concatenation\n",
    "name + \" \" + city"
   ]
  },
  {
   "cell_type": "code",
   "execution_count": 8,
   "metadata": {},
   "outputs": [
    {
     "name": "stdout",
     "output_type": "stream",
     "text": [
      "192301\n",
      "[1, 2, 3]\n",
      "True\n",
      "False\n",
      "278.6868\n"
     ]
    }
   ],
   "source": [
    "# casting\n",
    "a =str(192301)\n",
    "b =str([1,2,3])\n",
    "c =str(True)\n",
    "d =str(False)\n",
    "e =str(278.6868)\n",
    "print(a)\n",
    "print(b)\n",
    "print(c)\n",
    "print(d)\n",
    "print(e)"
   ]
  },
  {
   "cell_type": "code",
   "execution_count": 6,
   "metadata": {},
   "outputs": [
    {
     "name": "stdout",
     "output_type": "stream",
     "text": [
      "SYNCRONIZED\n",
      "11\n"
     ]
    }
   ],
   "source": [
    "word =\"SYNCRONIZED\"\n",
    "print(word)\n",
    "print(len(word))"
   ]
  },
  {
   "cell_type": "code",
   "execution_count": 9,
   "metadata": {},
   "outputs": [
    {
     "name": "stdout",
     "output_type": "stream",
     "text": [
      "SYNCRONIZED\n",
      "11\n",
      "S\n",
      "Y\n",
      "C\n",
      "R\n",
      "O\n",
      "D\n",
      "E\n"
     ]
    }
   ],
   "source": [
    "word =\"SYNCRONIZED\"\n",
    "print(word)\n",
    "print(len(word))\n",
    "print(word[0]) # first\n",
    "print(word[1]) # second\n",
    "print(word[3]) # third\n",
    "print(word[4]) # fourth\n",
    "print(word[5]) # sixth\n",
    "print(word[-1]) # last\n",
    "print(word[-2]) # second last"
   ]
  },
  {
   "cell_type": "markdown",
   "metadata": {},
   "source": [
    "`slicing`\n",
    "syntax\n",
    "```python\n",
    "\n",
    "var[start:stop] # start from an index and slice till stop-1\n",
    "\n",
    "var[start: stop:step]\n",
    "\n",
    "var[:stop] # start from beginning\n",
    "\n",
    "var[start :] # start from an index stop at the end"
   ]
  },
  {
   "cell_type": "code",
   "execution_count": 10,
   "metadata": {},
   "outputs": [
    {
     "name": "stdout",
     "output_type": "stream",
     "text": [
      "SYNC\n",
      "SYNC\n",
      "ONI\n",
      "RONIZED\n",
      "YCOIE\n",
      "SNRNZ\n",
      "SNRNZD\n",
      "DEZINORCNYS\n"
     ]
    }
   ],
   "source": [
    "print(word[0:4])\n",
    "print(word[:4])\n",
    "print(word[5:8])\n",
    "print(word[4:])\n",
    "print(word[1:10:2])\n",
    "print(word[:10:2])\n",
    "print(word[::2]) # all even indexes\n",
    "print(word[::-1]) # reverse"
   ]
  },
  {
   "cell_type": "code",
   "execution_count": 11,
   "metadata": {},
   "outputs": [
    {
     "name": "stdout",
     "output_type": "stream",
     "text": [
      "Vijay\n",
      "Chauhan\n",
      "Deenanth\n"
     ]
    }
   ],
   "source": [
    "name =\"Vijay Deenanth Chauhan\"\n",
    "fname = name[:5]\n",
    "lname = name[-7:]\n",
    "mname = name[6:-8]\n",
    "print(fname)\n",
    "print(lname)\n",
    "print(mname)"
   ]
  },
  {
   "cell_type": "code",
   "execution_count": null,
   "metadata": {},
   "outputs": [],
   "source": []
  }
 ],
 "metadata": {
  "kernelspec": {
   "display_name": "base",
   "language": "python",
   "name": "python3"
  },
  "language_info": {
   "codemirror_mode": {
    "name": "ipython",
    "version": 3
   },
   "file_extension": ".py",
   "mimetype": "text/x-python",
   "name": "python",
   "nbconvert_exporter": "python",
   "pygments_lexer": "ipython3",
   "version": "3.12.4"
  }
 },
 "nbformat": 4,
 "nbformat_minor": 2
}
