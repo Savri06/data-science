{
 "cells": [
  {
   "cell_type": "markdown",
   "metadata": {},
   "source": [
    "# string\n",
    "- indexing\n",
    "- creating\n",
    "- slicing\n",
    "- methods"
   ]
  },
  {
   "cell_type": "code",
   "execution_count": 1,
   "metadata": {},
   "outputs": [],
   "source": [
    "# creation\n",
    "a = \" \"# enpty string\n",
    "name = \"sara\" # single quoted\n",
    "city = \"lucknow\" # double quoted\n",
    "message = '''this is the example\n",
    "of multiline string in pyton,\n",
    "triple quotes allow multi ;ine concept'''"
   ]
  },
  {
   "cell_type": "code",
   "execution_count": 2,
   "metadata": {},
   "outputs": [
    {
     "name": "stdout",
     "output_type": "stream",
     "text": [
      "~0~|~0~|~0~|~0~|~0~|~0~|~0~|~0~|~0~|~0~|\n"
     ]
    }
   ],
   "source": [
    "# string duplication\n",
    "decor = \"~0~|\" * 10\n",
    "print(decor)"
   ]
  },
  {
   "cell_type": "code",
   "execution_count": 3,
   "metadata": {},
   "outputs": [
    {
     "data": {
      "text/plain": [
       "'sara lucknow'"
      ]
     },
     "execution_count": 3,
     "metadata": {},
     "output_type": "execute_result"
    }
   ],
   "source": [
    "# string concatenation\n",
    "name + \" \" + city"
   ]
  },
  {
   "cell_type": "code",
   "execution_count": 8,
   "metadata": {},
   "outputs": [
    {
     "name": "stdout",
     "output_type": "stream",
     "text": [
      "192301\n",
      "[1, 2, 3]\n",
      "True\n",
      "False\n",
      "278.6868\n"
     ]
    }
   ],
   "source": [
    "# casting\n",
    "a =str(192301)\n",
    "b =str([1,2,3])\n",
    "c =str(True)\n",
    "d =str(False)\n",
    "e =str(278.6868)\n",
    "print(a)\n",
    "print(b)\n",
    "print(c)\n",
    "print(d)\n",
    "print(e)"
   ]
  },
  {
   "cell_type": "code",
   "execution_count": 6,
   "metadata": {},
   "outputs": [
    {
     "name": "stdout",
     "output_type": "stream",
     "text": [
      "SYNCRONIZED\n",
      "11\n"
     ]
    }
   ],
   "source": [
    "word =\"SYNCRONIZED\"\n",
    "print(word)\n",
    "print(len(word))"
   ]
  },
  {
   "cell_type": "code",
   "execution_count": 9,
   "metadata": {},
   "outputs": [
    {
     "name": "stdout",
     "output_type": "stream",
     "text": [
      "SYNCRONIZED\n",
      "11\n",
      "S\n",
      "Y\n",
      "C\n",
      "R\n",
      "O\n",
      "D\n",
      "E\n"
     ]
    }
   ],
   "source": [
    "word =\"SYNCRONIZED\"\n",
    "print(word)\n",
    "print(len(word))\n",
    "print(word[0]) # first\n",
    "print(word[1]) # second\n",
    "print(word[3]) # third\n",
    "print(word[4]) # fourth\n",
    "print(word[5]) # sixth\n",
    "print(word[-1]) # last\n",
    "print(word[-2]) # second last"
   ]
  },
  {
   "cell_type": "markdown",
   "metadata": {},
   "source": [
    "`slicing`\n",
    "syntax\n",
    "```python\n",
    "\n",
    "var[start:stop] # start from an index and slice till stop-1\n",
    "\n",
    "var[start: stop:step]\n",
    "\n",
    "var[:stop] # start from beginning\n",
    "\n",
    "var[start :] # start from an index stop at the end"
   ]
  },
  {
   "cell_type": "code",
   "execution_count": 10,
   "metadata": {},
   "outputs": [
    {
     "name": "stdout",
     "output_type": "stream",
     "text": [
      "SYNC\n",
      "SYNC\n",
      "ONI\n",
      "RONIZED\n",
      "YCOIE\n",
      "SNRNZ\n",
      "SNRNZD\n",
      "DEZINORCNYS\n"
     ]
    }
   ],
   "source": [
    "print(word[0:4])\n",
    "print(word[:4])\n",
    "print(word[5:8])\n",
    "print(word[4:])\n",
    "print(word[1:10:2])\n",
    "print(word[:10:2])\n",
    "print(word[::2]) # all even indexes\n",
    "print(word[::-1]) # reverse"
   ]
  },
  {
   "cell_type": "code",
   "execution_count": 11,
   "metadata": {},
   "outputs": [
    {
     "name": "stdout",
     "output_type": "stream",
     "text": [
      "Vijay\n",
      "Chauhan\n",
      "Deenanth\n"
     ]
    }
   ],
   "source": [
    "name =\"Vijay Deenanth Chauhan\"\n",
    "fname = name[:5]\n",
    "lname = name[-7:]\n",
    "mname = name[6:-8]\n",
    "print(fname)\n",
    "print(lname)\n",
    "print(mname)"
   ]
  },
  {
   "cell_type": "markdown",
   "metadata": {},
   "source": [
    "strings method\n",
    "\n",
    "- formatting\n",
    "- validation\n",
    "- utility"
   ]
  },
  {
   "cell_type": "code",
   "execution_count": 7,
   "metadata": {},
   "outputs": [
    {
     "name": "stdout",
     "output_type": "stream",
     "text": [
      "orignal: Journey.before.destination\n",
      "upper: JOURNEY.BEFORE.DESTINATION\n",
      "lower: journey.before.destination\n",
      "captialize: Journey.before.destination\n",
      "title: Journey.Before.Destination\n",
      "swapcase: jOURNEY.BEFORE.DESTINATION\n",
      "casefold:,quote.casefold()\n",
      "JOURNEY.BEFORE.DESTINATION\n"
     ]
    }
   ],
   "source": [
    "# formatting\n",
    "quote=\"Journey.before.destination\"\n",
    "print(\"orignal:\",quote)\n",
    "print(\"upper:\",quote.upper())\n",
    "print(\"lower:\",quote.lower())\n",
    "print(\"captialize:\",quote.capitalize())\n",
    "print(\"title:\",quote.title())\n",
    "print(\"swapcase:\",quote.swapcase())\n",
    "print(\"casefold:,quote.casefold()\")\n",
    "\n",
    "quote = quote.upper()\n",
    "print(quote)"
   ]
  },
  {
   "cell_type": "code",
   "execution_count": 8,
   "metadata": {},
   "outputs": [
    {
     "name": "stdout",
     "output_type": "stream",
     "text": [
      "JOURNEY.BEFORE.DESTINATION                                                      \n",
      "JOURNEY.BEFORE.DESTINATION______________________________________________________\n",
      "                                                      JOURNEY.BEFORE.DESTINATION\n",
      "^^^^^^^^^^^^^^^^^^^^^^^^^^^^^^^^^^^^^^^^^^^^^^^^^^^^^^JOURNEY.BEFORE.DESTINATION\n",
      "                           JOURNEY.BEFORE.DESTINATION                           \n",
      "___________________________JOURNEY.BEFORE.DESTINATION___________________________\n"
     ]
    }
   ],
   "source": [
    "print(quote.ljust(80))\n",
    "print(quote.ljust(80,\"_\"))\n",
    "print(quote.rjust(80,))\n",
    "print(quote.rjust(80,\"^\"))\n",
    "print(quote.center(80,))\n",
    "print(quote.center(80,\"_\"))"
   ]
  },
  {
   "cell_type": "code",
   "execution_count": 13,
   "metadata": {},
   "outputs": [
    {
     "name": "stdout",
     "output_type": "stream",
     "text": [
      "True\n",
      "False\n",
      "True\n",
      "False\n",
      "False\n",
      "True\n",
      "True\n",
      "True\n",
      "True\n",
      "False\n",
      "True\n",
      "True\n",
      "False\n"
     ]
    }
   ],
   "source": [
    "#validation \n",
    "print(\"123\".isdigit())\n",
    "print(\"1 23\".isdigit())\n",
    "print(\"apple\".isalpha())\n",
    "print(\"1apple\".isalpha())\n",
    "print(\"apple pie\".isalpha())\n",
    "print(\"apple123\".isalnum())\n",
    "print(\"123\".isalnum())\n",
    "print(\"cherry\".isalnum())\n",
    "print(\"cherry123\".isalnum())\n",
    "print(\"cherry 123\".isnumeric())\n",
    "print(\"123\".isnumeric())\n",
    "print(\" \".isspace())\n",
    "print(\"1 2 3\".isspace())"
   ]
  },
  {
   "cell_type": "code",
   "execution_count": 14,
   "metadata": {},
   "outputs": [
    {
     "name": "stdout",
     "output_type": "stream",
     "text": [
      "go back to kindergarden\n"
     ]
    }
   ],
   "source": [
    "num = input(\"enter number\")\n",
    "if num.isnumeric():\n",
    "    num=int(num)\n",
    "    print(\"shabash\")\n",
    "else:\n",
    "    print(\"go back to kindergarden\")"
   ]
  },
  {
   "cell_type": "code",
   "execution_count": 16,
   "metadata": {},
   "outputs": [
    {
     "name": "stdout",
     "output_type": "stream",
     "text": [
      "True\n",
      "False\n",
      "False\n",
      "True\n",
      "True\n",
      "True\n",
      "False\n"
     ]
    }
   ],
   "source": [
    "print(\"apple\".startswith(\"a\"))\n",
    "print(\"apple\".startswith(\"A\"))\n",
    "print(\"apple\".startswith(\"b\"))\n",
    "print(\"apple\".endswith(\"e\"))\n",
    "print(\"book_one_pdf\".startswith(\"book\"))\n",
    "print(\"book_one_pdf\".endswith(\"pdf\"))\n",
    "print(\"book_one_pdf\".startswith(\"one\"))"
   ]
  },
  {
   "cell_type": "code",
   "execution_count": 17,
   "metadata": {},
   "outputs": [
    {
     "name": "stdout",
     "output_type": "stream",
     "text": [
      "a.exe\n",
      "b.exe\n",
      "d.exe\n"
     ]
    }
   ],
   "source": [
    "apps =[\"a.exe\",\"b.exe\",\"c.pdf\",\"d.exe\",\"f.doc\"]\n",
    "for app in apps:\n",
    "    if app.endswith(\".exe\"):\n",
    "        print(app)"
   ]
  },
  {
   "cell_type": "code",
   "execution_count": 18,
   "metadata": {},
   "outputs": [
    {
     "name": "stdout",
     "output_type": "stream",
     "text": [
      "-1\n",
      "8\n",
      "4\n",
      "20\n",
      "-1\n",
      "-1\n",
      "-1\n"
     ]
    }
   ],
   "source": [
    "#utility - find,replace,count,strip,split,join\n",
    "\n",
    "#find\n",
    "print(quote.find(\"b\"))\n",
    "print(quote.find(\"BEFORE\"))\n",
    "print(quote.find(\"N\"))\n",
    "print(quote.find(\"N\",5))\n",
    "print(quote.find(\"I\",1,10))\n",
    "print(quote.find(\"FORE DE\"))\n",
    "print(quote.find(\"FOREDE\"))"
   ]
  },
  {
   "cell_type": "code",
   "execution_count": 19,
   "metadata": {},
   "outputs": [
    {
     "name": "stdout",
     "output_type": "stream",
     "text": [
      "Journey before Destination\n",
      "Journey before Destination\n",
      "Journey before Destination\n",
      "Journey before Destination\n",
      "Journey before Destination\n",
      "Journey before Destination\n"
     ]
    }
   ],
   "source": [
    "#replace\n",
    "quote = \"Journey before Destination\"\n",
    "print(quote.replace(\"BEFORE\",\"AFTER\"))\n",
    "print(quote.replace(\"E\",\"A\"))\n",
    "print(quote.replace(\"E\",\"O\",2))\n",
    "print(quote.replace(\"E\",\"^^^^\",))\n",
    "\n",
    "quote= quote.replace(\"JOURNEY\",\"SLEEPING\")\n",
    "print(quote)\n",
    "quote=quote.replace(\"A\",\"X\").replace(\"E\",\"_\").replace(\"I\",\"_\")\n",
    "print(quote)"
   ]
  },
  {
   "cell_type": "code",
   "execution_count": 20,
   "metadata": {},
   "outputs": [
    {
     "name": "stdout",
     "output_type": "stream",
     "text": [
      "5\n",
      "3\n",
      "1\n",
      "0\n",
      "3\n"
     ]
    }
   ],
   "source": [
    "words =\"egg spam egg egg spam egg spam bacon egg\"\n",
    "print(words.count(\"egg\"))\n",
    "print(words.count(\"spam\"))\n",
    "print(words.count(\"bacon\"))\n",
    "print(words.count(\"pie\"))\n",
    "print(words.count(\"egg s\"))"
   ]
  },
  {
   "cell_type": "code",
   "execution_count": 22,
   "metadata": {},
   "outputs": [
    {
     "name": "stdout",
     "output_type": "stream",
     "text": [
      " Alec mason\n",
      "Alec mason\n",
      "\n",
      "    \n",
      "    123340\n",
      "\n",
      "    \n",
      "123340\n"
     ]
    }
   ],
   "source": [
    "name =\" Alec mason\"\n",
    "print(name)\n",
    "print(name.strip())\n",
    "data = '''\n",
    "    \n",
    "    123340\n",
    "\n",
    "    '''\n",
    "print(data)\n",
    "print(data.strip())\n"
   ]
  },
  {
   "cell_type": "code",
   "execution_count": 23,
   "metadata": {},
   "outputs": [
    {
     "name": "stdout",
     "output_type": "stream",
     "text": [
      "123340\n"
     ]
    }
   ],
   "source": [
    "data =data.strip()\n",
    "print(data)"
   ]
  },
  {
   "cell_type": "code",
   "execution_count": 24,
   "metadata": {},
   "outputs": [
    {
     "name": "stdout",
     "output_type": "stream",
     "text": [
      "['egg', 'spam', 'egg', 'egg', 'spam', 'egg', 'spam', 'bacon', 'egg']\n",
      "['a', 'b', 'c', 'd', 'e']\n",
      "['a', 'b', 'c', 'd', 'e']\n",
      "['johny jonhy ,yes papa,', 'eating sugar? no papa,', 'telling lines> no papa,', 'open your mouth, ha! ha! ha!']\n"
     ]
    }
   ],
   "source": [
    "print(words.split())\n",
    "print(\"a,b,c,d,e\".split(\",\"))\n",
    "print(\"a-b-c-d-e\".split(\"-\"))\n",
    "\n",
    "poem = '''\n",
    "johny jonhy ,yes papa,\n",
    "eating sugar? no papa,\n",
    "telling lines> no papa,\n",
    "open your mouth, ha! ha! ha!\n",
    "'''\n",
    "\n",
    "sentence= poem.strip().splitlines()\n",
    "print(sentence)"
   ]
  },
  {
   "cell_type": "code",
   "execution_count": 26,
   "metadata": {},
   "outputs": [
    {
     "name": "stdout",
     "output_type": "stream",
     "text": [
      "192.168.1.1\n"
     ]
    }
   ],
   "source": [
    "addr = [\"192\",\"168\",\"1\",\"1\"]\n",
    "ip_addr =\".\".join(addr)\n",
    "print(ip_addr)"
   ]
  },
  {
   "cell_type": "code",
   "execution_count": null,
   "metadata": {},
   "outputs": [],
   "source": []
  }
 ],
 "metadata": {
  "kernelspec": {
   "display_name": "base",
   "language": "python",
   "name": "python3"
  },
  "language_info": {
   "codemirror_mode": {
    "name": "ipython",
    "version": 3
   },
   "file_extension": ".py",
   "mimetype": "text/x-python",
   "name": "python",
   "nbconvert_exporter": "python",
   "pygments_lexer": "ipython3",
   "version": "3.12.4"
  }
 },
 "nbformat": 4,
 "nbformat_minor": 2
}
