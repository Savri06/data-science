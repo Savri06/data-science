{
 "cells": [
  {
   "cell_type": "markdown",
   "metadata": {},
   "source": [
    "# function \n",
    "\n",
    "1. prdefined function\n",
    "\n",
    "A. buit - in fuction(directly available)\n",
    "b. module function (need to import)\n",
    "    a. python standard libnary\n",
    "    b. 3rd party libarary(pip install libaray)\n",
    "2. user defined function\n",
    "   \n",
    "     A. non-parameterized\n",
    "     B. function with return types\n",
    "     C. parameterized\n",
    "        a. requried parameter\n",
    "        b. named argument\n",
    "        c. default parameter\n",
    "        d. variable length argument\n",
    "        e. keyword variable lenght argument\n",
    "     D. anonymous function(lamda function)\n",
    "     E. generator function"
   ]
  },
  {
   "cell_type": "code",
   "execution_count": 6,
   "metadata": {},
   "outputs": [
    {
     "data": {
      "text/plain": [
       "5"
      ]
     },
     "execution_count": 6,
     "metadata": {},
     "output_type": "execute_result"
    }
   ],
   "source": [
    "# built in function \n",
    "# help()\n",
    "# min()\n",
    "# max()\n",
    "eval(\"2+3\")"
   ]
  },
  {
   "cell_type": "code",
   "execution_count": 7,
   "metadata": {},
   "outputs": [
    {
     "data": {
      "text/plain": [
       "5"
      ]
     },
     "execution_count": 7,
     "metadata": {},
     "output_type": "execute_result"
    }
   ],
   "source": [
    "x=5 \n",
    "eq = input(\"give me a equation for x\")\n",
    "eval(eq)"
   ]
  },
  {
   "cell_type": "markdown",
   "metadata": {},
   "source": [
    "`open()` for file handling"
   ]
  },
  {
   "cell_type": "code",
   "execution_count": 8,
   "metadata": {},
   "outputs": [
    {
     "name": "stdout",
     "output_type": "stream",
     "text": [
      "{\n",
      " \"cells\": [\n",
      "  {\n",
      "   \"cell_type\": \"markdown\",\n",
      "   \"metadata\": {},\n",
      "   \"source\": [\n",
      "    \"# data structure - dictionary\\n\",\n",
      "    \"- ordered\\n\",\n",
      "    \"- mutable\\n\",\n",
      "    \"- key - value pairs(unindexed)\\n\",\n",
      "    \"- values can be of any type\\n\",\n",
      "    \"- keys should be immutable(`int`,`float`,`string`,`tuple`)\\n\",\n",
      "    \"- keys are case-sensitive\\n\",\n",
      "    \"- represented with `{}`\\n\",\n",
      "    \"- `dict` is used to make dictionay\"\n",
      "   ]\n",
      "  },\n",
      "  {\n",
      "   \"cell_type\": \"code\",\n",
      "   \"execution_count\": 1,\n",
      "   \"metadata\": {},\n",
      "   \"outputs\": [\n",
      "    {\n",
      "     \"name\": \"stdout\",\n",
      "     \"output_type\": \"stream\",\n",
      "     \"text\": [\n",
      "      \"{} {'apples': 50, 'oranges': 25} {'almond': 200, 'cashew': 100}\\n\"\n",
      "     ]\n",
      "    }\n",
      "   ],\n",
      "   \"source\": [\n",
      "    \"a = {} # empty dictinary\\n\",\n",
      "    \"\\n\",\n",
      "    \"b={\\\"apples\\\": 50, \\\"oranges\\\": 25}\\n\",\n",
      "    \"\\n\",\n",
      "    \"c = dict(almond =200, cashew=100)\\n\",\n",
      "    \"print(a,b,c)\"\n",
      "   ]\n",
      "  },\n",
      "  {\n",
      "   \"cell_type\": \"code\",\n",
      "   \"execution_count\": 2,\n",
      "   \"metadata\": {},\n",
      "   \"outputs\": [\n",
      "    {\n",
      "     \"name\": \"stdout\",\n",
      "     \"output_type\": \"stream\",\n",
      "     \"text\": [\n",
      "      \"{'k11': {'k11': 5, 'k12': 10}, 'k2': {'k21': 15, 'k22': 20}}\\n\"\n",
      "     ]\n",
      "    }\n",
      "   ],\n",
      "   \"source\": [\n",
      "    \"d ={\\\"k11\\\":{\\n\",\n",
      "    \"    \\\"k11\\\":5,\\n\",\n",
      "    \"    \\\"k12\\\":10\\n\",\n",
      "    \" },\\n\",\n",
      "    \" \\\"k2\\\": {\\n\",\n",
      "    \"     \\\"k21\\\":15,\\n\",\n",
      "    \"     \\\"k22\\\":20\\n\",\n",
      "    \"    }}\\n\",\n",
      "    \"print(d)\\n\",\n",
      "    \"    \"\n",
      "   ]\n",
      "  },\n",
      "  {\n",
      "   \"cell_type\": \"code\",\n",
      "   \"execution_count\": 4,\n",
      "   \"metadata\": {},\n",
      "   \"outputs\": [\n",
      "    {\n",
      "     \"name\": \"stdout\",\n",
      "     \"output_type\": \"stream\",\n",
      "     \"text\": [\n",
      "      \"50\\n\",\n",
      "      \"None\\n\",\n",
      "      \"not found\\n\",\n",
      "      \"None\\n\",\n",
      "      \"not found\\n\"\n",
      "     ]\n",
      "    }\n",
      "   ],\n",
      "   \"source\": [\n",
      "    \"print(b[\\\"apples\\\"])\\n\",\n",
      "    \"# print(b[\\\"apples\\\"])\\n\",\n",
      "    \"print(b.get(\\\"apple\\\"))\\n\",\n",
      "    \"print(b.get(\\\"apple\\\",\\\"not found\\\")) # default value\\n\",\n",
      "    \"print(b.get(\\\"apple\\\"))\\n\",\n",
      "    \"print(b.get(\\\"apple\\\",\\\"not found\\\")) # default value\"\n",
      "   ]\n",
      "  },\n",
      "  {\n",
      "   \"cell_type\": \"code\",\n",
      "   \"execution_count\": 5,\n",
      "   \"metadata\": {},\n",
      "   \"outputs\": [\n",
      "    {\n",
      "     \"name\": \"stdout\",\n",
      "     \"output_type\": \"stream\",\n",
      "     \"text\": [\n",
      "      \"{'apples': 50, 'oranges': 25, 'mango': 10, 'dates': 5, 'peach': 10}\\n\"\n",
      "     ]\n",
      "    }\n",
      "   ],\n",
      "   \"source\": [\n",
      "    \"# add/update values\\n\",\n",
      "    \"b[\\\"mango\\\"] = 10\\n\",\n",
      "    \"b[\\\"dates\\\"] = 5\\n\",\n",
      "    \"b[\\\"peach\\\"]= 10 \\n\",\n",
      "    \"b[\\\"apples\\\"]= 50 # update (existing kry used)\\n\",\n",
      "    \"print(b)\"\n",
      "   ]\n",
      "  },\n",
      "  {\n",
      "   \"cell_type\": \"code\",\n",
      "   \"execution_count\": 6,\n",
      "   \"metadata\": {},\n",
      "   \"outputs\": [\n",
      "    {\n",
      "     \"name\": \"stdout\",\n",
      "     \"output_type\": \"stream\",\n",
      "     \"text\": [\n",
      "      \"{'apples': 50, 'oranges': 25, 'dates': 5, 'peach': 10}\\n\"\n",
      "     ]\n",
      "    }\n",
      "   ],\n",
      "   \"source\": [\n",
      "    \"# remove \\n\",\n",
      "    \"b.pop(\\\"mango\\\")\\n\",\n",
      "    \"print(b)\"\n",
      "   ]\n",
      "  },\n",
      "  {\n",
      "   \"cell_type\": \"code\",\n",
      "   \"execution_count\": 9,\n",
      "   \"metadata\": {},\n",
      "   \"outputs\": [\n",
      "    {\n",
      "     \"name\": \"stdout\",\n",
      "     \"output_type\": \"stream\",\n",
      "     \"text\": [\n",
      "      \"apples 50\\n\",\n",
      "      \"oranges 25\\n\",\n",
      "      \"dates 5\\n\",\n",
      "      \"peach 10\\n\",\n",
      "      \"apples 50\\n\",\n",
      "      \"oranges 25\\n\",\n",
      "      \"dates 5\\n\",\n",
      "      \"peach 10\\n\",\n",
      "      \"50\\n\",\n",
      "      \"25\\n\",\n",
      "      \"5\\n\",\n",
      "      \"10\\n\"\n",
      "     ]\n",
      "    }\n",
      "   ],\n",
      "   \"source\": [\n",
      "    \"# traversal\\n\",\n",
      "    \"# style 1\\n\",\n",
      "    \"for key in b:\\n\",\n",
      "    \"    print(key,b[key])\\n\",\n",
      "    \"\\n\",\n",
      "    \"# style 2\\n\",\n",
      "    \"for k,v in b.items():\\n\",\n",
      "    \"    print(k,v)\\n\",\n",
      "    \"\\n\",\n",
      "    \"# style 3\\n\",\n",
      "    \"for v in b. values():\\n\",\n",
      "    \"    print(v)\"\n",
      "   ]\n",
      "  },\n",
      "  {\n",
      "   \"cell_type\": \"code\",\n",
      "   \"execution_count\": 10,\n",
      "   \"metadata\": {},\n",
      "   \"outputs\": [\n",
      "    {\n",
      "     \"data\": {\n",
      "      \"text/plain\": [\n",
      "       \"dict_keys(['apples', 'oranges', 'dates', 'peach'])\"\n",
      "      ]\n",
      "     },\n",
      "     \"execution_count\": 10,\n",
      "     \"metadata\": {},\n",
      "     \"output_type\": \"execute_result\"\n",
      "    }\n",
      "   ],\n",
      "   \"source\": [\n",
      "    \"b.keys()\"\n",
      "   ]\n",
      "  },\n",
      "  {\n",
      "   \"cell_type\": \"code\",\n",
      "   \"execution_count\": null,\n",
      "   \"metadata\": {},\n",
      "   \"outputs\": [],\n",
      "   \"source\": []\n",
      "  }\n",
      " ],\n",
      " \"metadata\": {\n",
      "  \"kernelspec\": {\n",
      "   \"display_name\": \"base\",\n",
      "   \"language\": \"python\",\n",
      "   \"name\": \"python3\"\n",
      "  },\n",
      "  \"language_info\": {\n",
      "   \"codemirror_mode\": {\n",
      "    \"name\": \"ipython\",\n",
      "    \"version\": 3\n",
      "   },\n",
      "   \"file_extension\": \".py\",\n",
      "   \"mimetype\": \"text/x-python\",\n",
      "   \"name\": \"python\",\n",
      "   \"nbconvert_exporter\": \"python\",\n",
      "   \"pygments_lexer\": \"ipython3\",\n",
      "   \"version\": \"3.12.4\"\n",
      "  }\n",
      " },\n",
      " \"nbformat\": 4,\n",
      " \"nbformat_minor\": 2\n",
      "}\n",
      "\n"
     ]
    }
   ],
   "source": [
    "print(open(\"dictionary.ipynb\").read())"
   ]
  },
  {
   "cell_type": "code",
   "execution_count": 9,
   "metadata": {},
   "outputs": [
    {
     "name": "stdout",
     "output_type": "stream",
     "text": [
      "print(\"hello😎\")\n"
     ]
    }
   ],
   "source": [
    "with open(\"hello.py\") as file:\n",
    "    content= file.read()\n",
    "print(content)"
   ]
  },
  {
   "cell_type": "code",
   "execution_count": 10,
   "metadata": {},
   "outputs": [],
   "source": [
    "with open(\"story.txt\",\"w\") as f:\n",
    "    f.write(\"but he was a time\\n\")\n",
    "    f.write(\"there lived a king\\n\")\n"
   ]
  },
  {
   "cell_type": "code",
   "execution_count": 11,
   "metadata": {},
   "outputs": [],
   "source": [
    "# a refer to append mode\n",
    "with open(\"story.txt\",\"a\") as f:\n",
    "    f.write(\"but he was a secrat\")\n",
    "    f.write(\"he was a wizard\")"
   ]
  },
  {
   "cell_type": "code",
   "execution_count": 12,
   "metadata": {},
   "outputs": [
    {
     "name": "stdout",
     "output_type": "stream",
     "text": [
      "but he was a time\n",
      "there lived a king\n",
      "but he was a secrathe was a wizard\n"
     ]
    }
   ],
   "source": [
    "with open(\"story.txt\") as f:\n",
    "    content = f.read()\n",
    "    print(content)"
   ]
  },
  {
   "cell_type": "code",
   "execution_count": 13,
   "metadata": {},
   "outputs": [
    {
     "name": "stdout",
     "output_type": "stream",
     "text": [
      "1\n",
      "8\n",
      "1\n",
      "6\n",
      "4\n",
      "9\n",
      "2\n",
      "7\n",
      "6\n",
      "3\n"
     ]
    }
   ],
   "source": [
    "# python standard library \n",
    "import random\n",
    "\n",
    "for i in range(10):\n",
    "    ans = random.randint(1,10)\n",
    "    print(ans)"
   ]
  },
  {
   "cell_type": "code",
   "execution_count": 14,
   "metadata": {},
   "outputs": [
    {
     "name": "stdout",
     "output_type": "stream",
     "text": [
      "banana\n",
      "banana\n",
      "cherry\n",
      "banana\n",
      "cherry\n",
      "cherry\n",
      "cherry\n",
      "apple\n",
      "banana\n",
      "banana\n"
     ]
    }
   ],
   "source": [
    "fruits =[\"apple\",\"banana\",\"cherry\"]\n",
    "for i in range(10):\n",
    "    print(random.choice(fruits))"
   ]
  },
  {
   "cell_type": "code",
   "execution_count": 15,
   "metadata": {},
   "outputs": [
    {
     "name": "stdout",
     "output_type": "stream",
     "text": [
      "[2, 1, 4]\n",
      "[6, 10, 5, 3, 8]\n",
      "[6, 8, 5, 1, 7, 2, 9, 10, 3, 4]\n"
     ]
    }
   ],
   "source": [
    "x =[1,2,3,4,5,6,7,8,9,10]\n",
    "print(random.choices(x,k=3))\n",
    "print(random.sample(x,k=5))\n",
    "random.shuffle(x)\n",
    "print(x)"
   ]
  },
  {
   "cell_type": "code",
   "execution_count": 16,
   "metadata": {},
   "outputs": [],
   "source": [
    "from datetime import datetime"
   ]
  },
  {
   "cell_type": "code",
   "execution_count": 17,
   "metadata": {},
   "outputs": [
    {
     "name": "stdout",
     "output_type": "stream",
     "text": [
      "2012-12-12 00:00:00\n",
      "1970-01-01 10:05:00\n",
      "2024-08-24 23:39:21.935664\n",
      "1724522961.935664\n",
      "2892-11-24 10:03:22\n",
      "2024-08-24 23:39:21.935664\n",
      "2024-12-02 23:39:21.935664\n",
      "2024-08-24\n",
      "23:39:21.935664\n",
      "24/08/\t\n",
      "23:39\n"
     ]
    }
   ],
   "source": [
    "# 12/12/2012\n",
    "doomsday = datetime(2012,12,12)\n",
    "print(doomsday)\n",
    "\n",
    "# 10:05\n",
    "time = datetime(1970,1,1,10,5)\n",
    "print(time)\n",
    "\n",
    "currday = datetime.now()\n",
    "print(currday)\n",
    "\n",
    "timestamp = datetime.timestamp(currday)\n",
    "print(timestamp)# seconds since epoch(1970)\n",
    "\n",
    "print(datetime.fromtimestamp(29123901202))\n",
    "\n",
    "from datetime import timedelta\n",
    "\n",
    "today= datetime.now()\n",
    "print(today)\n",
    "print(today + timedelta(days=100))\n",
    "\n",
    "# format title\n",
    "print(today.date())\n",
    "print(today.time())\n",
    "\n",
    "# striftime\n",
    "print(today.strftime(\"%d/%m/%t\"))\n",
    "print(today.strftime(\"%H:%M\"))\n"
   ]
  },
  {
   "cell_type": "code",
   "execution_count": 19,
   "metadata": {},
   "outputs": [
    {
     "name": "stdout",
     "output_type": "stream",
     "text": [
      "c:\\Users\\HP\\Documents\\data science\n"
     ]
    }
   ],
   "source": [
    "# os module\n",
    "import os\n",
    "BASE_DTR =os.getcwd()\n",
    "print(BASE_DTR)"
   ]
  },
  {
   "cell_type": "code",
   "execution_count": 21,
   "metadata": {},
   "outputs": [
    {
     "name": "stdout",
     "output_type": "stream",
     "text": [
      "['.git', '.vscode', 'basics.ipynb', 'control_flow.ipynb', 'dictionary.ipynb', 'function.ipynb', 'hello.py', 'hw.ipynb', 'list.ipynb', 'registration.py', 'sets.ipynb', 'story.py', 'story.txt', 'strings.ipynb', 'tuple.ipynb']\n"
     ]
    }
   ],
   "source": [
    "print(os.listdir())"
   ]
  },
  {
   "cell_type": "code",
   "execution_count": 22,
   "metadata": {},
   "outputs": [
    {
     "name": "stdout",
     "output_type": "stream",
     "text": [
      "[10, 1, 1]\n",
      "[2, 9, 10, 3, 6]\n",
      "[2, 3, 5, 8, 1, 6, 10, 7, 4, 9]\n"
     ]
    }
   ],
   "source": [
    "x =[1,2,3,4,5,6,7,8,9,10]\n",
    "print(random.choices(x,k=3))\n",
    "print(random.sample(x,k=5))\n",
    "random.shuffle(x)\n",
    "print(x)"
   ]
  },
  {
   "cell_type": "code",
   "execution_count": 23,
   "metadata": {},
   "outputs": [],
   "source": [
    "# delete line\n",
    "# os.unlink(\"story.txt\")\n",
    "# print(os.listdir())"
   ]
  },
  {
   "cell_type": "code",
   "execution_count": 24,
   "metadata": {},
   "outputs": [],
   "source": [
    "for item in content:\n",
    "    os.path.isfile(item)"
   ]
  },
  {
   "cell_type": "code",
   "execution_count": 25,
   "metadata": {},
   "outputs": [
    {
     "name": "stdout",
     "output_type": "stream",
     "text": [
      "b                                                  False\n",
      "u                                                  False\n",
      "t                                                  False\n",
      "                                                   False\n",
      "h                                                  False\n",
      "e                                                  False\n",
      "                                                   False\n",
      "w                                                  False\n",
      "a                                                  False\n",
      "s                                                  False\n",
      "                                                   False\n",
      "a                                                  False\n",
      "                                                   False\n",
      "t                                                  False\n",
      "i                                                  False\n",
      "m                                                  False\n",
      "e                                                  False\n",
      "\n",
      "                                                  False\n",
      "t                                                  False\n",
      "h                                                  False\n",
      "e                                                  False\n",
      "r                                                  False\n",
      "e                                                  False\n",
      "                                                   False\n",
      "l                                                  False\n",
      "i                                                  False\n",
      "v                                                  False\n",
      "e                                                  False\n",
      "d                                                  False\n",
      "                                                   False\n",
      "a                                                  False\n",
      "                                                   False\n",
      "k                                                  False\n",
      "i                                                  False\n",
      "n                                                  False\n",
      "g                                                  False\n",
      "\n",
      "                                                  False\n",
      "b                                                  False\n",
      "u                                                  False\n",
      "t                                                  False\n",
      "                                                   False\n",
      "h                                                  False\n",
      "e                                                  False\n",
      "                                                   False\n",
      "w                                                  False\n",
      "a                                                  False\n",
      "s                                                  False\n",
      "                                                   False\n",
      "a                                                  False\n",
      "                                                   False\n",
      "s                                                  False\n",
      "e                                                  False\n",
      "c                                                  False\n",
      "r                                                  False\n",
      "a                                                  False\n",
      "t                                                  False\n",
      "h                                                  False\n",
      "e                                                  False\n",
      "                                                   False\n",
      "w                                                  False\n",
      "a                                                  False\n",
      "s                                                  False\n",
      "                                                   False\n",
      "a                                                  False\n",
      "                                                   False\n",
      "w                                                  False\n",
      "i                                                  False\n",
      "z                                                  False\n",
      "a                                                  False\n",
      "r                                                  False\n",
      "d                                                  False\n"
     ]
    }
   ],
   "source": [
    "for item in content:\n",
    "    path=\"c:/users/anand/downloads/\"+item\n",
    "    print(item.ljust(50),os.path.isfile(path))"
   ]
  },
  {
   "cell_type": "code",
   "execution_count": 26,
   "metadata": {},
   "outputs": [
    {
     "name": "stdout",
     "output_type": "stream",
     "text": [
      "path doesnot exists\n"
     ]
    }
   ],
   "source": [
    "address = \"c:/users/abc/pictures\"\n",
    "if os.path.exists(address):\n",
    "    print(\"path exists\")\n",
    "else:\n",
    "    print(\"path doesnot exists\")\n",
    "    "
   ]
  },
  {
   "cell_type": "code",
   "execution_count": 27,
   "metadata": {},
   "outputs": [
    {
     "ename": "FileNotFoundError",
     "evalue": "[WinError 3] The system cannot find the path specified: 'c/programs files'",
     "output_type": "error",
     "traceback": [
      "\u001b[1;31m---------------------------------------------------------------------------\u001b[0m",
      "\u001b[1;31mFileNotFoundError\u001b[0m                         Traceback (most recent call last)",
      "Cell \u001b[1;32mIn[27], line 1\u001b[0m\n\u001b[1;32m----> 1\u001b[0m content \u001b[38;5;241m=\u001b[39m os\u001b[38;5;241m.\u001b[39mlistdir(\u001b[38;5;124m\"\u001b[39m\u001b[38;5;124mc/programs files\u001b[39m\u001b[38;5;124m\"\u001b[39m)\n\u001b[0;32m      2\u001b[0m \u001b[38;5;28mprint\u001b[39m(\u001b[38;5;124mf\u001b[39m\u001b[38;5;124m\"\u001b[39m\u001b[38;5;124mtotal content is\u001b[39m\u001b[38;5;132;01m{\u001b[39;00m\u001b[38;5;28mlen\u001b[39m(content)\u001b[38;5;132;01m}\u001b[39;00m\u001b[38;5;124m\"\u001b[39m)\n",
      "\u001b[1;31mFileNotFoundError\u001b[0m: [WinError 3] The system cannot find the path specified: 'c/programs files'"
     ]
    }
   ],
   "source": [
    "content = os.listdir(\"c/programs files\")\n",
    "print(f\"total content is{len(content)}\")"
   ]
  },
  {
   "cell_type": "code",
   "execution_count": 29,
   "metadata": {},
   "outputs": [],
   "source": [
    "if not os.path.exists(\"folder1\"):\n",
    "    os.mkdir(\"folder1\")"
   ]
  },
  {
   "cell_type": "code",
   "execution_count": 31,
   "metadata": {},
   "outputs": [],
   "source": [
    "os.makedirs(\"folder1/folder2/folder3\")"
   ]
  },
  {
   "cell_type": "code",
   "execution_count": 32,
   "metadata": {},
   "outputs": [
    {
     "ename": "FileNotFoundError",
     "evalue": "[WinError 3] The system cannot find the path specified: 'c:/users/annad/downloadb'",
     "output_type": "error",
     "traceback": [
      "\u001b[1;31m---------------------------------------------------------------------------\u001b[0m",
      "\u001b[1;31mFileNotFoundError\u001b[0m                         Traceback (most recent call last)",
      "Cell \u001b[1;32mIn[32], line 3\u001b[0m\n\u001b[0;32m      1\u001b[0m \u001b[38;5;28;01mfor\u001b[39;00m item \u001b[38;5;129;01min\u001b[39;00m content:\n\u001b[0;32m      2\u001b[0m     path \u001b[38;5;241m=\u001b[39m\u001b[38;5;124m\"\u001b[39m\u001b[38;5;124mc:/users/annad/download\u001b[39m\u001b[38;5;124m\"\u001b[39m\u001b[38;5;241m+\u001b[39mitem\n\u001b[1;32m----> 3\u001b[0m     size \u001b[38;5;241m=\u001b[39m os\u001b[38;5;241m.\u001b[39mpath\u001b[38;5;241m.\u001b[39mgetsize(path)\u001b[38;5;241m/\u001b[39m\u001b[38;5;241m1024\u001b[39m \u001b[38;5;66;03m# kilobytes\u001b[39;00m\n\u001b[0;32m      4\u001b[0m     \u001b[38;5;28mprint\u001b[39m(item[:\u001b[38;5;241m49\u001b[39m]\u001b[38;5;241m.\u001b[39mljust(\u001b[38;5;241m50\u001b[39m),\u001b[38;5;28mstr\u001b[39m(os\u001b[38;5;241m.\u001b[39mpath\u001b[38;5;241m.\u001b[39misfile(path))\u001b[38;5;241m.\u001b[39mljust(\u001b[38;5;241m10\u001b[39m),size)\n",
      "File \u001b[1;32m<frozen genericpath>:62\u001b[0m, in \u001b[0;36mgetsize\u001b[1;34m(filename)\u001b[0m\n",
      "\u001b[1;31mFileNotFoundError\u001b[0m: [WinError 3] The system cannot find the path specified: 'c:/users/annad/downloadb'"
     ]
    }
   ],
   "source": [
    "for item in content:\n",
    "    path =\"c:/users/annad/download\"+item\n",
    "    size = os.path.getsize(path)/1024 # kilobytes\n",
    "    print(item[:49].ljust(50),str(os.path.isfile(path)).ljust(10),size)"
   ]
  },
  {
   "cell_type": "markdown",
   "metadata": {},
   "source": [
    "#user defined functions\n",
    "- resuable code\n",
    "- easy to debug\n",
    "- make code verbose"
   ]
  },
  {
   "cell_type": "code",
   "execution_count": 1,
   "metadata": {},
   "outputs": [],
   "source": [
    "# declaration \n",
    "def calculate_area(length, width):\n",
    "  area = length * width\n",
    "  return area"
   ]
  },
  {
   "cell_type": "code",
   "execution_count": 2,
   "metadata": {},
   "outputs": [
    {
     "data": {
      "text/plain": [
       "5000"
      ]
     },
     "execution_count": 2,
     "metadata": {},
     "output_type": "execute_result"
    }
   ],
   "source": [
    "# use == call\n",
    "calculate_area(100,50)"
   ]
  },
  {
   "cell_type": "markdown",
   "metadata": {},
   "source": [
    "types of function\n",
    "\n",
    "1. on basis of return tyoe\n",
    "2. non- parameterzied\n",
    "   1. non return type\n",
    "   2. return type\n",
    "3. on the basis of parameters\n",
    "   1. required parameters\n",
    "   2. default parameters\n",
    "   3. variable length argument\n",
    "   4. keyboard variable length argument\n",
    "4. anonymous function(lembda function)"
   ]
  },
  {
   "cell_type": "code",
   "execution_count": 7,
   "metadata": {},
   "outputs": [],
   "source": [
    "def roll_dice():\n",
    "    import random\n",
    "    print(f\"rolled {random.randint(1,6)}\")"
   ]
  },
  {
   "cell_type": "code",
   "execution_count": 8,
   "metadata": {},
   "outputs": [
    {
     "name": "stdout",
     "output_type": "stream",
     "text": [
      "rolled 3\n",
      "rolled 6\n",
      "rolled 4\n"
     ]
    }
   ],
   "source": [
    "roll_dice()\n",
    "roll_dice()\n",
    "roll_dice()"
   ]
  },
  {
   "cell_type": "code",
   "execution_count": 11,
   "metadata": {},
   "outputs": [],
   "source": [
    "def count_files_in_current_folder():\n",
    "    import os\n",
    "    size = len(os.listdir())\n",
    "    print(f\"folder:{os.getcwd().split(\"\\\\\")[-1]}\")\n",
    "    print(f\"total files in n folder: {size}\")"
   ]
  },
  {
   "cell_type": "code",
   "execution_count": 12,
   "metadata": {},
   "outputs": [
    {
     "name": "stdout",
     "output_type": "stream",
     "text": [
      "folder:data science\n",
      "total files in n folder: 16\n"
     ]
    }
   ],
   "source": [
    "count_files_in_current_folder()"
   ]
  },
  {
   "cell_type": "code",
   "execution_count": 14,
   "metadata": {},
   "outputs": [
    {
     "name": "stdout",
     "output_type": "stream",
     "text": [
      "5\n",
      "folder:data science\n",
      "total files in n folder: 16\n",
      "None\n"
     ]
    }
   ],
   "source": [
    "s= len(\"hello\")\n",
    "print(s)\n",
    "\n",
    "c= count_files_in_current_folder()\n",
    "print(c)"
   ]
  },
  {
   "cell_type": "code",
   "execution_count": 15,
   "metadata": {},
   "outputs": [],
   "source": [
    "def word_count(sentence):\n",
    "    words = sentence.split()\n",
    "    return len(words)"
   ]
  },
  {
   "cell_type": "code",
   "execution_count": 16,
   "metadata": {},
   "outputs": [
    {
     "name": "stdout",
     "output_type": "stream",
     "text": [
      "5\n",
      "4\n",
      "9\n"
     ]
    }
   ],
   "source": [
    "count = word_count(\"hi there,how are you doing?\")\n",
    "print(count)\n",
    "count2 = word_count(\"we are learning python\")\n",
    "print(count2)\n",
    "print(count + count2)"
   ]
  },
  {
   "cell_type": "code",
   "execution_count": 17,
   "metadata": {},
   "outputs": [],
   "source": [
    "def area_of_circle(radius):\n",
    "    import math\n",
    "    area = math.pi* radius ** 2\n",
    "    return area"
   ]
  },
  {
   "cell_type": "code",
   "execution_count": 19,
   "metadata": {},
   "outputs": [
    {
     "name": "stdout",
     "output_type": "stream",
     "text": [
      "392.69908169872417\n",
      "3.141592653589793\n"
     ]
    }
   ],
   "source": [
    "print(area_of_circle(5)+ area_of_circle(10))\n",
    "print(area_of_circle(1))"
   ]
  },
  {
   "cell_type": "code",
   "execution_count": 20,
   "metadata": {},
   "outputs": [],
   "source": [
    "def task(items,action):\n",
    "    if action ==\"count\":\n",
    "        return len(items)\n",
    "    elif action ==\"sum\":\n",
    "        return sum(items)\n",
    "    elif action ==\"mean\":\n",
    "        return sum(items)/le(items)\n",
    "    else:\n",
    "        return\"invaild action\""
   ]
  },
  {
   "cell_type": "code",
   "execution_count": 21,
   "metadata": {},
   "outputs": [
    {
     "name": "stdout",
     "output_type": "stream",
     "text": [
      "3 124\n"
     ]
    }
   ],
   "source": [
    "t1 = task([23,45,56],\"count\")\n",
    "t2 = task([23,45,56],\"sum\")\n",
    "print(t1,t2)"
   ]
  },
  {
   "cell_type": "code",
   "execution_count": 23,
   "metadata": {},
   "outputs": [],
   "source": [
    "def get_stats(numlist):\n",
    "    size = len(numlist)\n",
    "    total = sum(numlist)\n",
    "    mean = total/size\n",
    "    mx = max(numlist)\n",
    "    mn = min(numlist)\n",
    "    return size,total,mean,mx,mn"
   ]
  },
  {
   "cell_type": "code",
   "execution_count": 24,
   "metadata": {},
   "outputs": [
    {
     "data": {
      "text/plain": [
       "(5, 16, 3.2, 6, 1)"
      ]
     },
     "execution_count": 24,
     "metadata": {},
     "output_type": "execute_result"
    }
   ],
   "source": [
    "get_stats([1,3,5,6,1])"
   ]
  },
  {
   "cell_type": "code",
   "execution_count": 32,
   "metadata": {},
   "outputs": [],
   "source": [
    "def get_stats(numList):\n",
    "    size = len(numList)\n",
    "    total = sum(numList)\n",
    "    mean = total/size\n",
    "    mx = max(numList)\n",
    "    mn = min(numList)\n",
    "    return {\n",
    "        \"size\":size,\"total\": total,\n",
    "        \"mean\": mean, \"max\": mx,\"min\":mn\n",
    "    }"
   ]
  },
  {
   "cell_type": "code",
   "execution_count": 33,
   "metadata": {},
   "outputs": [
    {
     "data": {
      "text/plain": [
       "{'size': 5, 'total': 16, 'mean': 3.2, 'max': 6, 'min': 1}"
      ]
     },
     "execution_count": 33,
     "metadata": {},
     "output_type": "execute_result"
    }
   ],
   "source": [
    "get_stats([1,3,5,6,1])"
   ]
  },
  {
   "cell_type": "code",
   "execution_count": 34,
   "metadata": {},
   "outputs": [
    {
     "ename": "TypeError",
     "evalue": "get_stats() missing 1 required positional argument: 'numList'",
     "output_type": "error",
     "traceback": [
      "\u001b[1;31m---------------------------------------------------------------------------\u001b[0m",
      "\u001b[1;31mTypeError\u001b[0m                                 Traceback (most recent call last)",
      "Cell \u001b[1;32mIn[34], line 1\u001b[0m\n\u001b[1;32m----> 1\u001b[0m get_stats()\n",
      "\u001b[1;31mTypeError\u001b[0m: get_stats() missing 1 required positional argument: 'numList'"
     ]
    }
   ],
   "source": [
    "get_stats()"
   ]
  },
  {
   "cell_type": "code",
   "execution_count": 36,
   "metadata": {},
   "outputs": [],
   "source": [
    "def adder(a,b,c):\n",
    "    return a+b+c"
   ]
  },
  {
   "cell_type": "code",
   "execution_count": 39,
   "metadata": {},
   "outputs": [
    {
     "name": "stdout",
     "output_type": "stream",
     "text": [
      "6\n",
      "6\n",
      "25\n"
     ]
    }
   ],
   "source": [
    "print(adder(1,2,3))\n",
    "print(adder(b=1,a=2,c=3))\n",
    "print(adder(c= 10,b=5,a=10))"
   ]
  },
  {
   "cell_type": "code",
   "execution_count": 40,
   "metadata": {},
   "outputs": [
    {
     "data": {
      "text/plain": [
       "['hello', 'world']"
      ]
     },
     "execution_count": 40,
     "metadata": {},
     "output_type": "execute_result"
    }
   ],
   "source": [
    "\"hello world\".split()"
   ]
  },
  {
   "cell_type": "code",
   "execution_count": 41,
   "metadata": {},
   "outputs": [],
   "source": [
    "def adder_v2(a,b,c=10):\n",
    "    return a+b+c"
   ]
  },
  {
   "cell_type": "code",
   "execution_count": 42,
   "metadata": {},
   "outputs": [
    {
     "name": "stdout",
     "output_type": "stream",
     "text": [
      "40\n",
      "50\n",
      "46\n",
      "82\n"
     ]
    }
   ],
   "source": [
    "print(adder_v2(10,20))\n",
    "print(adder_v2(10,20,20))\n",
    "print(adder_v2(10,20,c=16))\n",
    "print(adder_v2(a=10,b=22,c=50))"
   ]
  },
  {
   "cell_type": "markdown",
   "metadata": {},
   "source": [
    "advance parameters\n",
    "- variable parameters\n",
    "- keyword variable argument"
   ]
  },
  {
   "cell_type": "code",
   "execution_count": 1,
   "metadata": {},
   "outputs": [],
   "source": [
    "def multiply(a,b,c):\n",
    "    return a*b*c"
   ]
  },
  {
   "cell_type": "code",
   "execution_count": 9,
   "metadata": {},
   "outputs": [],
   "source": [
    "def multiply(*nums):\n",
    "    print(nums)\n",
    "    print(\"size:\",len(nums))"
   ]
  },
  {
   "cell_type": "code",
   "execution_count": 7,
   "metadata": {},
   "outputs": [
    {
     "name": "stdout",
     "output_type": "stream",
     "text": [
      "(1, 2, 3, 4, 5)\n"
     ]
    }
   ],
   "source": [
    "multiply(1,2,3,4,5)"
   ]
  },
  {
   "cell_type": "code",
   "execution_count": 10,
   "metadata": {},
   "outputs": [
    {
     "name": "stdout",
     "output_type": "stream",
     "text": [
      "\n",
      "apple\n",
      "apple 1 2 3\n",
      "1 2 3 1\n"
     ]
    }
   ],
   "source": [
    "print()\n",
    "print(\"apple\")\n",
    "print(\"apple\",1,2,3)\n",
    "print(1,2,3,1)"
   ]
  },
  {
   "cell_type": "code",
   "execution_count": 12,
   "metadata": {},
   "outputs": [],
   "source": [
    "def getlength(*args):\n",
    "    result =[]\n",
    "    for item in args:\n",
    "        result.append(len(item))\n",
    "    return result"
   ]
  },
  {
   "cell_type": "code",
   "execution_count": 13,
   "metadata": {},
   "outputs": [
    {
     "data": {
      "text/plain": [
       "[5, 6, 6, 4]"
      ]
     },
     "execution_count": 13,
     "metadata": {},
     "output_type": "execute_result"
    }
   ],
   "source": [
    "getlength(\"apple\",\"banana\",\"cherry\",\"word\")"
   ]
  },
  {
   "cell_type": "code",
   "execution_count": 16,
   "metadata": {},
   "outputs": [],
   "source": [
    "# **kwargs -> variable length keyword arguments\n",
    "def calc_expense(**data):\n",
    "    print(data) # dictionary\n",
    "    print(len(data))"
   ]
  },
  {
   "cell_type": "code",
   "execution_count": 17,
   "metadata": {},
   "outputs": [
    {
     "name": "stdout",
     "output_type": "stream",
     "text": [
      "{'a': 100, 'b': 200, 'c': 300}\n",
      "3\n"
     ]
    }
   ],
   "source": [
    "calc_expense(a=100, b=200, c=300)"
   ]
  },
  {
   "cell_type": "code",
   "execution_count": 46,
   "metadata": {},
   "outputs": [],
   "source": [
    "def laptop_info(filename=\"laptop.txt\",**specs):\n",
    "    with open(filename,\"w\")as f:\n",
    "        for key,value in specs.items():\n",
    "            f.write(f\"{key}:{value}\\n\")\n",
    "        print(\"specs saved\")    "
   ]
  },
  {
   "cell_type": "code",
   "execution_count": 47,
   "metadata": {},
   "outputs": [
    {
     "name": "stdout",
     "output_type": "stream",
     "text": [
      "specs saved\n",
      "specs saved\n"
     ]
    },
    {
     "data": {
      "text/plain": [
       "<function __main__.laptop_info(filename='laptop.txt', **specs)>"
      ]
     },
     "execution_count": 47,
     "metadata": {},
     "output_type": "execute_result"
    }
   ],
   "source": [
    "laptop_info(\"old_laptop.txt\",brand=\"lenovo\",\n",
    "            model = \"ideapad\",ram=\"4gb\", os=\"linux\")\n",
    "\n",
    "laptop_info(\"new_laptop.txt\",\n",
    "            model =\"legion 5 pro\",\n",
    "            ram =\"4GB\",\n",
    "            graphics=\"RTX 3060\",\n",
    "            storage=\"1tb SSd\",\n",
    "            brand=\"lenovo\",\n",
    "            os=\"windows 11\")\n",
    "laptop_info"
   ]
  },
  {
   "cell_type": "markdown",
   "metadata": {},
   "source": [
    "anonymous function"
   ]
  },
  {
   "cell_type": "code",
   "execution_count": 25,
   "metadata": {},
   "outputs": [
    {
     "name": "stdout",
     "output_type": "stream",
     "text": [
      "<function <lambda> at 0x0000014F7844D800>\n"
     ]
    }
   ],
   "source": [
    "f = lambda x:x**2 + 10\n",
    "print(f)"
   ]
  },
  {
   "cell_type": "code",
   "execution_count": 27,
   "metadata": {},
   "outputs": [
    {
     "data": {
      "text/plain": [
       "154"
      ]
     },
     "execution_count": 27,
     "metadata": {},
     "output_type": "execute_result"
    }
   ],
   "source": [
    "f(12)"
   ]
  },
  {
   "cell_type": "markdown",
   "metadata": {},
   "source": [
    "```\n",
    "g(a,b)=a+b*b/2"
   ]
  },
  {
   "cell_type": "code",
   "execution_count": 30,
   "metadata": {},
   "outputs": [
    {
     "data": {
      "text/plain": [
       "20.0"
      ]
     },
     "execution_count": 30,
     "metadata": {},
     "output_type": "execute_result"
    }
   ],
   "source": [
    "g = lambda a,b: a+b/2\n",
    "g(10,20)"
   ]
  },
  {
   "cell_type": "markdown",
   "metadata": {},
   "source": [
    "map and filter function with lambda function"
   ]
  },
  {
   "cell_type": "code",
   "execution_count": 32,
   "metadata": {},
   "outputs": [
    {
     "data": {
      "text/plain": [
       "<map at 0x14f78184070>"
      ]
     },
     "execution_count": 32,
     "metadata": {},
     "output_type": "execute_result"
    }
   ],
   "source": [
    "data =[\"1\",\"5\",\"7\"]\n",
    "map(int,data) # lazy object"
   ]
  },
  {
   "cell_type": "code",
   "execution_count": 34,
   "metadata": {},
   "outputs": [
    {
     "data": {
      "text/plain": [
       "[1, 5, 7]"
      ]
     },
     "execution_count": 34,
     "metadata": {},
     "output_type": "execute_result"
    }
   ],
   "source": [
    "data =[\"1\",\"5\",\"7\"]\n",
    "list(map(int,data))   # lazy object"
   ]
  },
  {
   "cell_type": "code",
   "execution_count": 37,
   "metadata": {},
   "outputs": [],
   "source": [
    "result = [int (i)for i in data]"
   ]
  },
  {
   "cell_type": "code",
   "execution_count": 39,
   "metadata": {},
   "outputs": [
    {
     "data": {
      "text/plain": [
       "[2, 4, 6, 8, 38, 112, 64]"
      ]
     },
     "execution_count": 39,
     "metadata": {},
     "output_type": "execute_result"
    }
   ],
   "source": [
    "data =[1,2,3,4,19,56,32]\n",
    "list(map(lambda n:n*2,data))"
   ]
  },
  {
   "cell_type": "code",
   "execution_count": 40,
   "metadata": {},
   "outputs": [
    {
     "name": "stdout",
     "output_type": "stream",
     "text": [
      "2\n",
      "4\n",
      "6\n",
      "8\n",
      "38\n",
      "112\n",
      "64\n"
     ]
    }
   ],
   "source": [
    "for i in map(lambda n:n*2,data):\n",
    "    print(i)"
   ]
  },
  {
   "cell_type": "markdown",
   "metadata": {},
   "source": [
    "generator"
   ]
  },
  {
   "cell_type": "code",
   "execution_count": 2,
   "metadata": {},
   "outputs": [],
   "source": [
    "def getlength(*args):\n",
    "    for item in args:\n",
    "        yield len(item)"
   ]
  },
  {
   "cell_type": "code",
   "execution_count": 3,
   "metadata": {},
   "outputs": [
    {
     "data": {
      "text/plain": [
       "{4, 5, 6}"
      ]
     },
     "execution_count": 3,
     "metadata": {},
     "output_type": "execute_result"
    }
   ],
   "source": [
    "set(getlength(\"apple\",\"banana\",\"cherry\",\"word\"))"
   ]
  },
  {
   "cell_type": "code",
   "execution_count": null,
   "metadata": {},
   "outputs": [],
   "source": []
  }
 ],
 "metadata": {
  "kernelspec": {
   "display_name": "base",
   "language": "python",
   "name": "python3"
  },
  "language_info": {
   "codemirror_mode": {
    "name": "ipython",
    "version": 3
   },
   "file_extension": ".py",
   "mimetype": "text/x-python",
   "name": "python",
   "nbconvert_exporter": "python",
   "pygments_lexer": "ipython3",
   "version": "3.12.4"
  }
 },
 "nbformat": 4,
 "nbformat_minor": 2
}
