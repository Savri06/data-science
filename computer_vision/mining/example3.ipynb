{
 "cells": [
  {
   "cell_type": "code",
   "execution_count": 4,
   "metadata": {},
   "outputs": [],
   "source": [
    "from dputils.scrape import Scraper, Tag"
   ]
  },
  {
   "cell_type": "code",
   "execution_count": 12,
   "metadata": {},
   "outputs": [],
   "source": [
    "def get_url_list_from_amazon(url):\n",
    "    sc = Scraper(url)\n",
    "    urllist=sc.get_repeating_date_from_page(\n",
    "        target = Tag('div', cls='s-result-list'),\n",
    "        items = Tag('div',cls='s-result-item'),\n",
    "        url=Tag('a', cls='a-link-normal',output='href'),\n",
    "    )\n",
    "    return [item['url']for item in urllist if item['url']]"
   ]
  },
  {
   "cell_type": "code",
   "execution_count": 11,
   "metadata": {},
   "outputs": [
    {
     "data": {
      "text/plain": [
       "[{'url': 'https://aax-eu.amazon.in/x/c/JN1-aJhxOV4h6olP3dxw3h8AAAGSKX1AoAMAAAH2AQBvbm9fdHhuX2JpZDMgICBvbm9fdHhuX2ltcDEgICBYlUGY/https://www.amazon.in/stores/page/D4FF818A-6C20-480D-960F-8ABAA178C71B/?_encoding=UTF8&store_ref=SB_A1034153KHL56M2RAWLC-A016707833EA2OADGJBS6&pd_rd_plhdr=t&aaxitk=067d11349f9fe49292c6a62faa753564&hsa_cr_id=0&lp_asins=B0DDTZF6G1%2CB0DDTXJ2MX%2CB0DDTXW9WH&lp_query=mobile%205g&lp_slot=auto-sparkle-hsa-tetris&ref_=sbx_be_s_sparkle_lsi4d_bkgd&pd_rd_w=64J1r&content-id=amzn1.sym.df9fe057-524b-4172-ac34-9a1b3c4e647d%3Aamzn1.sym.df9fe057-524b-4172-ac34-9a1b3c4e647d&pf_rd_p=df9fe057-524b-4172-ac34-9a1b3c4e647d&pf_rd_r=6W00B4Z8AVDNCPVCXVSJ&pd_rd_wg=uiiBf&pd_rd_r=6ae2698a-09b0-44e7-949b-cf228e35dffa'},\n",
       " {'url': None},\n",
       " {'url': '/sspa/click?ie=UTF8&spc=MTozMzg3ODU2Mjc1NjQxNzAxOjE3MjcyNzI5Mjc6c3BfYXRmOjMwMDE5MzUwNTg4ODQzMjo6MDo6&url=%2FiQOO-Storage-Snapdragon-6000mAh-FlashCharge%2Fdp%2FB07WFPMJBH%2Fref%3Dsr_1_1_sspa%3Fcrid%3D284JTY1CYCYLQ%26dib%3DeyJ2IjoiMSJ9.2vaHYCliE3wMVavwBcAKgKzwKMC5JcwAR8CUhkFY0xcEmTtEHTn9qabglTcaC8ap6OZE7BLWsLrk-laD9miLt4EwRB47ekdHJaTWRJN3ZcW11Rw33lY7M_cJvibGHnK21bkWfWkyfRvKbQiWI407YDUBASPYeKd1Yqnj7Zj1Wf327wy21mZVCEfGPD7uZzCmvXH1Q1AiPIIGhTl63UPxUCHDQ7cWE6dL2fAU6dKfmSM.4vBfUdfUaA0CC9NI0xcuHABXFoD4528stC-6rCvS4CM%26dib_tag%3Dse%26keywords%3Dmobile%2B5g%26qid%3D1727272927%26sprefix%3Dmob%252Caps%252C317%26sr%3D8-1-spons%26sp_csd%3Dd2lkZ2V0TmFtZT1zcF9hdGY%26psc%3D1'},\n",
       " {'url': '/sspa/click?ie=UTF8&spc=MTozMzg3ODU2Mjc1NjQxNzAxOjE3MjcyNzI5Mjc6c3BfYXRmOjMwMDM0NjYzNTMzMzEzMjo6MDo6&url=%2FiQOO-Titanium-Ultra-Thin-Dimesity-Processor%2Fdp%2FB07WHS99FG%2Fref%3Dsr_1_2_sspa%3Fcrid%3D284JTY1CYCYLQ%26dib%3DeyJ2IjoiMSJ9.2vaHYCliE3wMVavwBcAKgKzwKMC5JcwAR8CUhkFY0xcEmTtEHTn9qabglTcaC8ap6OZE7BLWsLrk-laD9miLt4EwRB47ekdHJaTWRJN3ZcW11Rw33lY7M_cJvibGHnK21bkWfWkyfRvKbQiWI407YDUBASPYeKd1Yqnj7Zj1Wf327wy21mZVCEfGPD7uZzCmvXH1Q1AiPIIGhTl63UPxUCHDQ7cWE6dL2fAU6dKfmSM.4vBfUdfUaA0CC9NI0xcuHABXFoD4528stC-6rCvS4CM%26dib_tag%3Dse%26keywords%3Dmobile%2B5g%26qid%3D1727272927%26sprefix%3Dmob%252Caps%252C317%26sr%3D8-2-spons%26sp_csd%3Dd2lkZ2V0TmFtZT1zcF9hdGY%26psc%3D1'},\n",
       " {'url': '/Redmi-Startrail-Storage-MediaTek-Dimensity/dp/B0CNX82VVQ/ref=sr_1_3?crid=284JTY1CYCYLQ&dib=eyJ2IjoiMSJ9.2vaHYCliE3wMVavwBcAKgKzwKMC5JcwAR8CUhkFY0xcEmTtEHTn9qabglTcaC8ap6OZE7BLWsLrk-laD9miLt4EwRB47ekdHJaTWRJN3ZcW11Rw33lY7M_cJvibGHnK21bkWfWkyfRvKbQiWI407YDUBASPYeKd1Yqnj7Zj1Wf327wy21mZVCEfGPD7uZzCmvXH1Q1AiPIIGhTl63UPxUCHDQ7cWE6dL2fAU6dKfmSM.4vBfUdfUaA0CC9NI0xcuHABXFoD4528stC-6rCvS4CM&dib_tag=se&keywords=mobile+5g&qid=1727272927&sprefix=mob%2Caps%2C317&sr=8-3'},\n",
       " {'url': '/Redmi-Starlight-Storage-MediaTek-Dimensity/dp/B0CNX89QR8/ref=sr_1_4?crid=284JTY1CYCYLQ&dib=eyJ2IjoiMSJ9.2vaHYCliE3wMVavwBcAKgKzwKMC5JcwAR8CUhkFY0xcEmTtEHTn9qabglTcaC8ap6OZE7BLWsLrk-laD9miLt4EwRB47ekdHJaTWRJN3ZcW11Rw33lY7M_cJvibGHnK21bkWfWkyfRvKbQiWI407YDUBASPYeKd1Yqnj7Zj1Wf327wy21mZVCEfGPD7uZzCmvXH1Q1AiPIIGhTl63UPxUCHDQ7cWE6dL2fAU6dKfmSM.4vBfUdfUaA0CC9NI0xcuHABXFoD4528stC-6rCvS4CM&dib_tag=se&keywords=mobile+5g&qid=1727272927&sprefix=mob%2Caps%2C317&sr=8-4'},\n",
       " {'url': '/iQOO-Storage-Dimensity-Camera-Charger/dp/B07WHQS4LB/ref=sr_1_5?crid=284JTY1CYCYLQ&dib=eyJ2IjoiMSJ9.2vaHYCliE3wMVavwBcAKgKzwKMC5JcwAR8CUhkFY0xcEmTtEHTn9qabglTcaC8ap6OZE7BLWsLrk-laD9miLt4EwRB47ekdHJaTWRJN3ZcW11Rw33lY7M_cJvibGHnK21bkWfWkyfRvKbQiWI407YDUBASPYeKd1Yqnj7Zj1Wf327wy21mZVCEfGPD7uZzCmvXH1Q1AiPIIGhTl63UPxUCHDQ7cWE6dL2fAU6dKfmSM.4vBfUdfUaA0CC9NI0xcuHABXFoD4528stC-6rCvS4CM&dib_tag=se&keywords=mobile+5g&qid=1727272927&sprefix=mob%2Caps%2C317&sr=8-5'},\n",
       " {'url': 'https://aax-eu.amazon.in/x/c/JPBnbGJuVAzUTxi3AXZXSUEAAAGSKX1AmAMAAAH2AQBvbm9fdHhuX2JpZDMgICBvbm9fdHhuX2ltcDEgICCtFvjT/https://www.amazon.in/dp/B0D78WCNZZ?pd_rd_i=B0D78WCNZZ&pf_rd_p=288d7cd9-bdfb-4778-882a-c15de0f76151&pf_rd_r=6W00B4Z8AVDNCPVCXVSJ&pd_rd_wg=DjjWE&pd_rd_w=LauCy&pd_rd_r=82d38195-d337-4f85-b62a-c6b76348cc5a'},\n",
       " {'url': None},\n",
       " {'url': '/Redmi-Startrail-Storage-MediaTek-Dimensity/dp/B0CNX6WVG5/ref=sr_1_6?crid=284JTY1CYCYLQ&dib=eyJ2IjoiMSJ9.2vaHYCliE3wMVavwBcAKgKzwKMC5JcwAR8CUhkFY0xcEmTtEHTn9qabglTcaC8ap6OZE7BLWsLrk-laD9miLt4EwRB47ekdHJaTWRJN3ZcW11Rw33lY7M_cJvibGHnK21bkWfWkyfRvKbQiWI407YDUBASPYeKd1Yqnj7Zj1Wf327wy21mZVCEfGPD7uZzCmvXH1Q1AiPIIGhTl63UPxUCHDQ7cWE6dL2fAU6dKfmSM.4vBfUdfUaA0CC9NI0xcuHABXFoD4528stC-6rCvS4CM&dib_tag=se&keywords=mobile+5g&qid=1727272927&sprefix=mob%2Caps%2C317&sr=8-6'},\n",
       " {'url': '/POCO-Orion-Blue-128GB-Storage/dp/B0CQVRKCSY/ref=sr_1_7?crid=284JTY1CYCYLQ&dib=eyJ2IjoiMSJ9.2vaHYCliE3wMVavwBcAKgKzwKMC5JcwAR8CUhkFY0xcEmTtEHTn9qabglTcaC8ap6OZE7BLWsLrk-laD9miLt4EwRB47ekdHJaTWRJN3ZcW11Rw33lY7M_cJvibGHnK21bkWfWkyfRvKbQiWI407YDUBASPYeKd1Yqnj7Zj1Wf327wy21mZVCEfGPD7uZzCmvXH1Q1AiPIIGhTl63UPxUCHDQ7cWE6dL2fAU6dKfmSM.4vBfUdfUaA0CC9NI0xcuHABXFoD4528stC-6rCvS4CM&dib_tag=se&keywords=mobile+5g&qid=1727272927&sprefix=mob%2Caps%2C317&sr=8-7'},\n",
       " {'url': '/POCO-Dimensity-Processor-Dual-Camera-Fingerprint/dp/B0CQVPXW4C/ref=sr_1_8?crid=284JTY1CYCYLQ&dib=eyJ2IjoiMSJ9.2vaHYCliE3wMVavwBcAKgKzwKMC5JcwAR8CUhkFY0xcEmTtEHTn9qabglTcaC8ap6OZE7BLWsLrk-laD9miLt4EwRB47ekdHJaTWRJN3ZcW11Rw33lY7M_cJvibGHnK21bkWfWkyfRvKbQiWI407YDUBASPYeKd1Yqnj7Zj1Wf327wy21mZVCEfGPD7uZzCmvXH1Q1AiPIIGhTl63UPxUCHDQ7cWE6dL2fAU6dKfmSM.4vBfUdfUaA0CC9NI0xcuHABXFoD4528stC-6rCvS4CM&dib_tag=se&keywords=mobile+5g&qid=1727272927&sprefix=mob%2Caps%2C317&sr=8-8'},\n",
       " {'url': '/iQOO-Storage-Dimensity-Camera-Charger/dp/B07WJTB99S/ref=sr_1_9?crid=284JTY1CYCYLQ&dib=eyJ2IjoiMSJ9.2vaHYCliE3wMVavwBcAKgKzwKMC5JcwAR8CUhkFY0xcEmTtEHTn9qabglTcaC8ap6OZE7BLWsLrk-laD9miLt4EwRB47ekdHJaTWRJN3ZcW11Rw33lY7M_cJvibGHnK21bkWfWkyfRvKbQiWI407YDUBASPYeKd1Yqnj7Zj1Wf327wy21mZVCEfGPD7uZzCmvXH1Q1AiPIIGhTl63UPxUCHDQ7cWE6dL2fAU6dKfmSM.4vBfUdfUaA0CC9NI0xcuHABXFoD4528stC-6rCvS4CM&dib_tag=se&keywords=mobile+5g&qid=1727272927&sprefix=mob%2Caps%2C317&sr=8-9'},\n",
       " {'url': '/Nokia-Snapdragon%C2%AE-Virtual-Upgrades-Included/dp/B0CDXHYHZ6/ref=sr_1_10?crid=284JTY1CYCYLQ&dib=eyJ2IjoiMSJ9.2vaHYCliE3wMVavwBcAKgKzwKMC5JcwAR8CUhkFY0xcEmTtEHTn9qabglTcaC8ap6OZE7BLWsLrk-laD9miLt4EwRB47ekdHJaTWRJN3ZcW11Rw33lY7M_cJvibGHnK21bkWfWkyfRvKbQiWI407YDUBASPYeKd1Yqnj7Zj1Wf327wy21mZVCEfGPD7uZzCmvXH1Q1AiPIIGhTl63UPxUCHDQ7cWE6dL2fAU6dKfmSM.4vBfUdfUaA0CC9NI0xcuHABXFoD4528stC-6rCvS4CM&dib_tag=se&keywords=mobile+5g&qid=1727272927&sprefix=mob%2Caps%2C317&sr=8-10'},\n",
       " {'url': '/sspa/click?ie=UTF8&spc=MTozMzg3ODU2Mjc1NjQxNzAxOjE3MjcyNzI5Mjc6c3BfbXRmOjMwMDExODY0NjI2NDgzMjo6MDo6&url=%2FRedmi-Storage-Bezel-Less-Slimmest-Pro-Grade%2Fdp%2FB0CQPGG8KG%2Fref%3Dsr_1_11_sspa%3Fcrid%3D284JTY1CYCYLQ%26dib%3DeyJ2IjoiMSJ9.2vaHYCliE3wMVavwBcAKgKzwKMC5JcwAR8CUhkFY0xcEmTtEHTn9qabglTcaC8ap6OZE7BLWsLrk-laD9miLt4EwRB47ekdHJaTWRJN3ZcW11Rw33lY7M_cJvibGHnK21bkWfWkyfRvKbQiWI407YDUBASPYeKd1Yqnj7Zj1Wf327wy21mZVCEfGPD7uZzCmvXH1Q1AiPIIGhTl63UPxUCHDQ7cWE6dL2fAU6dKfmSM.4vBfUdfUaA0CC9NI0xcuHABXFoD4528stC-6rCvS4CM%26dib_tag%3Dse%26keywords%3Dmobile%2B5g%26qid%3D1727272927%26sprefix%3Dmob%252Caps%252C317%26sr%3D8-11-spons%26sp_csd%3Dd2lkZ2V0TmFtZT1zcF9tdGY%26psc%3D1'},\n",
       " {'url': '/sspa/click?ie=UTF8&spc=MTozMzg3ODU2Mjc1NjQxNzAxOjE3MjcyNzI5Mjc6c3BfbXRmOjMwMDMzNjk5NTE4OTIzMjo6MDo6&url=%2Frealme-Segments-Dimensity-Motorsports-Inspired%2Fdp%2FB0DDTXJ2MX%2Fref%3Dsr_1_12_sspa%3Fcrid%3D284JTY1CYCYLQ%26dib%3DeyJ2IjoiMSJ9.2vaHYCliE3wMVavwBcAKgKzwKMC5JcwAR8CUhkFY0xcEmTtEHTn9qabglTcaC8ap6OZE7BLWsLrk-laD9miLt4EwRB47ekdHJaTWRJN3ZcW11Rw33lY7M_cJvibGHnK21bkWfWkyfRvKbQiWI407YDUBASPYeKd1Yqnj7Zj1Wf327wy21mZVCEfGPD7uZzCmvXH1Q1AiPIIGhTl63UPxUCHDQ7cWE6dL2fAU6dKfmSM.4vBfUdfUaA0CC9NI0xcuHABXFoD4528stC-6rCvS4CM%26dib_tag%3Dse%26keywords%3Dmobile%2B5g%26qid%3D1727272927%26sprefix%3Dmob%252Caps%252C317%26sr%3D8-12-spons%26sp_csd%3Dd2lkZ2V0TmFtZT1zcF9tdGY%26psc%3D1'},\n",
       " {'url': '/OnePlus-Nord-Chromatic-128GB-Storage/dp/B0BY8MCQ9S/ref=sr_1_13?crid=284JTY1CYCYLQ&dib=eyJ2IjoiMSJ9.2vaHYCliE3wMVavwBcAKgKzwKMC5JcwAR8CUhkFY0xcEmTtEHTn9qabglTcaC8ap6OZE7BLWsLrk-laD9miLt4EwRB47ekdHJaTWRJN3ZcW11Rw33lY7M_cJvibGHnK21bkWfWkyfRvKbQiWI407YDUBASPYeKd1Yqnj7Zj1Wf327wy21mZVCEfGPD7uZzCmvXH1Q1AiPIIGhTl63UPxUCHDQ7cWE6dL2fAU6dKfmSM.4vBfUdfUaA0CC9NI0xcuHABXFoD4528stC-6rCvS4CM&dib_tag=se&keywords=mobile+5g&qid=1727272927&sprefix=mob%2Caps%2C317&sr=8-13'},\n",
       " {'url': '/realme-Storage-Chipset-Comfort-Display/dp/B0D3GX1VFM/ref=sr_1_14?crid=284JTY1CYCYLQ&dib=eyJ2IjoiMSJ9.2vaHYCliE3wMVavwBcAKgKzwKMC5JcwAR8CUhkFY0xcEmTtEHTn9qabglTcaC8ap6OZE7BLWsLrk-laD9miLt4EwRB47ekdHJaTWRJN3ZcW11Rw33lY7M_cJvibGHnK21bkWfWkyfRvKbQiWI407YDUBASPYeKd1Yqnj7Zj1Wf327wy21mZVCEfGPD7uZzCmvXH1Q1AiPIIGhTl63UPxUCHDQ7cWE6dL2fAU6dKfmSM.4vBfUdfUaA0CC9NI0xcuHABXFoD4528stC-6rCvS4CM&dib_tag=se&keywords=mobile+5g&qid=1727272927&sprefix=mob%2Caps%2C317&sr=8-14'},\n",
       " {'url': '/Redmi-Orchid-Largest-Display-Segment/dp/B0D78W2HF5/ref=sr_1_15?crid=284JTY1CYCYLQ&dib=eyJ2IjoiMSJ9.2vaHYCliE3wMVavwBcAKgKzwKMC5JcwAR8CUhkFY0xcEmTtEHTn9qabglTcaC8ap6OZE7BLWsLrk-laD9miLt4EwRB47ekdHJaTWRJN3ZcW11Rw33lY7M_cJvibGHnK21bkWfWkyfRvKbQiWI407YDUBASPYeKd1Yqnj7Zj1Wf327wy21mZVCEfGPD7uZzCmvXH1Q1AiPIIGhTl63UPxUCHDQ7cWE6dL2fAU6dKfmSM.4vBfUdfUaA0CC9NI0xcuHABXFoD4528stC-6rCvS4CM&dib_tag=se&keywords=mobile+5g&qid=1727272927&sprefix=mob%2Caps%2C317&sr=8-15'},\n",
       " {'url': '/Samsung-Galaxy-Jazzy-Green-Storage/dp/B0CY8D33MQ/ref=sr_1_16?crid=284JTY1CYCYLQ&dib=eyJ2IjoiMSJ9.2vaHYCliE3wMVavwBcAKgKzwKMC5JcwAR8CUhkFY0xcEmTtEHTn9qabglTcaC8ap6OZE7BLWsLrk-laD9miLt4EwRB47ekdHJaTWRJN3ZcW11Rw33lY7M_cJvibGHnK21bkWfWkyfRvKbQiWI407YDUBASPYeKd1Yqnj7Zj1Wf327wy21mZVCEfGPD7uZzCmvXH1Q1AiPIIGhTl63UPxUCHDQ7cWE6dL2fAU6dKfmSM.4vBfUdfUaA0CC9NI0xcuHABXFoD4528stC-6rCvS4CM&dib_tag=se&keywords=mobile+5g&qid=1727272927&sprefix=mob%2Caps%2C317&sr=8-16'},\n",
       " {'url': '/iQOO-Titanium-Ultra-Thin-Dimesity-Processor/dp/B07WHS99FG/ref=sr_1_17?crid=284JTY1CYCYLQ&dib=eyJ2IjoiMSJ9.2vaHYCliE3wMVavwBcAKgKzwKMC5JcwAR8CUhkFY0xcEmTtEHTn9qabglTcaC8ap6OZE7BLWsLrk-laD9miLt4EwRB47ekdHJaTWRJN3ZcW11Rw33lY7M_cJvibGHnK21bkWfWkyfRvKbQiWI407YDUBASPYeKd1Yqnj7Zj1Wf327wy21mZVCEfGPD7uZzCmvXH1Q1AiPIIGhTl63UPxUCHDQ7cWE6dL2fAU6dKfmSM.4vBfUdfUaA0CC9NI0xcuHABXFoD4528stC-6rCvS4CM&dib_tag=se&keywords=mobile+5g&qid=1727272927&sprefix=mob%2Caps%2C317&sr=8-17'},\n",
       " {'url': '/Motorola-Viva-Magenta-128GB-Storage/dp/B0DDY9XDJS/ref=sr_1_18?crid=284JTY1CYCYLQ&dib=eyJ2IjoiMSJ9.2vaHYCliE3wMVavwBcAKgKzwKMC5JcwAR8CUhkFY0xcEmTtEHTn9qabglTcaC8ap6OZE7BLWsLrk-laD9miLt4EwRB47ekdHJaTWRJN3ZcW11Rw33lY7M_cJvibGHnK21bkWfWkyfRvKbQiWI407YDUBASPYeKd1Yqnj7Zj1Wf327wy21mZVCEfGPD7uZzCmvXH1Q1AiPIIGhTl63UPxUCHDQ7cWE6dL2fAU6dKfmSM.4vBfUdfUaA0CC9NI0xcuHABXFoD4528stC-6rCvS4CM&dib_tag=se&keywords=mobile+5g&qid=1727272927&sprefix=mob%2Caps%2C317&sr=8-18'},\n",
       " {'url': '/Redmi-Jade-Black-8GB-256GB/dp/B0C9J97S7Q/ref=sr_1_19?crid=284JTY1CYCYLQ&dib=eyJ2IjoiMSJ9.2vaHYCliE3wMVavwBcAKgKzwKMC5JcwAR8CUhkFY0xcEmTtEHTn9qabglTcaC8ap6OZE7BLWsLrk-laD9miLt4EwRB47ekdHJaTWRJN3ZcW11Rw33lY7M_cJvibGHnK21bkWfWkyfRvKbQiWI407YDUBASPYeKd1Yqnj7Zj1Wf327wy21mZVCEfGPD7uZzCmvXH1Q1AiPIIGhTl63UPxUCHDQ7cWE6dL2fAU6dKfmSM.4vBfUdfUaA0CC9NI0xcuHABXFoD4528stC-6rCvS4CM&dib_tag=se&keywords=mobile+5g&qid=1727272927&sprefix=mob%2Caps%2C317&sr=8-19'},\n",
       " {'url': '/realme-Storage-Display-Dimensity-Charger/dp/B0CZS3B3PY/ref=sr_1_20?crid=284JTY1CYCYLQ&dib=eyJ2IjoiMSJ9.2vaHYCliE3wMVavwBcAKgKzwKMC5JcwAR8CUhkFY0xcEmTtEHTn9qabglTcaC8ap6OZE7BLWsLrk-laD9miLt4EwRB47ekdHJaTWRJN3ZcW11Rw33lY7M_cJvibGHnK21bkWfWkyfRvKbQiWI407YDUBASPYeKd1Yqnj7Zj1Wf327wy21mZVCEfGPD7uZzCmvXH1Q1AiPIIGhTl63UPxUCHDQ7cWE6dL2fAU6dKfmSM.4vBfUdfUaA0CC9NI0xcuHABXFoD4528stC-6rCvS4CM&dib_tag=se&keywords=mobile+5g&qid=1727272927&sprefix=mob%2Caps%2C317&sr=8-20'},\n",
       " {'url': '/sspa/click?ie=UTF8&spc=MTozMzg3ODU2Mjc1NjQxNzAxOjE3MjcyNzI5Mjc6c3BfYnRmOjMwMDE0MTY1NTY3MzYzMjo6MDo6&url=%2FiQOO-Conqueror-Snapdragon-processor-Supercomputing%2Fdp%2FB07WFPLWFB%2Fref%3Dsr_1_21_sspa%3Fcrid%3D284JTY1CYCYLQ%26dib%3DeyJ2IjoiMSJ9.2vaHYCliE3wMVavwBcAKgKzwKMC5JcwAR8CUhkFY0xcEmTtEHTn9qabglTcaC8ap6OZE7BLWsLrk-laD9miLt4EwRB47ekdHJaTWRJN3ZcW11Rw33lY7M_cJvibGHnK21bkWfWkyfRvKbQiWI407YDUBASPYeKd1Yqnj7Zj1Wf327wy21mZVCEfGPD7uZzCmvXH1Q1AiPIIGhTl63UPxUCHDQ7cWE6dL2fAU6dKfmSM.4vBfUdfUaA0CC9NI0xcuHABXFoD4528stC-6rCvS4CM%26dib_tag%3Dse%26keywords%3Dmobile%2B5g%26qid%3D1727272927%26sprefix%3Dmob%252Caps%252C317%26sr%3D8-21-spons%26sp_csd%3Dd2lkZ2V0TmFtZT1zcF9idGY%26psc%3D1'},\n",
       " {'url': '/sspa/click?ie=UTF8&spc=MTozMzg3ODU2Mjc1NjQxNzAxOjE3MjcyNzI5Mjc6c3BfYnRmOjMwMDIyMTYyNDc2OTgzMjo6MDo6&url=%2FToughest-Featured-SUPERVOOC-Additional-Exchange%2Fdp%2FB0D53B6HVF%2Fref%3Dsr_1_22_sspa%3Fcrid%3D284JTY1CYCYLQ%26dib%3DeyJ2IjoiMSJ9.2vaHYCliE3wMVavwBcAKgKzwKMC5JcwAR8CUhkFY0xcEmTtEHTn9qabglTcaC8ap6OZE7BLWsLrk-laD9miLt4EwRB47ekdHJaTWRJN3ZcW11Rw33lY7M_cJvibGHnK21bkWfWkyfRvKbQiWI407YDUBASPYeKd1Yqnj7Zj1Wf327wy21mZVCEfGPD7uZzCmvXH1Q1AiPIIGhTl63UPxUCHDQ7cWE6dL2fAU6dKfmSM.4vBfUdfUaA0CC9NI0xcuHABXFoD4528stC-6rCvS4CM%26dib_tag%3Dse%26keywords%3Dmobile%2B5g%26qid%3D1727272927%26sprefix%3Dmob%252Caps%252C317%26sr%3D8-22-spons%26sp_csd%3Dd2lkZ2V0TmFtZT1zcF9idGY%26psc%3D1'},\n",
       " {'url': '/s?k=mobile&ref=rsl_sug_0_0&pd_rd_w=nOxWa&content-id=amzn1.sym.1b1b0b91-2ab4-483a-868c-962b0b7a6297:amzn1.sym.1b1b0b91-2ab4-483a-868c-962b0b7a6297&pf_rd_p=1b1b0b91-2ab4-483a-868c-962b0b7a6297&pf_rd_r=6W00B4Z8AVDNCPVCXVSJ&pd_rd_wg=ZtGFE&pd_rd_r=72d640e7-c1f9-47cd-9655-6b36461ce43b&qid=1727272927'},\n",
       " {'url': None},\n",
       " {'url': 'https://aax-eu.amazon.in/x/c/JO5QfeEhc7-88Bptzqo3qTMAAAGSKX1BUAMAAAH2AQBvbm9fdHhuX2JpZDIgICBvbm9fdHhuX2ltcDEgICD6hgGd/https://www.amazon.in/stores/page/D4FF818A-6C20-480D-960F-8ABAA178C71B/?_encoding=UTF8&store_ref=SB_A1034153KHL56M2RAWLC-A016707833EA2OADGJBS6&pd_rd_plhdr=t&aaxitk=067d11349f9fe49292c6a62faa753564&hsa_cr_id=0&lp_asins=B0DDTZF6G1%2CB0DDTXJ2MX%2CB0DDTXW9WH&lp_query=mobile%205g&lp_slot=desktop-hsa-3psl&ref_=sbx_be_s_3psl_mbd_mb0_bkgd&pd_rd_w=VC153&content-id=amzn1.sym.f1a4d09d-a292-48da-a86f-03294c9a41ef%3Aamzn1.sym.f1a4d09d-a292-48da-a86f-03294c9a41ef&pf_rd_p=f1a4d09d-a292-48da-a86f-03294c9a41ef&pf_rd_r=6W00B4Z8AVDNCPVCXVSJ&pd_rd_wg=Zb3Dh&pd_rd_r=2d6db61d-60d9-4f59-88d1-6507fb033284'},\n",
       " {'url': '/gp/help/customer/display.html?nodeId=201889520'},\n",
       " {'url': None}]"
      ]
     },
     "execution_count": 11,
     "metadata": {},
     "output_type": "execute_result"
    }
   ],
   "source": [
    "url = 'https://www.amazon.in/s?k=mobile+5g&crid=284JTY1CYCYLQ&sprefix=mob%2Caps%2C317&ref=nb_sb_ss_ts-doa-p_8_3'\n",
    "get_url_list_from_amazon(url)"
   ]
  },
  {
   "cell_type": "markdown",
   "metadata": {},
   "source": [
    "database setup"
   ]
  },
  {
   "cell_type": "code",
   "execution_count": 17,
   "metadata": {},
   "outputs": [],
   "source": [
    "from sqlalchemy import create_engine\n",
    "from sqlalchemy.orm import sessionmaker, declarative_base\n",
    "from sqlalchemy import Column, Integer, String, Boolean\n",
    "\n",
    "Base = declarative_base()\n",
    "\n",
    "class Product(Base):\n",
    "    __tablename__ = 'products'\n",
    "    id = Column(Integer, primary_key=True)\n",
    "    url = Column(String, unique=True)\n",
    "    title = Column(String)\n",
    "    sprice = Column(String)\n",
    "    oprice = Column(String)\n",
    "    reviews = Column(String)\n",
    "\n",
    "engine = create_engine('sqlite:///amazon.db')\n",
    "Base.metadata.create_all(engine)\n",
    "\n",
    "def opendb():\n",
    "    engine = create_engine('sqlite:///amazon.db')\n",
    "    Session = sessionmaker(bind=engine)\n",
    "    session = Session()\n",
    "    return session"
   ]
  },
  {
   "cell_type": "code",
   "execution_count": 15,
   "metadata": {},
   "outputs": [],
   "source": [
    "def get_details_from_url(product_url):\n",
    "    if'html' in product_url:\n",
    "        return None\n",
    "    if product_url.startswith('/'):\n",
    "        base_url ='https://www.amazon.in'\n",
    "        product_url=base_url + product_url\n",
    "    sc = Scraper(product_url)\n",
    "    product = sc.get_data_from_page(\n",
    "        name = Tag('h1', id='title'),\n",
    "        sprice =Tag('span', cls='pricetopay'),\n",
    "        oprice=Tag('span', cls='basisPrice'),\n",
    "        revies = Tag('span', id='acrCustomerReviewText'),\n",
    "    )\n",
    "    return product"
   ]
  },
  {
   "cell_type": "code",
   "execution_count": 19,
   "metadata": {},
   "outputs": [
    {
     "ename": "AttributeError",
     "evalue": "'NoneType' object has no attribute 'strip'",
     "output_type": "error",
     "traceback": [
      "\u001b[1;31m---------------------------------------------------------------------------\u001b[0m",
      "\u001b[1;31mAttributeError\u001b[0m                            Traceback (most recent call last)",
      "Cell \u001b[1;32mIn[19], line 11\u001b[0m\n\u001b[0;32m      6\u001b[0m     \u001b[38;5;28;01mcontinue\u001b[39;00m\n\u001b[0;32m      7\u001b[0m db \u001b[38;5;241m=\u001b[39m opendb()\n\u001b[0;32m      8\u001b[0m item \u001b[38;5;241m=\u001b[39m Product(\n\u001b[0;32m      9\u001b[0m     url \u001b[38;5;241m=\u001b[39m product_url,\n\u001b[0;32m     10\u001b[0m     title \u001b[38;5;241m=\u001b[39m product[\u001b[38;5;124m'\u001b[39m\u001b[38;5;124mname\u001b[39m\u001b[38;5;124m'\u001b[39m]\u001b[38;5;241m.\u001b[39mstrip(),\n\u001b[1;32m---> 11\u001b[0m     sprice \u001b[38;5;241m=\u001b[39m product[\u001b[38;5;124m'\u001b[39m\u001b[38;5;124msprice\u001b[39m\u001b[38;5;124m'\u001b[39m]\u001b[38;5;241m.\u001b[39mstrip(),\n\u001b[0;32m     12\u001b[0m     oprice \u001b[38;5;241m=\u001b[39m product[\u001b[38;5;124m'\u001b[39m\u001b[38;5;124moprice\u001b[39m\u001b[38;5;124m'\u001b[39m]\u001b[38;5;241m.\u001b[39mstrip(),\n\u001b[0;32m     13\u001b[0m     reviews \u001b[38;5;241m=\u001b[39m product[\u001b[38;5;124m'\u001b[39m\u001b[38;5;124mreviews\u001b[39m\u001b[38;5;124m'\u001b[39m]\u001b[38;5;241m.\u001b[39mstrip(),\n\u001b[0;32m     14\u001b[0m )\n\u001b[0;32m     15\u001b[0m \u001b[38;5;28;01mtry\u001b[39;00m:\n\u001b[0;32m     16\u001b[0m     db\u001b[38;5;241m.\u001b[39madd(item)\n",
      "\u001b[1;31mAttributeError\u001b[0m: 'NoneType' object has no attribute 'strip'"
     ]
    }
   ],
   "source": [
    "for product_url in get_url_list_from_amazon(url):\n",
    "    product = get_details_from_url(product_url)\n",
    "    if not product:\n",
    "        continue\n",
    "    if not product['name']:\n",
    "        continue\n",
    "    db = opendb()\n",
    "    item = Product(\n",
    "        url = product_url,\n",
    "        title = product['name'].strip(),\n",
    "        sprice = product['sprice'].strip(),\n",
    "        oprice = product['oprice'].strip(),\n",
    "        reviews = product['reviews'].strip(),\n",
    "    )\n",
    "    try:\n",
    "        db.add(item)\n",
    "        db.commit()\n",
    "    except:\n",
    "        print(\"Product details already in database\")\n",
    "    finally:\n",
    "        db.close()\n",
    "    print(\"Product details added to database\")"
   ]
  },
  {
   "cell_type": "code",
   "execution_count": null,
   "metadata": {},
   "outputs": [],
   "source": []
  }
 ],
 "metadata": {
  "kernelspec": {
   "display_name": "Python 3",
   "language": "python",
   "name": "python3"
  },
  "language_info": {
   "codemirror_mode": {
    "name": "ipython",
    "version": 3
   },
   "file_extension": ".py",
   "mimetype": "text/x-python",
   "name": "python",
   "nbconvert_exporter": "python",
   "pygments_lexer": "ipython3",
   "version": "3.12.4"
  }
 },
 "nbformat": 4,
 "nbformat_minor": 2
}
