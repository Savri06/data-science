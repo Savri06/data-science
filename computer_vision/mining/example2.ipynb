{
 "cells": [
  {
   "cell_type": "code",
   "execution_count": 1,
   "metadata": {},
   "outputs": [],
   "source": [
    "from dputils.scrape import Scraper, Tag"
   ]
  },
  {
   "cell_type": "code",
   "execution_count": 2,
   "metadata": {},
   "outputs": [],
   "source": [
    "url = \"https://www.flipkart.com/motorola-edge-50-neo-pantone-latte-256-gb/p/itm4cecc0a4796eb?pid=MOBHFHDRRCYFE7YJ&lid=LSTMOBHFHDRRCYFE7YJOXS042&marketplace=FLIPKART&store=tyy%2F4io&srno=b_1_1&otracker=clp_bannerads_1_45.bannerAdCard.BANNERADS_Moto%2Bedge%2B50%2Bneo%2B-%2BSale%2BIs%2BLive_mobile-phones-store_9M4FN74LGUIR&fm=organic&iid=en_tCaxZKjqaIdk2EP7nHXbDJr7UimpbFcvboSrL_mdDBCS5GIVUHj4w0W8YXMbsh4ww0Y3LxZ5ZQrVx8Q1L0TqBfUFjCTyOHoHZs-Z5_PS_w0%3D&ppt=clp&ppn=mobile-phones-store&ssid=a3g2dhflc00000001727187636756\"\n",
    "sc = Scraper(url)"
   ]
  },
  {
   "cell_type": "code",
   "execution_count": 3,
   "metadata": {},
   "outputs": [
    {
     "data": {
      "text/plain": [
       "\"  MOTOROLA Edge 50 Neo ( 256 GB Storage, 8 GB RAM ) Online at Best Price On Flipkart.com       Explore PlusLoginBecome a Seller More CartAdd to cart Buy NowHomeMobiles & AccessoriesMobilesMOTOROLA MobilesMOTOROLA Edge 50 Neo (PANTONE Latte, 256 GB) (8 GB RAM)\\nCompareShareMOTOROLA Edge 50 Neo (PANTONE Latte, 256 GB)\\xa0\\xa0(8 GB RAM)4.6360 Ratings\\xa0&\\xa050 ReviewsExtra ₹6000 off₹23,999₹29,99920% offiAvailable offersBank Offer5% Unlimited Cashback on Flipkart Axis Bank Credit CardT&CBank Offer10% off up to ₹1,000 on HDFC Bank Credit Card Transactions. Min Txn Value: ₹7,500T&CBank Offer10% off up to ₹1,500 on HDFC Bank Credit Card EMI Transactions. Min Txn Value: ₹7,500T&CSpecial PriceGet extra ₹6000 off (price inclusive of cashback/coupon)T&CView 5 more offersBuy without Exchange₹23,999Buy with Exchangeup to ₹13,850 offEnter pincode to check if exchange is available1 Year Warranty on Handset and 6 Months Warranty on AccessoriesKnow MoreColorPANTONE GrisaillePANTONE LattePANTONE Nautical BluePANTONE PoincianaPlease select a Color to proceed✕DeliveryCheckEnter pincodeDelivery by27 Sep, Friday|Free₹40?if ordered before 9:53 PMView DetailsHighlights8 GB RAM | 256 GB ROM16.26 cm (6.4 inch) Super HD Display50MP + 13MP + 10MP | 32MP Front Camera4310 mAh BatteryDimensity 7300 ProcessorEasy Payment OptionsNo cost EMI starting from ₹4,000/monthCash on DeliveryNet banking & Credit/ Debit/ ATM cardView DetailsSellerGRAHGOODS RETAIL4.27 Days Service Center Replacement/Repair?GST invoice available?See other sellersDescriptionNARead MoreProduct DescriptionGuaranteed Durablity with MIL-810H Miliary Graded CertifiedCertified to MIL-STD-810H by SGS, this device meets the U.S. Department of Defense's tough durability standards. It's built to endure shocks, vibrations, pressure, dust, extreme temperatures, and salt fog\\nMinimal Design with PANTONE ColoursDesigned in conjunction with Pantone Color Institute, the world’s authority on color, Motorola Edge 50 Neo is available in four specially curated options: PANTONE Poinciana, PANTONE Grisaille, PANTONE Nautical Blue, and PANTONE Latte.\\n50 MP Quad Pixel Camera with Sony LYTIA 700C SensorThe 50MP Ultra Pixel camera, featuring the Sony LYTIA 700C sensor, uses Quad Pixel Technology to deliver vivid, detailed images. It excels in night photography with optical image stabilization and offers versatile lens options, including a telephoto, a 13 MP ultrawide, and a 32 MP selfie camera.\\n10 MP Telephoto Camera with 30X AI Super ZoomCapture distant subjects with precision using the dedicated telephoto camera, featuring 3x optical zoom and 30x hybrid zoom. With Optical Image Stabilization and Moto AI, you’ll get sharp, detailed shots even at maximum zoom.\\nA New Class of Display with 3000 nits BrightnessThe Motorola Edge 50 Neo’s 16.25 cm (6.4) pOLED LTPO Super HD display offers 1.5K resolution, HDR10+ brightness up to 3000 nits, deeper blacks, and cinematic colors with DCI-P3 and 10-bit. LTPO tech dynamically adjusts refresh rates, optimizing battery life.\\nGoogle Photos IntegrationGoogle Photos is your go-to place for all your photos and videos, providing seamless backup and smart organization. With advanced AI tools like Magic Editor, Magic Eraser, and Photo Unblur, enhancing your photos has never been easier.\\nTurboPower and Wireless ChargingNever stop creating with the Moto Edge 50 Neo. Charge from 0% to 50% in just 15 minutes with 68 W TurboPower, and enjoy worry-free battery life with its 4310 mAh battery. Get up to X hours of playback, recording, or streaming in 12 minutes, plus 15W wireless charging for added convenience.\\nMediaTek Dimensity 7300Equipped with the advanced MediaTek Dimensity 7300 and 12 GB RAM, this device ensures top performance for years. Enjoy five years of software support, Android upgrades, and AI innovations. With 512 GB storage (or 256GB), you have ample space for all your creations.\\nFreedom with Hello UI SoftwareHello UI sets itself apart with unique features like Customization and Moto Unplugged. These elements resonate strongly with the audience, ensuring the software experience is communicated effectively, even without highlighting every detail.\\nView all featuresSpecificationsGeneralIn The BoxHandset, TurboPower 68W Charger, USB Type C Cable or USB Type C to USB Type C Cable, Guides, Sim Tool, Protective CaseModel NumberPB330002INModel NameEdge 50 NeoColorPANTONE LatteBrowse TypeSmartphonesSIM TypeDual SimHybrid Sim SlotNoTouchscreenYesOTG CompatibleYesQuick ChargingYesSound EnhancementsDual Stereo Speakers, Dolby AtmosDisplay FeaturesDisplay Size16.26 cm (6.4 inch)Resolution2712 x 1220 PixelsResolution TypeSuper HDGPUArm Mali-G615 MC2Display TypeSuper HD 1.5KDisplay Colors10 Bit, Over a Billion Shades of ColorOther Display FeaturesAMOLED, LTPO, HDR10+, 100% DCI-P3 Color Space, 120Hz Refresh Rate, HDR Peak Brightness: 2800nits, Touch Sampling Rate: 360HzOs & Processor FeaturesOperating SystemAndroid 14Processor BrandMediatekProcessor TypeDimensity 7300Processor CoreOcta CorePrimary Clock Speed2.5 GHzSecondary Clock Speed2 GHzOperating Frequency5G: n1/n2/n3/n5/n7/n8/n20/n28/n38/n40/n41/n66/n77/n77 HPUE/n78/n78 HPUE, 4G LTE: B1/B2/B3/B4/B5/B7/B8/B12/B13/B17/B18/B19/B20/B25/B26/B28/B32/B38/B38 HPUE/B39/B40/B41/B41 HPUE/B42/B43/B48/B66, 3G WCDMA: B1/B2/B4/B5/B8/B19, 2G GSM: B2/B3/B5/B8Memory & Storage FeaturesInternal Storage256 GBRAM8 GBCamera FeaturesPrimary Camera AvailableYesPrimary Camera50MP + 13MP + 10MPPrimary Camera FeaturesTriple Camera Setup: 50MP Main Camera (f/1.8 Aperture, 1.0um Pixel Size (Ultra Pixel Technology for 2.0um, Quad PDAF, Optical Image Stabilization (OIS)) + 13MP Ultrawide Angle (FOV: 120 Degree, Macro Vision, f/2.2 Aperture, 1.12um Pixel Size, PDAF) + 10MP Telephoto Camera (3X Optical Zoom, f/2.0 Aperture, 1.0um Pixel Size, PDAF, Optical Image Stabilization (OIS)), Features: Ultra Res, Portrait (24mm/35mm/50mm), Pro (W/ Long Exposure), 360 Degree Panorama, Night Vision, Adobe Scan, Burst Shot, Timer, RAW, HDR, Google Auto Enhance, Google Photos Editing: Magic Eraser, Photo Unblur, Magic Editor, Portrait Blur, Portrait Light, Sky, Color Pop, Cinematic Photos, Video Feature: Timelapse (W/ Hyperlapse), Slow Motion, Dual Capture Video, Horizon LockSecondary Camera AvailableYesSecondary Camera32MP Front CameraSecondary Camera FeaturesFront Camera Setup: 32MP (Auto Focus, f/2.4 Aperture, 0.7um Pixel Size, Quad Pixel Technology for 1.4um), Feature: Google Auto Enhance, Auto Smile Capture, Gesture Capture, Video Feature: Live Filters, External Microphone SupportFlashRear: LED FlashHD RecordingYesFull HD RecordingYesVideo RecordingYesVideo Recording ResolutionRear Camera: Main Camera (4K UHD (at 30 fps), FHD (at 60 fps/at 30 fps)), Slow Motion: FHD (at 240 fps/at 120 fps), Portrait Video: HD (at 30 fps), Rear Ultra Wide/Macro Camera: 4K UHD (at 30 fps), FHD (at 30 fps)|Front Camera: 4K UHD (at 30 fps), FHD (at 30 fps)Frame Rate240 fps, 120 fps, 60 fps, 30 fpsDual Camera LensPrimary CameraCall FeaturesVideo Call SupportYesSpeaker PhoneYesConnectivity FeaturesNetwork Type5G, 4G, 3G, 2GSupported Networks5G, 4G LTE, WCDMA, GSMInternet Connectivity5G, 4G, 3G, EDGE, Wi-Fi3GYesMicro USB PortYesMicro USB VersionType C Port (USB 2.0)Bluetooth SupportYesBluetooth Versionv5.2Wi-FiYesWi-Fi VersionWi-Fi 802.11 a/b/g/n/ac/ax (2.4 GHz | 5 GHz | 6 GHz), Wi-Fi 6EWi-Fi HotspotYesNFCYesUSB ConnectivityYesEDGEYesGPS SupportYesOther DetailsSmartphoneYesSMSYesGraphics PPI460 PPISensorsProximity Sensor, Ambient Light Sensor, Accelerometer, Gyroscope, SAR Sensor, Sensor Hub, Mobile Hotspot, Magnetometer (E-Compass)Upgradable Operating System5 OS Upgrade and 5 Year SMRsOther FeaturesRAM Boost 3.0, UFS 2.2 Storage, Body: PU/Vegan Leather, Protection: IP68 Underwater Protection, MIL-STD 810H Environmental Protection, Display Certification: SGS Blue Light Reduction, SGS Motion Blur Reduction, 68W TurboPower, 15W Wireless Charging, Dual Microphones, Security: On Screen Fingerprint Reader, ThinkShield, Voice Control: Google AssistantGPS TypeGPS, AGPS, LTEPP, SUPL, GLONASS, GALILEOMultimedia FeaturesFM RadioNoFM Radio RecordingNoBattery & Power FeaturesBattery Capacity4310 mAhDimensionsWidth71.2 mmHeight154.1 mmDepth8.1 mmWeight171 gWarrantyWarranty Summary1 Year Warranty on Handset and 6 Months Warranty on AccessoriesDomestic Warranty1 YearRead MoreFrequently Bought TogetherMOTOROLA Edge 50 Neo (PANTONE Latte, 256 GB)4.6(360)₹23,999₹29,99920% offKWINE CASE Back Cover for Moto Edge 50 Neo₹293Flipkart SmartBuy Edge To Edge Tempered Glass for Moto Edge 50 Ne...1(3)₹2951 Item₹23,9992 Add-ons₹588Total₹24,587Add 3 Items to CartRatings & ReviewsRate Product4.6★360 Ratings &50 Reviews5★4★3★2★1★27652123174.4Camera3.9Battery4.8Display4.7Design+ 335Terrific purchaseThis feels really very premium Quality is good at this price point along with 5 years update. The camera is quite good as it offers 3X optical zoom Touch and finish feels premium Charging speed is Really fast with a 68 watt charger Moto gestures are a big Plus It's like an iphone of the Android offering a 5 year update. Must buy if You are looking for an all rounder phoneREAD MOREParduman  RanaCertified Buyer, Dharmshala6 days ago10513PermalinkReport Abuse5Must buy!I recently purchased the Motorola Edge 50 Neo ❤️, and it has exceeded my expectations! The sleek design and vibrant display make for a stunning visual experience, while the performance is incredibly smooth, handling all apps and games effortlessly. The camera quality is fantastic, capturing sharp and vivid photos even in low light. Battery life is impressive, lasting through a full day of heavy use. I also love the clean Android experience without any bloatware. Overall, this phone offers ama...READ MOREAman Rajput Certified Buyer, Noida6 days ago12326PermalinkReport Abuse5Great productGood product moto nice work 💯💯READ MOREPranjal  Tomar Certified Buyer, Baraut6 days ago110PermalinkReport Abuse5Highly recommendedGood phoneREAD MOREFlipkart CustomerCertified Buyer, Bengaluru6 days ago376PermalinkReport Abuse5AwesomeCamera 4/5Battery 4/5Display 5/5Performance 5/5Superb phone overall satisfied, go for it...😍READ MOREVikash KumarCertified Buyer, Patna7 days ago5110PermalinkReport Abuse5AwesomeDisplay is amazing . Phone is Very compact . Battery should be atleast 4.700 mah . Otherwise Everything is great .READ MORENavodit  LakraCertified Buyer, Hazaribagh4 days ago60PermalinkReport Abuse5WonderfulHere's a review based on  experience:*Motorola Edge 50 Neo Review: A Solid PerformerRating: 4.5/5I've spent 24 hours with the Motorola Edge 50 Neo, and here's my initial impression:*Pros:*1. *Decent Design*: The phone looks sleek and premium, with a comfortable grip.2. *Impressive Camera*: The camera performance is impressive, capturing crisp and detailed photos.3. *Smooth Performance*: The device handles everyday tasks seamlessly, with no noticeable lag.4. *Feature-Packed*: Co...READ MOREFlipkart CustomerCertified Buyer, Burla4 days ago226PermalinkReport Abuse5Perfect product!Ordered 16th September and delivered on 18th. Camera performance is very good. Size and weight is fabulous. Screen quality excellent. Battery draing quite faster.READ MOREPrasenjeet SinhaCertified Buyer, Durgapur.5 days ago81PermalinkReport Abuse5TerrificIt's been 3 days now, I'm using this in pantone latte colour, everything is just as good as promised by moto. Great job Motorola. Worth buying. Adding some camera samples, do checkout.READ MOREPrashant SinghCertified Buyer, New Delhi2 days ago40PermalinkReport Abuse5Classy productCrazy ,compact ,mind blowing today received the phone before the timeline  phone is exceptional value for money used s22 and had been a samsung user since 2009 this is first phone They have done a lot of research it is a premium handset I wanted a compact light weight fast water proof phone this is made for India .this phone seems to be subsidised by samsung the premium on another phones support the profitability of this phone it is impossible to have so much at this price insane pricing I ...READ MOREvasant khotCertified Buyer, Mumbai6 days ago50PermalinkReport Abuse+All 50 reviewsHave doubts regarding this product?Post your questionSafe and Secure Payments.Easy returns.100% Authentic products.You might be interested inPower BanksMin. 50% OffShop NowWired EarphonesMin. 50% OffShop NowMemory CardsMin. 50% OffShop NowWall ChargersMin. 50% OffShop NowTop Stories:Brand DirectoryMOST SEARCHED IN Mobiles & Accessories:ASUS ZENFONE 5 A501CG REVIEWGIONEE ELIFE S5.1 PRICE IN INDIAINTEX Y2IRIS X5MICROMAX FIRE 2 PRICECANVAS KNIGHT 2 PRICEI PHONESBLACKBERRY PRICEHTC WEBSITEMOTOROLA NEW PHONESONY LATEST MOBILEPANASONIC ELUGA S PRICEREDMI 1S BUYSAMSUNG ALPHA 4G PRICE IN INDIAGALAXY GRAND PRICESONY XPERIA M5 PRICE IN INDIASONY Z PRICETABLET WITH CALLING FACILITYXIAOMI POWER BANK 16000MAHXOLO OMEGA 5.5 PRICEAPPLE 6 PRICEHONOR 8 PRO BLACKAPPLE INDIA PRICEMOBILE PHONE UNDER 1000MICROMAX NEW SMARTPHONEMI ANDROID PHONEMOTO C PLUS PRICENOKIA E72SAMSUNG EDGE PRICE IN INDIASONY SMART PHONEABOUTContact UsAbout UsCareersFlipkart StoriesPressCorporate InformationGROUP COMPANIESMyntraCleartripShopsyHELPPaymentsShippingCancellation & ReturnsFAQReport InfringementCONSUMER POLICYCancellation & ReturnsTerms Of UseSecurityPrivacySitemapGrievance RedressalEPR ComplianceMail Us:Flipkart Internet Private Limited, \\n Buildings Alyssa, Begonia & \\n Clove Embassy Tech Village, \\n Outer Ring Road, Devarabeesanahalli Village, \\n Bengaluru, 560103, \\n Karnataka, India\\nSocialRegistered Office Address:Flipkart Internet Private Limited, \\n Buildings Alyssa, Begonia & \\n Clove Embassy Tech Village, \\n Outer Ring Road, Devarabeesanahalli Village, \\n Bengaluru, 560103, \\n Karnataka, India \\n CIN : U51109KA2012PTC066107 \\n Telephone: 044-45614700 / 044-67415800\\nBecome a SellerAdvertiseGift CardsHelp Center© 2007-2024 Flipkart.comBack to top   \\n \\n\\n\\n\""
      ]
     },
     "execution_count": 3,
     "metadata": {},
     "output_type": "execute_result"
    }
   ],
   "source": [
    "sc.soup.text"
   ]
  },
  {
   "cell_type": "code",
   "execution_count": 14,
   "metadata": {},
   "outputs": [
    {
     "data": {
      "text/plain": [
       "{'title': 'MOTOROLA Edge 50 Neo (PANTONE Latte, 256 GB)\\xa0\\xa0(8 GB RAM)',\n",
       " 'price': '₹23,999',\n",
       " 'discount': '20% off',\n",
       " 'rr_count': '360 Ratings\\xa0&\\xa050 Reviews',\n",
       " 'ar_count': '4.6',\n",
       " 'assured': None,\n",
       " 'img_url': 'https://rukminim2.flixcart.com/image/416/416/xif0q/mobile/c/c/y/edge-50-neo-pb330002in-motorola-original-imah4px93edhaprj.jpeg?q=70&crop=false'}"
      ]
     },
     "execution_count": 14,
     "metadata": {},
     "output_type": "execute_result"
    }
   ],
   "source": [
    "title = Tag('h1')\n",
    "price = Tag('div',cls=\"Nx9bqj CxhGGd\")\n",
    "discount= Tag('div', cls= \"UkUFwK WW8yVX\")\n",
    "rating_reviews = Tag('span',cls=\"Wphh3N\")\n",
    "average_rating = Tag('div', cls= \"XQDdHH\")\n",
    "assured = Tag('span', cls=\"LctmNn\")\n",
    "img = Tag('img', cls=\"DByuf4 IZexXJ jLEJ7H\", output=\"src\")\n",
    "sc.get_data_from_page(title=title, price=price,\n",
    "                      discount=discount,\n",
    "                      rr_count=rating_reviews,\n",
    "                      ar_count=average_rating,\n",
    "                      assured = assured,\n",
    "                      img_url = img\n",
    ")"
   ]
  },
  {
   "cell_type": "code",
   "execution_count": null,
   "metadata": {},
   "outputs": [],
   "source": []
  }
 ],
 "metadata": {
  "kernelspec": {
   "display_name": "Python 3",
   "language": "python",
   "name": "python3"
  },
  "language_info": {
   "codemirror_mode": {
    "name": "ipython",
    "version": 3
   },
   "file_extension": ".py",
   "mimetype": "text/x-python",
   "name": "python",
   "nbconvert_exporter": "python",
   "pygments_lexer": "ipython3",
   "version": "3.12.4"
  }
 },
 "nbformat": 4,
 "nbformat_minor": 2
}
