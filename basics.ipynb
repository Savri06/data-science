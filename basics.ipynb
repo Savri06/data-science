{
 "cells": [
  {
   "cell_type": "markdown",
   "metadata": {},
   "source": [
    "# basics \n",
    "- variables\n",
    "- operators\n",
    "- datatypes\n",
    "- input/output"
   ]
  },
  {
   "cell_type": "code",
   "execution_count": 21,
   "metadata": {},
   "outputs": [],
   "source": [
    "x = 4\n",
    "a , b = 20, 10\n",
    "c = a + b"
   ]
  },
  {
   "cell_type": "code",
   "execution_count": 22,
   "metadata": {},
   "outputs": [],
   "source": [
    "l = 5\n",
    "b = 10\n",
    "area = l * b"
   ]
  },
  {
   "cell_type": "code",
   "execution_count": 23,
   "metadata": {},
   "outputs": [],
   "source": [
    "p = 400\n",
    "r = 4\n",
    "t = 2\n",
    "si = p*r*t"
   ]
  },
  {
   "cell_type": "code",
   "execution_count": 24,
   "metadata": {},
   "outputs": [],
   "source": [
    "page_size = 2"
   ]
  },
  {
   "cell_type": "code",
   "execution_count": 25,
   "metadata": {},
   "outputs": [],
   "source": [
    "del x"
   ]
  },
  {
   "cell_type": "markdown",
   "metadata": {},
   "source": [
    "# operators\n",
    "- assignment\n",
    "- arithmetic\n",
    "- comparison\n",
    "- logical \n",
    "- membership\n",
    "- identity"
   ]
  },
  {
   "cell_type": "code",
   "execution_count": 26,
   "metadata": {},
   "outputs": [],
   "source": [
    "# assignment = += -= *= /= etc\n",
    "x = 10\n",
    "x += 5\n",
    "x -= 6\n",
    "x *= 3\n",
    "x /= 2"
   ]
  },
  {
   "cell_type": "code",
   "execution_count": 27,
   "metadata": {},
   "outputs": [],
   "source": [
    "# arithmetic + - * / % ** //\n",
    "a = 10\n",
    "b = 3"
   ]
  },
  {
   "cell_type": "code",
   "execution_count": 28,
   "metadata": {},
   "outputs": [
    {
     "data": {
      "text/plain": [
       "13"
      ]
     },
     "execution_count": 28,
     "metadata": {},
     "output_type": "execute_result"
    }
   ],
   "source": [
    "a+b"
   ]
  },
  {
   "cell_type": "code",
   "execution_count": 29,
   "metadata": {},
   "outputs": [
    {
     "data": {
      "text/plain": [
       "7"
      ]
     },
     "execution_count": 29,
     "metadata": {},
     "output_type": "execute_result"
    }
   ],
   "source": [
    "a-b"
   ]
  },
  {
   "cell_type": "code",
   "execution_count": 30,
   "metadata": {},
   "outputs": [
    {
     "name": "stdout",
     "output_type": "stream",
     "text": [
      "3\n",
      "1\n",
      "1000\n"
     ]
    }
   ],
   "source": [
    "print(a // b) # integer division\n",
    "print(a % b) # remainder(modulo)\n",
    "print(a ** b) # exponentiation"
   ]
  },
  {
   "cell_type": "code",
   "execution_count": 31,
   "metadata": {},
   "outputs": [
    {
     "data": {
      "text/plain": [
       "3"
      ]
     },
     "execution_count": 31,
     "metadata": {},
     "output_type": "execute_result"
    }
   ],
   "source": [
    "a//b"
   ]
  },
  {
   "cell_type": "code",
   "execution_count": 32,
   "metadata": {},
   "outputs": [
    {
     "name": "stdout",
     "output_type": "stream",
     "text": [
      "False\n",
      "True\n",
      "False\n",
      "True\n",
      "False\n",
      "True\n"
     ]
    }
   ],
   "source": [
    "# comparison < > >= <= == !=\n",
    "x = 20\n",
    "y = 30\n",
    "\n",
    "print(x > y) # gt\n",
    "print(x < y) # lt\n",
    "print(x >= 100) # gte\n",
    "print(x <= 100) #lte\n",
    "print(x == 100) # equality\n",
    "print(x != 100) # not\n",
    "\n"
   ]
  },
  {
   "cell_type": "code",
   "execution_count": 33,
   "metadata": {},
   "outputs": [
    {
     "name": "stdout",
     "output_type": "stream",
     "text": [
      "False\n",
      "True\n",
      "True\n",
      "True\n",
      "False\n",
      "True\n"
     ]
    }
   ],
   "source": [
    "# logical -> and or not\n",
    "print(x > 10 and y >50)\n",
    "print(x > 10 and y < 50)\n",
    "print(x > 10 or y < 50)\n",
    "print( x< 10 or y < 50)\n",
    "print(not x > 5)\n",
    "print(not x < 5)"
   ]
  },
  {
   "cell_type": "code",
   "execution_count": 34,
   "metadata": {},
   "outputs": [
    {
     "name": "stdout",
     "output_type": "stream",
     "text": [
      "True\n",
      "False\n",
      "False\n",
      "True\n"
     ]
    }
   ],
   "source": [
    "# membership -> in, not in\n",
    "x=[1,2,3,4,5,6,7]\n",
    " \n",
    "print(5 in x)\n",
    "print(10 in x)\n",
    "print(3 not in x)\n",
    "print(10 not in x)"
   ]
  },
  {
   "cell_type": "code",
   "execution_count": 35,
   "metadata": {},
   "outputs": [
    {
     "name": "stdout",
     "output_type": "stream",
     "text": [
      "True\n",
      "False\n",
      "False\n"
     ]
    }
   ],
   "source": [
    "# identity -> is, is not\n",
    "a = [1,2,3,4]\n",
    "b = a\n",
    "c =[1,2,3,4]\n",
    "print(a is b)\n",
    "print(a is c)\n",
    "print(a is c)\n"
   ]
  },
  {
   "cell_type": "markdown",
   "metadata": {},
   "source": [
    "# datatypes\n",
    "- int (integer)\n",
    "- float (real number)\n",
    "- bool ( boolean)\n",
    "- str (string or text)\n",
    "- nonetype (none)\n",
    "- list\n",
    "- tuple\n",
    "- set\n",
    "- dict( dictionary)"
   ]
  },
  {
   "cell_type": "code",
   "execution_count": 36,
   "metadata": {},
   "outputs": [],
   "source": [
    "num = 5   # \n",
    "name = \"savri anand\"\n",
    "pi = 3.1234\n",
    "sleepy = True\n",
    "data = None\n",
    "a_list = [1,2,3,4,5]\n",
    "a_tuple = [1,2,3,4,5]\n",
    "a_set = {1,2,3,4,5}\n",
    "a_dict = {'a' :10, 'b' :20}"
   ]
  },
  {
   "cell_type": "code",
   "execution_count": 37,
   "metadata": {},
   "outputs": [
    {
     "name": "stdout",
     "output_type": "stream",
     "text": [
      "<class 'str'>\n"
     ]
    }
   ],
   "source": [
    "print(type(name))"
   ]
  },
  {
   "cell_type": "markdown",
   "metadata": {},
   "source": [
    "# displaying output and getting input"
   ]
  },
  {
   "cell_type": "code",
   "execution_count": 3,
   "metadata": {},
   "outputs": [
    {
     "name": "stdout",
     "output_type": "stream",
     "text": [
      "\n",
      "hello\n",
      "example print() with multiple arguments\n",
      "example_print()_with_multiple_arguments\n",
      "example_print()_with_multiple_arguments\n",
      "c:/users/savri/desktop\n"
     ]
    }
   ],
   "source": [
    "print()\n",
    "print('hello')\n",
    "print('example','print()','with','multiple','arguments')\n",
    "print('example','print()','with','multiple','arguments', sep='_')\n",
    "print('example','print()','with','multiple','arguments', sep='_')\n",
    "print('c:', 'users','savri','desktop', sep='/')\n"
   ]
  },
  {
   "cell_type": "code",
   "execution_count": 6,
   "metadata": {},
   "outputs": [
    {
     "name": "stdout",
     "output_type": "stream",
     "text": [
      "['apple', 'mango', 'cherry']\n",
      "apple\n",
      "mango\n",
      "cherry\n"
     ]
    }
   ],
   "source": [
    "fruits = ['apple', 'mango','cherry']\n",
    "print(fruits)\n",
    "print(*fruits,sep='\\n') # hack to print the items in new lines"
   ]
  },
  {
   "cell_type": "code",
   "execution_count": 9,
   "metadata": {},
   "outputs": [
    {
     "name": "stdout",
     "output_type": "stream",
     "text": [
      "result=> 10 + 20 = 30\n",
      "result => 10 + 20 = 30\n"
     ]
    }
   ],
   "source": [
    "a,b, = 10, 20\n",
    "c = a + b\n",
    "# result => 10 + 20 = 30\n",
    "print('result=>',a,'+', b, '=', c) # comma seprated\n",
    "print(f'result => {a} + {b} = {c}') # f-string"
   ]
  },
  {
   "cell_type": "code",
   "execution_count": 12,
   "metadata": {},
   "outputs": [
    {
     "name": "stdout",
     "output_type": "stream",
     "text": [
      "so you are, 200, i have been expecting you?\n"
     ]
    }
   ],
   "source": [
    "x = int(input())\n",
    "name = input(\"who are you?\")\n",
    "print(f\"so you are, { name}, i have been expecting you?\")"
   ]
  },
  {
   "cell_type": "code",
   "execution_count": 16,
   "metadata": {},
   "outputs": [
    {
     "name": "stdout",
     "output_type": "stream",
     "text": [
      "simple interest calculation\n",
      "principal => 200\n",
      "rate of interest => 100.0\n",
      "time(yrs) => 200\n",
      "------------------------------\n",
      "simple interest will be => 40000.0\n"
     ]
    }
   ],
   "source": [
    "p = int (input(\"enter the principal amount\"))\n",
    "r = float(input(\"enter the rate of interest:\"))\n",
    "t = int (input(\" enter the time in year:\"))\n",
    "si = p*r*t/100\n",
    "print(\"simple interest calculation\")\n",
    "print(f'principal => {p}')\n",
    "print(f'rate of interest => {r}')\n",
    "print(f'time(yrs) => {t}')\n",
    "print(\"---\"*10)\n",
    "print(f'simple interest will be => {si}')"
   ]
  },
  {
   "cell_type": "markdown",
   "metadata": {},
   "source": [
    "alignment and formatng"
   ]
  },
  {
   "cell_type": "code",
   "execution_count": 20,
   "metadata": {},
   "outputs": [
    {
     "name": "stdout",
     "output_type": "stream",
     "text": [
      "journey\n",
      "journey\n",
      "                                                                                             journey\n",
      "                                              journey                                               \n",
      "200\n",
      "            200\n",
      "200            \n",
      "      200      \n",
      "         200.00\n",
      " 200.000000\n"
     ]
    }
   ],
   "source": [
    "word ='journey'\n",
    "print(word)\n",
    "print(f\"{word}\")\n",
    "print(f\"{word:>100}\") # right align\n",
    "print(f\"{word:^100}\") # center align\n",
    "num = 200\n",
    "print(f\"{num}\")\n",
    "print(f\"{num:15}\")\n",
    "print(f\"{num:<15}\")\n",
    "print(f\"{num:^15}\")\n",
    "print(f\"{num:15.2f}\")\n",
    "print(f\"{num: 3f}\")"
   ]
  },
  {
   "cell_type": "code",
   "execution_count": 27,
   "metadata": {},
   "outputs": [
    {
     "name": "stdout",
     "output_type": "stream",
     "text": [
      "simple interest calculation\n",
      "------------------------------\n",
      "principal =>                  200\n",
      "rate of interest              100.0\n",
      "time(yrs) =>                  200\n",
      "------------------------------\n",
      "simple interest will be =>    40000.0\n"
     ]
    }
   ],
   "source": [
    "\n",
    "print(\"simple interest calculation\")\n",
    "print(\"---\"*10)\n",
    "print(f'principal => {p:20}')\n",
    "print(f'rate of interest {r:18}')\n",
    "print(f'time(yrs) => {t:20}')\n",
    "print(\"---\"*10)\n",
    "print(f'simple interest will be => {si:10}')"
   ]
  },
  {
   "cell_type": "code",
   "execution_count": 30,
   "metadata": {},
   "outputs": [
    {
     "name": "stdout",
     "output_type": "stream",
     "text": [
      "volume of square\n",
      "---30\n",
      "side=>                 80\n",
      "volume =>             512000\n"
     ]
    }
   ],
   "source": [
    "#volume of square\n",
    "side= int(input(\"enter side\"))\n",
    "volume = side*side*side\n",
    "print(\"volume of square\")\n",
    "print(\"---30\")\n",
    "print(f\"side=> {side:18}\")\n",
    "print(f\"volume => {volume:18}\")\n"
   ]
  },
  {
   "cell_type": "code",
   "execution_count": null,
   "metadata": {},
   "outputs": [],
   "source": []
  }
 ],
 "metadata": {
  "kernelspec": {
   "display_name": "Python 3",
   "language": "python",
   "name": "python3"
  },
  "language_info": {
   "codemirror_mode": {
    "name": "ipython",
    "version": 3
   },
   "file_extension": ".py",
   "mimetype": "text/x-python",
   "name": "python",
   "nbconvert_exporter": "python",
   "pygments_lexer": "ipython3",
   "version": "3.12.4"
  }
 },
 "nbformat": 4,
 "nbformat_minor": 2
}
